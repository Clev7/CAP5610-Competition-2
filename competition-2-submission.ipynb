{
 "cells": [
  {
   "cell_type": "code",
   "execution_count": 1,
   "id": "f7e38077",
   "metadata": {
    "_cell_guid": "b1076dfc-b9ad-4769-8c92-a6c4dae69d19",
    "_uuid": "8f2839f25d086af736a60e9eeb907d3b93b6e0e5",
    "execution": {
     "iopub.execute_input": "2022-11-28T02:25:04.791913Z",
     "iopub.status.busy": "2022-11-28T02:25:04.791314Z",
     "iopub.status.idle": "2022-11-28T02:25:06.281000Z",
     "shell.execute_reply": "2022-11-28T02:25:06.276729Z"
    },
    "papermill": {
     "duration": 1.515503,
     "end_time": "2022-11-28T02:25:06.283912",
     "exception": false,
     "start_time": "2022-11-28T02:25:04.768409",
     "status": "completed"
    },
    "tags": []
   },
   "outputs": [
    {
     "name": "stdout",
     "output_type": "stream",
     "text": [
      "/kaggle/input/spaceship-titanic/sample_submission.csv\n",
      "/kaggle/input/spaceship-titanic/train.csv\n",
      "/kaggle/input/spaceship-titanic/test.csv\n"
     ]
    }
   ],
   "source": [
    "# This Python 3 environment comes with many helpful analytics libraries installed\n",
    "# It is defined by the kaggle/python Docker image: https://github.com/kaggle/docker-python\n",
    "# For example, here's several helpful packages to load\n",
    "\n",
    "import numpy as np # linear algebra\n",
    "import pandas as pd # data processing, CSV file I/O (e.g. pd.read_csv)\n",
    "pd.set_option('display.max_rows', 100)\n",
    "pd.set_option('display.max_columns', 100)\n",
    "\n",
    "import missingno as msno\n",
    "import matplotlib.pyplot as plt\n",
    "%matplotlib inline\n",
    "import seaborn as sns\n",
    "sns.set_theme()\n",
    "\n",
    "# Used for converting categorical data columns to Numerical\n",
    "from sklearn.preprocessing import LabelEncoder\n",
    "\n",
    "from sklearn.linear_model import LogisticRegression\n",
    "from sklearn.svm import SVC, LinearSVC\n",
    "from sklearn.ensemble import RandomForestClassifier\n",
    "from sklearn.neighbors import KNeighborsClassifier\n",
    "from sklearn.naive_bayes import GaussianNB\n",
    "from sklearn.linear_model import Perceptron\n",
    "from sklearn.neural_network import MLPClassifier\n",
    "from sklearn.linear_model import SGDClassifier\n",
    "from sklearn.tree import DecisionTreeClassifier\n",
    "from sklearn import tree\n",
    "\n",
    "# Input data files are available in the read-only \"../input/\" directory\n",
    "# For example, running this (by clicking run or pressing Shift+Enter) will list all files under the input directory\n",
    "\n",
    "import os\n",
    "for dirname, _, filenames in os.walk('/kaggle/input'):\n",
    "    for filename in filenames:\n",
    "        print(os.path.join(dirname, filename))\n",
    "\n",
    "# You can write up to 20GB to the current directory (/kaggle/working/) that gets preserved as output when you create a version using \"Save & Run All\" \n",
    "# You can also write temporary files to /kaggle/temp/, but they won't be saved outside of the current session"
   ]
  },
  {
   "cell_type": "code",
   "execution_count": 2,
   "id": "8df046af",
   "metadata": {
    "execution": {
     "iopub.execute_input": "2022-11-28T02:25:06.321891Z",
     "iopub.status.busy": "2022-11-28T02:25:06.321517Z",
     "iopub.status.idle": "2022-11-28T02:25:06.332144Z",
     "shell.execute_reply": "2022-11-28T02:25:06.330679Z"
    },
    "papermill": {
     "duration": 0.0318,
     "end_time": "2022-11-28T02:25:06.334064",
     "exception": false,
     "start_time": "2022-11-28T02:25:06.302264",
     "status": "completed"
    },
    "tags": []
   },
   "outputs": [
    {
     "name": "stdout",
     "output_type": "stream",
     "text": [
      "/kaggle/src/script.ipynb\n",
      "/kaggle/lib/kaggle/gcp.py\n",
      "/kaggle/input/spaceship-titanic/sample_submission.csv\n",
      "/kaggle/input/spaceship-titanic/train.csv\n",
      "/kaggle/input/spaceship-titanic/test.csv\n",
      "/kaggle/working/__notebook__.ipynb\n"
     ]
    }
   ],
   "source": [
    "for dirname, _, filenames in os.walk('/kaggle'):\n",
    "    for filename in filenames:\n",
    "        print(os.path.join(dirname, filename))"
   ]
  },
  {
   "cell_type": "markdown",
   "id": "91ece9f4",
   "metadata": {
    "papermill": {
     "duration": 0.022292,
     "end_time": "2022-11-28T02:25:06.374106",
     "exception": false,
     "start_time": "2022-11-28T02:25:06.351814",
     "status": "completed"
    },
    "tags": []
   },
   "source": [
    "## Workflow Steps\n",
    "\n",
    "1. Data Exploration and Visualization\n",
    "2. Data Wrangling\n",
    "3. Making models"
   ]
  },
  {
   "cell_type": "markdown",
   "id": "3ff34200",
   "metadata": {
    "papermill": {
     "duration": 0.018515,
     "end_time": "2022-11-28T02:25:06.413632",
     "exception": false,
     "start_time": "2022-11-28T02:25:06.395117",
     "status": "completed"
    },
    "tags": []
   },
   "source": [
    "### Data Exploration and Visualization"
   ]
  },
  {
   "cell_type": "code",
   "execution_count": 3,
   "id": "ab3252b3",
   "metadata": {
    "execution": {
     "iopub.execute_input": "2022-11-28T02:25:06.453850Z",
     "iopub.status.busy": "2022-11-28T02:25:06.452972Z",
     "iopub.status.idle": "2022-11-28T02:25:06.596969Z",
     "shell.execute_reply": "2022-11-28T02:25:06.596048Z"
    },
    "papermill": {
     "duration": 0.165884,
     "end_time": "2022-11-28T02:25:06.599916",
     "exception": false,
     "start_time": "2022-11-28T02:25:06.434032",
     "status": "completed"
    },
    "tags": []
   },
   "outputs": [
    {
     "data": {
      "text/html": [
       "<div>\n",
       "<style scoped>\n",
       "    .dataframe tbody tr th:only-of-type {\n",
       "        vertical-align: middle;\n",
       "    }\n",
       "\n",
       "    .dataframe tbody tr th {\n",
       "        vertical-align: top;\n",
       "    }\n",
       "\n",
       "    .dataframe thead th {\n",
       "        text-align: right;\n",
       "    }\n",
       "</style>\n",
       "<table border=\"1\" class=\"dataframe\">\n",
       "  <thead>\n",
       "    <tr style=\"text-align: right;\">\n",
       "      <th></th>\n",
       "      <th>PassengerId</th>\n",
       "      <th>HomePlanet</th>\n",
       "      <th>CryoSleep</th>\n",
       "      <th>Cabin</th>\n",
       "      <th>Destination</th>\n",
       "      <th>Age</th>\n",
       "      <th>VIP</th>\n",
       "      <th>RoomService</th>\n",
       "      <th>FoodCourt</th>\n",
       "      <th>ShoppingMall</th>\n",
       "      <th>Spa</th>\n",
       "      <th>VRDeck</th>\n",
       "      <th>Name</th>\n",
       "      <th>Transported</th>\n",
       "    </tr>\n",
       "  </thead>\n",
       "  <tbody>\n",
       "    <tr>\n",
       "      <th>0</th>\n",
       "      <td>0001_01</td>\n",
       "      <td>Europa</td>\n",
       "      <td>False</td>\n",
       "      <td>B/0/P</td>\n",
       "      <td>TRAPPIST-1e</td>\n",
       "      <td>39.0</td>\n",
       "      <td>False</td>\n",
       "      <td>0.0</td>\n",
       "      <td>0.0</td>\n",
       "      <td>0.0</td>\n",
       "      <td>0.0</td>\n",
       "      <td>0.0</td>\n",
       "      <td>Maham Ofracculy</td>\n",
       "      <td>False</td>\n",
       "    </tr>\n",
       "    <tr>\n",
       "      <th>1</th>\n",
       "      <td>0002_01</td>\n",
       "      <td>Earth</td>\n",
       "      <td>False</td>\n",
       "      <td>F/0/S</td>\n",
       "      <td>TRAPPIST-1e</td>\n",
       "      <td>24.0</td>\n",
       "      <td>False</td>\n",
       "      <td>109.0</td>\n",
       "      <td>9.0</td>\n",
       "      <td>25.0</td>\n",
       "      <td>549.0</td>\n",
       "      <td>44.0</td>\n",
       "      <td>Juanna Vines</td>\n",
       "      <td>True</td>\n",
       "    </tr>\n",
       "    <tr>\n",
       "      <th>2</th>\n",
       "      <td>0003_01</td>\n",
       "      <td>Europa</td>\n",
       "      <td>False</td>\n",
       "      <td>A/0/S</td>\n",
       "      <td>TRAPPIST-1e</td>\n",
       "      <td>58.0</td>\n",
       "      <td>True</td>\n",
       "      <td>43.0</td>\n",
       "      <td>3576.0</td>\n",
       "      <td>0.0</td>\n",
       "      <td>6715.0</td>\n",
       "      <td>49.0</td>\n",
       "      <td>Altark Susent</td>\n",
       "      <td>False</td>\n",
       "    </tr>\n",
       "    <tr>\n",
       "      <th>3</th>\n",
       "      <td>0003_02</td>\n",
       "      <td>Europa</td>\n",
       "      <td>False</td>\n",
       "      <td>A/0/S</td>\n",
       "      <td>TRAPPIST-1e</td>\n",
       "      <td>33.0</td>\n",
       "      <td>False</td>\n",
       "      <td>0.0</td>\n",
       "      <td>1283.0</td>\n",
       "      <td>371.0</td>\n",
       "      <td>3329.0</td>\n",
       "      <td>193.0</td>\n",
       "      <td>Solam Susent</td>\n",
       "      <td>False</td>\n",
       "    </tr>\n",
       "    <tr>\n",
       "      <th>4</th>\n",
       "      <td>0004_01</td>\n",
       "      <td>Earth</td>\n",
       "      <td>False</td>\n",
       "      <td>F/1/S</td>\n",
       "      <td>TRAPPIST-1e</td>\n",
       "      <td>16.0</td>\n",
       "      <td>False</td>\n",
       "      <td>303.0</td>\n",
       "      <td>70.0</td>\n",
       "      <td>151.0</td>\n",
       "      <td>565.0</td>\n",
       "      <td>2.0</td>\n",
       "      <td>Willy Santantines</td>\n",
       "      <td>True</td>\n",
       "    </tr>\n",
       "    <tr>\n",
       "      <th>5</th>\n",
       "      <td>0005_01</td>\n",
       "      <td>Earth</td>\n",
       "      <td>False</td>\n",
       "      <td>F/0/P</td>\n",
       "      <td>PSO J318.5-22</td>\n",
       "      <td>44.0</td>\n",
       "      <td>False</td>\n",
       "      <td>0.0</td>\n",
       "      <td>483.0</td>\n",
       "      <td>0.0</td>\n",
       "      <td>291.0</td>\n",
       "      <td>0.0</td>\n",
       "      <td>Sandie Hinetthews</td>\n",
       "      <td>True</td>\n",
       "    </tr>\n",
       "    <tr>\n",
       "      <th>6</th>\n",
       "      <td>0006_01</td>\n",
       "      <td>Earth</td>\n",
       "      <td>False</td>\n",
       "      <td>F/2/S</td>\n",
       "      <td>TRAPPIST-1e</td>\n",
       "      <td>26.0</td>\n",
       "      <td>False</td>\n",
       "      <td>42.0</td>\n",
       "      <td>1539.0</td>\n",
       "      <td>3.0</td>\n",
       "      <td>0.0</td>\n",
       "      <td>0.0</td>\n",
       "      <td>Billex Jacostaffey</td>\n",
       "      <td>True</td>\n",
       "    </tr>\n",
       "    <tr>\n",
       "      <th>7</th>\n",
       "      <td>0006_02</td>\n",
       "      <td>Earth</td>\n",
       "      <td>True</td>\n",
       "      <td>G/0/S</td>\n",
       "      <td>TRAPPIST-1e</td>\n",
       "      <td>28.0</td>\n",
       "      <td>False</td>\n",
       "      <td>0.0</td>\n",
       "      <td>0.0</td>\n",
       "      <td>0.0</td>\n",
       "      <td>0.0</td>\n",
       "      <td>NaN</td>\n",
       "      <td>Candra Jacostaffey</td>\n",
       "      <td>True</td>\n",
       "    </tr>\n",
       "    <tr>\n",
       "      <th>8</th>\n",
       "      <td>0007_01</td>\n",
       "      <td>Earth</td>\n",
       "      <td>False</td>\n",
       "      <td>F/3/S</td>\n",
       "      <td>TRAPPIST-1e</td>\n",
       "      <td>35.0</td>\n",
       "      <td>False</td>\n",
       "      <td>0.0</td>\n",
       "      <td>785.0</td>\n",
       "      <td>17.0</td>\n",
       "      <td>216.0</td>\n",
       "      <td>0.0</td>\n",
       "      <td>Andona Beston</td>\n",
       "      <td>True</td>\n",
       "    </tr>\n",
       "    <tr>\n",
       "      <th>9</th>\n",
       "      <td>0008_01</td>\n",
       "      <td>Europa</td>\n",
       "      <td>True</td>\n",
       "      <td>B/1/P</td>\n",
       "      <td>55 Cancri e</td>\n",
       "      <td>14.0</td>\n",
       "      <td>False</td>\n",
       "      <td>0.0</td>\n",
       "      <td>0.0</td>\n",
       "      <td>0.0</td>\n",
       "      <td>0.0</td>\n",
       "      <td>0.0</td>\n",
       "      <td>Erraiam Flatic</td>\n",
       "      <td>True</td>\n",
       "    </tr>\n",
       "    <tr>\n",
       "      <th>10</th>\n",
       "      <td>0008_02</td>\n",
       "      <td>Europa</td>\n",
       "      <td>True</td>\n",
       "      <td>B/1/P</td>\n",
       "      <td>TRAPPIST-1e</td>\n",
       "      <td>34.0</td>\n",
       "      <td>False</td>\n",
       "      <td>0.0</td>\n",
       "      <td>0.0</td>\n",
       "      <td>NaN</td>\n",
       "      <td>0.0</td>\n",
       "      <td>0.0</td>\n",
       "      <td>Altardr Flatic</td>\n",
       "      <td>True</td>\n",
       "    </tr>\n",
       "    <tr>\n",
       "      <th>11</th>\n",
       "      <td>0008_03</td>\n",
       "      <td>Europa</td>\n",
       "      <td>False</td>\n",
       "      <td>B/1/P</td>\n",
       "      <td>55 Cancri e</td>\n",
       "      <td>45.0</td>\n",
       "      <td>False</td>\n",
       "      <td>39.0</td>\n",
       "      <td>7295.0</td>\n",
       "      <td>589.0</td>\n",
       "      <td>110.0</td>\n",
       "      <td>124.0</td>\n",
       "      <td>Wezena Flatic</td>\n",
       "      <td>True</td>\n",
       "    </tr>\n",
       "    <tr>\n",
       "      <th>12</th>\n",
       "      <td>0009_01</td>\n",
       "      <td>Mars</td>\n",
       "      <td>False</td>\n",
       "      <td>F/1/P</td>\n",
       "      <td>TRAPPIST-1e</td>\n",
       "      <td>32.0</td>\n",
       "      <td>False</td>\n",
       "      <td>73.0</td>\n",
       "      <td>0.0</td>\n",
       "      <td>1123.0</td>\n",
       "      <td>0.0</td>\n",
       "      <td>113.0</td>\n",
       "      <td>Berers Barne</td>\n",
       "      <td>True</td>\n",
       "    </tr>\n",
       "    <tr>\n",
       "      <th>13</th>\n",
       "      <td>0010_01</td>\n",
       "      <td>Earth</td>\n",
       "      <td>False</td>\n",
       "      <td>G/1/S</td>\n",
       "      <td>TRAPPIST-1e</td>\n",
       "      <td>48.0</td>\n",
       "      <td>False</td>\n",
       "      <td>719.0</td>\n",
       "      <td>1.0</td>\n",
       "      <td>65.0</td>\n",
       "      <td>0.0</td>\n",
       "      <td>24.0</td>\n",
       "      <td>Reney Baketton</td>\n",
       "      <td>False</td>\n",
       "    </tr>\n",
       "    <tr>\n",
       "      <th>14</th>\n",
       "      <td>0011_01</td>\n",
       "      <td>Earth</td>\n",
       "      <td>False</td>\n",
       "      <td>F/2/P</td>\n",
       "      <td>TRAPPIST-1e</td>\n",
       "      <td>28.0</td>\n",
       "      <td>False</td>\n",
       "      <td>8.0</td>\n",
       "      <td>974.0</td>\n",
       "      <td>12.0</td>\n",
       "      <td>2.0</td>\n",
       "      <td>7.0</td>\n",
       "      <td>Elle Bertsontry</td>\n",
       "      <td>True</td>\n",
       "    </tr>\n",
       "    <tr>\n",
       "      <th>15</th>\n",
       "      <td>0012_01</td>\n",
       "      <td>Earth</td>\n",
       "      <td>False</td>\n",
       "      <td>NaN</td>\n",
       "      <td>TRAPPIST-1e</td>\n",
       "      <td>31.0</td>\n",
       "      <td>False</td>\n",
       "      <td>32.0</td>\n",
       "      <td>0.0</td>\n",
       "      <td>876.0</td>\n",
       "      <td>0.0</td>\n",
       "      <td>0.0</td>\n",
       "      <td>Justie Pooles</td>\n",
       "      <td>False</td>\n",
       "    </tr>\n",
       "    <tr>\n",
       "      <th>16</th>\n",
       "      <td>0014_01</td>\n",
       "      <td>Mars</td>\n",
       "      <td>False</td>\n",
       "      <td>F/3/P</td>\n",
       "      <td>55 Cancri e</td>\n",
       "      <td>27.0</td>\n",
       "      <td>False</td>\n",
       "      <td>1286.0</td>\n",
       "      <td>122.0</td>\n",
       "      <td>NaN</td>\n",
       "      <td>0.0</td>\n",
       "      <td>0.0</td>\n",
       "      <td>Flats Eccle</td>\n",
       "      <td>False</td>\n",
       "    </tr>\n",
       "    <tr>\n",
       "      <th>17</th>\n",
       "      <td>0015_01</td>\n",
       "      <td>Earth</td>\n",
       "      <td>False</td>\n",
       "      <td>F/4/P</td>\n",
       "      <td>55 Cancri e</td>\n",
       "      <td>24.0</td>\n",
       "      <td>False</td>\n",
       "      <td>0.0</td>\n",
       "      <td>1.0</td>\n",
       "      <td>0.0</td>\n",
       "      <td>0.0</td>\n",
       "      <td>637.0</td>\n",
       "      <td>Carry Hughriend</td>\n",
       "      <td>False</td>\n",
       "    </tr>\n",
       "    <tr>\n",
       "      <th>18</th>\n",
       "      <td>0016_01</td>\n",
       "      <td>Mars</td>\n",
       "      <td>True</td>\n",
       "      <td>F/5/P</td>\n",
       "      <td>TRAPPIST-1e</td>\n",
       "      <td>45.0</td>\n",
       "      <td>False</td>\n",
       "      <td>0.0</td>\n",
       "      <td>0.0</td>\n",
       "      <td>0.0</td>\n",
       "      <td>0.0</td>\n",
       "      <td>0.0</td>\n",
       "      <td>Alus Upead</td>\n",
       "      <td>True</td>\n",
       "    </tr>\n",
       "    <tr>\n",
       "      <th>19</th>\n",
       "      <td>0017_01</td>\n",
       "      <td>Earth</td>\n",
       "      <td>False</td>\n",
       "      <td>G/0/P</td>\n",
       "      <td>TRAPPIST-1e</td>\n",
       "      <td>0.0</td>\n",
       "      <td>False</td>\n",
       "      <td>0.0</td>\n",
       "      <td>0.0</td>\n",
       "      <td>0.0</td>\n",
       "      <td>0.0</td>\n",
       "      <td>0.0</td>\n",
       "      <td>Lyde Brighttt</td>\n",
       "      <td>True</td>\n",
       "    </tr>\n",
       "    <tr>\n",
       "      <th>20</th>\n",
       "      <td>0017_02</td>\n",
       "      <td>Earth</td>\n",
       "      <td>False</td>\n",
       "      <td>F/6/P</td>\n",
       "      <td>55 Cancri e</td>\n",
       "      <td>14.0</td>\n",
       "      <td>False</td>\n",
       "      <td>412.0</td>\n",
       "      <td>0.0</td>\n",
       "      <td>1.0</td>\n",
       "      <td>0.0</td>\n",
       "      <td>679.0</td>\n",
       "      <td>Philda Brighttt</td>\n",
       "      <td>False</td>\n",
       "    </tr>\n",
       "    <tr>\n",
       "      <th>21</th>\n",
       "      <td>0020_01</td>\n",
       "      <td>Earth</td>\n",
       "      <td>True</td>\n",
       "      <td>E/0/S</td>\n",
       "      <td>TRAPPIST-1e</td>\n",
       "      <td>1.0</td>\n",
       "      <td>False</td>\n",
       "      <td>0.0</td>\n",
       "      <td>0.0</td>\n",
       "      <td>0.0</td>\n",
       "      <td>0.0</td>\n",
       "      <td>0.0</td>\n",
       "      <td>Almary Brantuarez</td>\n",
       "      <td>False</td>\n",
       "    </tr>\n",
       "    <tr>\n",
       "      <th>22</th>\n",
       "      <td>0020_02</td>\n",
       "      <td>Earth</td>\n",
       "      <td>True</td>\n",
       "      <td>E/0/S</td>\n",
       "      <td>55 Cancri e</td>\n",
       "      <td>49.0</td>\n",
       "      <td>False</td>\n",
       "      <td>0.0</td>\n",
       "      <td>0.0</td>\n",
       "      <td>0.0</td>\n",
       "      <td>0.0</td>\n",
       "      <td>0.0</td>\n",
       "      <td>Glendy Brantuarez</td>\n",
       "      <td>False</td>\n",
       "    </tr>\n",
       "    <tr>\n",
       "      <th>23</th>\n",
       "      <td>0020_03</td>\n",
       "      <td>Earth</td>\n",
       "      <td>True</td>\n",
       "      <td>E/0/S</td>\n",
       "      <td>55 Cancri e</td>\n",
       "      <td>29.0</td>\n",
       "      <td>False</td>\n",
       "      <td>0.0</td>\n",
       "      <td>0.0</td>\n",
       "      <td>NaN</td>\n",
       "      <td>0.0</td>\n",
       "      <td>0.0</td>\n",
       "      <td>Mollen Mcfaddennon</td>\n",
       "      <td>False</td>\n",
       "    </tr>\n",
       "    <tr>\n",
       "      <th>24</th>\n",
       "      <td>0020_04</td>\n",
       "      <td>Earth</td>\n",
       "      <td>False</td>\n",
       "      <td>E/0/S</td>\n",
       "      <td>TRAPPIST-1e</td>\n",
       "      <td>10.0</td>\n",
       "      <td>False</td>\n",
       "      <td>0.0</td>\n",
       "      <td>0.0</td>\n",
       "      <td>0.0</td>\n",
       "      <td>0.0</td>\n",
       "      <td>0.0</td>\n",
       "      <td>Breney Jacostanley</td>\n",
       "      <td>True</td>\n",
       "    </tr>\n",
       "    <tr>\n",
       "      <th>25</th>\n",
       "      <td>0020_05</td>\n",
       "      <td>Earth</td>\n",
       "      <td>True</td>\n",
       "      <td>E/0/S</td>\n",
       "      <td>PSO J318.5-22</td>\n",
       "      <td>1.0</td>\n",
       "      <td>False</td>\n",
       "      <td>NaN</td>\n",
       "      <td>0.0</td>\n",
       "      <td>0.0</td>\n",
       "      <td>0.0</td>\n",
       "      <td>0.0</td>\n",
       "      <td>Mael Brantuarez</td>\n",
       "      <td>False</td>\n",
       "    </tr>\n",
       "    <tr>\n",
       "      <th>26</th>\n",
       "      <td>0020_06</td>\n",
       "      <td>Earth</td>\n",
       "      <td>False</td>\n",
       "      <td>E/0/S</td>\n",
       "      <td>TRAPPIST-1e</td>\n",
       "      <td>7.0</td>\n",
       "      <td>False</td>\n",
       "      <td>0.0</td>\n",
       "      <td>0.0</td>\n",
       "      <td>0.0</td>\n",
       "      <td>0.0</td>\n",
       "      <td>0.0</td>\n",
       "      <td>Terta Mcfaddennon</td>\n",
       "      <td>False</td>\n",
       "    </tr>\n",
       "    <tr>\n",
       "      <th>27</th>\n",
       "      <td>0022_01</td>\n",
       "      <td>Mars</td>\n",
       "      <td>False</td>\n",
       "      <td>D/0/P</td>\n",
       "      <td>TRAPPIST-1e</td>\n",
       "      <td>21.0</td>\n",
       "      <td>False</td>\n",
       "      <td>980.0</td>\n",
       "      <td>2.0</td>\n",
       "      <td>69.0</td>\n",
       "      <td>0.0</td>\n",
       "      <td>0.0</td>\n",
       "      <td>NaN</td>\n",
       "      <td>False</td>\n",
       "    </tr>\n",
       "    <tr>\n",
       "      <th>28</th>\n",
       "      <td>0024_01</td>\n",
       "      <td>Europa</td>\n",
       "      <td>True</td>\n",
       "      <td>C/2/S</td>\n",
       "      <td>TRAPPIST-1e</td>\n",
       "      <td>62.0</td>\n",
       "      <td>False</td>\n",
       "      <td>0.0</td>\n",
       "      <td>0.0</td>\n",
       "      <td>NaN</td>\n",
       "      <td>0.0</td>\n",
       "      <td>0.0</td>\n",
       "      <td>Penton Fullided</td>\n",
       "      <td>True</td>\n",
       "    </tr>\n",
       "    <tr>\n",
       "      <th>29</th>\n",
       "      <td>0025_01</td>\n",
       "      <td>Earth</td>\n",
       "      <td>False</td>\n",
       "      <td>F/6/S</td>\n",
       "      <td>TRAPPIST-1e</td>\n",
       "      <td>15.0</td>\n",
       "      <td>False</td>\n",
       "      <td>0.0</td>\n",
       "      <td>225.0</td>\n",
       "      <td>0.0</td>\n",
       "      <td>998.0</td>\n",
       "      <td>0.0</td>\n",
       "      <td>Karard Brookenson</td>\n",
       "      <td>False</td>\n",
       "    </tr>\n",
       "    <tr>\n",
       "      <th>30</th>\n",
       "      <td>0026_01</td>\n",
       "      <td>Europa</td>\n",
       "      <td>False</td>\n",
       "      <td>C/0/P</td>\n",
       "      <td>55 Cancri e</td>\n",
       "      <td>34.0</td>\n",
       "      <td>False</td>\n",
       "      <td>22.0</td>\n",
       "      <td>6073.0</td>\n",
       "      <td>0.0</td>\n",
       "      <td>1438.0</td>\n",
       "      <td>328.0</td>\n",
       "      <td>Anyoni Unconary</td>\n",
       "      <td>False</td>\n",
       "    </tr>\n",
       "    <tr>\n",
       "      <th>31</th>\n",
       "      <td>0028_01</td>\n",
       "      <td>Mars</td>\n",
       "      <td>False</td>\n",
       "      <td>F/8/P</td>\n",
       "      <td>TRAPPIST-1e</td>\n",
       "      <td>43.0</td>\n",
       "      <td>False</td>\n",
       "      <td>1125.0</td>\n",
       "      <td>0.0</td>\n",
       "      <td>136.0</td>\n",
       "      <td>48.0</td>\n",
       "      <td>0.0</td>\n",
       "      <td>Ceros Mare</td>\n",
       "      <td>False</td>\n",
       "    </tr>\n",
       "    <tr>\n",
       "      <th>32</th>\n",
       "      <td>0030_01</td>\n",
       "      <td>Earth</td>\n",
       "      <td>False</td>\n",
       "      <td>G/4/S</td>\n",
       "      <td>TRAPPIST-1e</td>\n",
       "      <td>32.0</td>\n",
       "      <td>False</td>\n",
       "      <td>0.0</td>\n",
       "      <td>850.0</td>\n",
       "      <td>81.0</td>\n",
       "      <td>437.0</td>\n",
       "      <td>453.0</td>\n",
       "      <td>Ginia Morsentley</td>\n",
       "      <td>False</td>\n",
       "    </tr>\n",
       "    <tr>\n",
       "      <th>33</th>\n",
       "      <td>0031_01</td>\n",
       "      <td>Mars</td>\n",
       "      <td>False</td>\n",
       "      <td>F/9/P</td>\n",
       "      <td>TRAPPIST-1e</td>\n",
       "      <td>47.0</td>\n",
       "      <td>False</td>\n",
       "      <td>214.0</td>\n",
       "      <td>0.0</td>\n",
       "      <td>1411.0</td>\n",
       "      <td>0.0</td>\n",
       "      <td>1229.0</td>\n",
       "      <td>Coobix Datie</td>\n",
       "      <td>True</td>\n",
       "    </tr>\n",
       "    <tr>\n",
       "      <th>34</th>\n",
       "      <td>0031_02</td>\n",
       "      <td>Mars</td>\n",
       "      <td>False</td>\n",
       "      <td>F/9/P</td>\n",
       "      <td>TRAPPIST-1e</td>\n",
       "      <td>2.0</td>\n",
       "      <td>False</td>\n",
       "      <td>0.0</td>\n",
       "      <td>0.0</td>\n",
       "      <td>0.0</td>\n",
       "      <td>0.0</td>\n",
       "      <td>0.0</td>\n",
       "      <td>Cinets Datie</td>\n",
       "      <td>True</td>\n",
       "    </tr>\n",
       "    <tr>\n",
       "      <th>35</th>\n",
       "      <td>0031_03</td>\n",
       "      <td>Mars</td>\n",
       "      <td>False</td>\n",
       "      <td>F/9/P</td>\n",
       "      <td>TRAPPIST-1e</td>\n",
       "      <td>20.0</td>\n",
       "      <td>False</td>\n",
       "      <td>NaN</td>\n",
       "      <td>0.0</td>\n",
       "      <td>1750.0</td>\n",
       "      <td>990.0</td>\n",
       "      <td>0.0</td>\n",
       "      <td>Dontch Datie</td>\n",
       "      <td>True</td>\n",
       "    </tr>\n",
       "    <tr>\n",
       "      <th>36</th>\n",
       "      <td>0034_01</td>\n",
       "      <td>Europa</td>\n",
       "      <td>True</td>\n",
       "      <td>D/1/S</td>\n",
       "      <td>55 Cancri e</td>\n",
       "      <td>28.0</td>\n",
       "      <td>False</td>\n",
       "      <td>0.0</td>\n",
       "      <td>0.0</td>\n",
       "      <td>0.0</td>\n",
       "      <td>0.0</td>\n",
       "      <td>0.0</td>\n",
       "      <td>Ziba Oingwhedly</td>\n",
       "      <td>True</td>\n",
       "    </tr>\n",
       "    <tr>\n",
       "      <th>37</th>\n",
       "      <td>0035_01</td>\n",
       "      <td>Mars</td>\n",
       "      <td>False</td>\n",
       "      <td>D/1/P</td>\n",
       "      <td>55 Cancri e</td>\n",
       "      <td>23.0</td>\n",
       "      <td>False</td>\n",
       "      <td>784.0</td>\n",
       "      <td>964.0</td>\n",
       "      <td>0.0</td>\n",
       "      <td>951.0</td>\n",
       "      <td>0.0</td>\n",
       "      <td>Luse Butte</td>\n",
       "      <td>False</td>\n",
       "    </tr>\n",
       "    <tr>\n",
       "      <th>38</th>\n",
       "      <td>0036_01</td>\n",
       "      <td>Earth</td>\n",
       "      <td>False</td>\n",
       "      <td>F/8/S</td>\n",
       "      <td>55 Cancri e</td>\n",
       "      <td>15.0</td>\n",
       "      <td>NaN</td>\n",
       "      <td>0.0</td>\n",
       "      <td>492.0</td>\n",
       "      <td>48.0</td>\n",
       "      <td>20.0</td>\n",
       "      <td>401.0</td>\n",
       "      <td>Marina Leodger</td>\n",
       "      <td>False</td>\n",
       "    </tr>\n",
       "    <tr>\n",
       "      <th>39</th>\n",
       "      <td>0038_01</td>\n",
       "      <td>Earth</td>\n",
       "      <td>False</td>\n",
       "      <td>F/10/S</td>\n",
       "      <td>55 Cancri e</td>\n",
       "      <td>20.0</td>\n",
       "      <td>False</td>\n",
       "      <td>554.0</td>\n",
       "      <td>195.0</td>\n",
       "      <td>0.0</td>\n",
       "      <td>2606.0</td>\n",
       "      <td>0.0</td>\n",
       "      <td>Loise Wheelez</td>\n",
       "      <td>False</td>\n",
       "    </tr>\n",
       "    <tr>\n",
       "      <th>40</th>\n",
       "      <td>0039_01</td>\n",
       "      <td>Earth</td>\n",
       "      <td>True</td>\n",
       "      <td>G/1/P</td>\n",
       "      <td>55 Cancri e</td>\n",
       "      <td>30.0</td>\n",
       "      <td>False</td>\n",
       "      <td>0.0</td>\n",
       "      <td>0.0</td>\n",
       "      <td>NaN</td>\n",
       "      <td>0.0</td>\n",
       "      <td>0.0</td>\n",
       "      <td>Jorgie Batthewitt</td>\n",
       "      <td>False</td>\n",
       "    </tr>\n",
       "    <tr>\n",
       "      <th>41</th>\n",
       "      <td>0041_01</td>\n",
       "      <td>Earth</td>\n",
       "      <td>True</td>\n",
       "      <td>G/2/P</td>\n",
       "      <td>TRAPPIST-1e</td>\n",
       "      <td>17.0</td>\n",
       "      <td>False</td>\n",
       "      <td>0.0</td>\n",
       "      <td>0.0</td>\n",
       "      <td>0.0</td>\n",
       "      <td>0.0</td>\n",
       "      <td>0.0</td>\n",
       "      <td>Margia Moodsey</td>\n",
       "      <td>True</td>\n",
       "    </tr>\n",
       "    <tr>\n",
       "      <th>42</th>\n",
       "      <td>0043_01</td>\n",
       "      <td>Europa</td>\n",
       "      <td>False</td>\n",
       "      <td>B/3/P</td>\n",
       "      <td>TRAPPIST-1e</td>\n",
       "      <td>45.0</td>\n",
       "      <td>False</td>\n",
       "      <td>0.0</td>\n",
       "      <td>164.0</td>\n",
       "      <td>45.0</td>\n",
       "      <td>2511.0</td>\n",
       "      <td>855.0</td>\n",
       "      <td>Ankalik Cylistrand</td>\n",
       "      <td>False</td>\n",
       "    </tr>\n",
       "    <tr>\n",
       "      <th>43</th>\n",
       "      <td>0044_01</td>\n",
       "      <td>Earth</td>\n",
       "      <td>True</td>\n",
       "      <td>G/3/P</td>\n",
       "      <td>TRAPPIST-1e</td>\n",
       "      <td>55.0</td>\n",
       "      <td>False</td>\n",
       "      <td>0.0</td>\n",
       "      <td>0.0</td>\n",
       "      <td>0.0</td>\n",
       "      <td>0.0</td>\n",
       "      <td>0.0</td>\n",
       "      <td>Jodye Coopelandez</td>\n",
       "      <td>False</td>\n",
       "    </tr>\n",
       "    <tr>\n",
       "      <th>44</th>\n",
       "      <td>0044_02</td>\n",
       "      <td>Earth</td>\n",
       "      <td>True</td>\n",
       "      <td>G/3/P</td>\n",
       "      <td>55 Cancri e</td>\n",
       "      <td>4.0</td>\n",
       "      <td>False</td>\n",
       "      <td>0.0</td>\n",
       "      <td>0.0</td>\n",
       "      <td>0.0</td>\n",
       "      <td>0.0</td>\n",
       "      <td>0.0</td>\n",
       "      <td>Kayne Coopelandez</td>\n",
       "      <td>True</td>\n",
       "    </tr>\n",
       "    <tr>\n",
       "      <th>45</th>\n",
       "      <td>0044_03</td>\n",
       "      <td>Earth</td>\n",
       "      <td>True</td>\n",
       "      <td>G/3/P</td>\n",
       "      <td>PSO J318.5-22</td>\n",
       "      <td>21.0</td>\n",
       "      <td>False</td>\n",
       "      <td>0.0</td>\n",
       "      <td>0.0</td>\n",
       "      <td>0.0</td>\n",
       "      <td>0.0</td>\n",
       "      <td>0.0</td>\n",
       "      <td>Cassa Coopelandez</td>\n",
       "      <td>True</td>\n",
       "    </tr>\n",
       "    <tr>\n",
       "      <th>46</th>\n",
       "      <td>0045_01</td>\n",
       "      <td>Mars</td>\n",
       "      <td>False</td>\n",
       "      <td>F/10/P</td>\n",
       "      <td>TRAPPIST-1e</td>\n",
       "      <td>21.0</td>\n",
       "      <td>False</td>\n",
       "      <td>970.0</td>\n",
       "      <td>0.0</td>\n",
       "      <td>180.0</td>\n",
       "      <td>0.0</td>\n",
       "      <td>64.0</td>\n",
       "      <td>Zelowl Chmad</td>\n",
       "      <td>False</td>\n",
       "    </tr>\n",
       "    <tr>\n",
       "      <th>47</th>\n",
       "      <td>0045_02</td>\n",
       "      <td>Mars</td>\n",
       "      <td>True</td>\n",
       "      <td>F/10/P</td>\n",
       "      <td>NaN</td>\n",
       "      <td>19.0</td>\n",
       "      <td>False</td>\n",
       "      <td>0.0</td>\n",
       "      <td>0.0</td>\n",
       "      <td>0.0</td>\n",
       "      <td>0.0</td>\n",
       "      <td>0.0</td>\n",
       "      <td>Mass Chmad</td>\n",
       "      <td>True</td>\n",
       "    </tr>\n",
       "    <tr>\n",
       "      <th>48</th>\n",
       "      <td>0050_01</td>\n",
       "      <td>Earth</td>\n",
       "      <td>False</td>\n",
       "      <td>E/1/S</td>\n",
       "      <td>55 Cancri e</td>\n",
       "      <td>35.0</td>\n",
       "      <td>False</td>\n",
       "      <td>790.0</td>\n",
       "      <td>0.0</td>\n",
       "      <td>0.0</td>\n",
       "      <td>NaN</td>\n",
       "      <td>0.0</td>\n",
       "      <td>Sony Lancis</td>\n",
       "      <td>False</td>\n",
       "    </tr>\n",
       "    <tr>\n",
       "      <th>49</th>\n",
       "      <td>0051_01</td>\n",
       "      <td>Earth</td>\n",
       "      <td>False</td>\n",
       "      <td>E/2/S</td>\n",
       "      <td>TRAPPIST-1e</td>\n",
       "      <td>56.0</td>\n",
       "      <td>False</td>\n",
       "      <td>0.0</td>\n",
       "      <td>112.0</td>\n",
       "      <td>0.0</td>\n",
       "      <td>1379.0</td>\n",
       "      <td>127.0</td>\n",
       "      <td>Vivia Johnshines</td>\n",
       "      <td>False</td>\n",
       "    </tr>\n",
       "    <tr>\n",
       "      <th>50</th>\n",
       "      <td>0052_01</td>\n",
       "      <td>Earth</td>\n",
       "      <td>False</td>\n",
       "      <td>G/6/S</td>\n",
       "      <td>TRAPPIST-1e</td>\n",
       "      <td>NaN</td>\n",
       "      <td>False</td>\n",
       "      <td>4.0</td>\n",
       "      <td>0.0</td>\n",
       "      <td>2.0</td>\n",
       "      <td>4683.0</td>\n",
       "      <td>0.0</td>\n",
       "      <td>Elaney Hubbarton</td>\n",
       "      <td>False</td>\n",
       "    </tr>\n",
       "    <tr>\n",
       "      <th>51</th>\n",
       "      <td>0053_01</td>\n",
       "      <td>Earth</td>\n",
       "      <td>False</td>\n",
       "      <td>F/11/S</td>\n",
       "      <td>TRAPPIST-1e</td>\n",
       "      <td>25.0</td>\n",
       "      <td>False</td>\n",
       "      <td>0.0</td>\n",
       "      <td>0.0</td>\n",
       "      <td>1938.0</td>\n",
       "      <td>0.0</td>\n",
       "      <td>1.0</td>\n",
       "      <td>Elson Hickerson</td>\n",
       "      <td>True</td>\n",
       "    </tr>\n",
       "    <tr>\n",
       "      <th>52</th>\n",
       "      <td>0056_01</td>\n",
       "      <td>Europa</td>\n",
       "      <td>False</td>\n",
       "      <td>A/1/S</td>\n",
       "      <td>TRAPPIST-1e</td>\n",
       "      <td>2.0</td>\n",
       "      <td>False</td>\n",
       "      <td>0.0</td>\n",
       "      <td>0.0</td>\n",
       "      <td>0.0</td>\n",
       "      <td>0.0</td>\n",
       "      <td>0.0</td>\n",
       "      <td>Okulas Tractive</td>\n",
       "      <td>True</td>\n",
       "    </tr>\n",
       "    <tr>\n",
       "      <th>53</th>\n",
       "      <td>0056_02</td>\n",
       "      <td>Europa</td>\n",
       "      <td>True</td>\n",
       "      <td>A/1/S</td>\n",
       "      <td>TRAPPIST-1e</td>\n",
       "      <td>38.0</td>\n",
       "      <td>False</td>\n",
       "      <td>0.0</td>\n",
       "      <td>0.0</td>\n",
       "      <td>0.0</td>\n",
       "      <td>0.0</td>\n",
       "      <td>0.0</td>\n",
       "      <td>Instab Tractive</td>\n",
       "      <td>True</td>\n",
       "    </tr>\n",
       "    <tr>\n",
       "      <th>54</th>\n",
       "      <td>0056_03</td>\n",
       "      <td>Europa</td>\n",
       "      <td>False</td>\n",
       "      <td>A/1/S</td>\n",
       "      <td>TRAPPIST-1e</td>\n",
       "      <td>27.0</td>\n",
       "      <td>False</td>\n",
       "      <td>279.0</td>\n",
       "      <td>605.0</td>\n",
       "      <td>3374.0</td>\n",
       "      <td>286.0</td>\n",
       "      <td>3.0</td>\n",
       "      <td>Zinoces Tractive</td>\n",
       "      <td>True</td>\n",
       "    </tr>\n",
       "    <tr>\n",
       "      <th>55</th>\n",
       "      <td>0058_01</td>\n",
       "      <td>Earth</td>\n",
       "      <td>True</td>\n",
       "      <td>G/7/S</td>\n",
       "      <td>PSO J318.5-22</td>\n",
       "      <td>36.0</td>\n",
       "      <td>False</td>\n",
       "      <td>0.0</td>\n",
       "      <td>0.0</td>\n",
       "      <td>0.0</td>\n",
       "      <td>0.0</td>\n",
       "      <td>0.0</td>\n",
       "      <td>Warry Ayalazquez</td>\n",
       "      <td>False</td>\n",
       "    </tr>\n",
       "    <tr>\n",
       "      <th>56</th>\n",
       "      <td>0061_01</td>\n",
       "      <td>Earth</td>\n",
       "      <td>False</td>\n",
       "      <td>F/12/S</td>\n",
       "      <td>TRAPPIST-1e</td>\n",
       "      <td>22.0</td>\n",
       "      <td>False</td>\n",
       "      <td>45.0</td>\n",
       "      <td>1096.0</td>\n",
       "      <td>148.0</td>\n",
       "      <td>1377.0</td>\n",
       "      <td>1.0</td>\n",
       "      <td>Shanya Salez</td>\n",
       "      <td>False</td>\n",
       "    </tr>\n",
       "    <tr>\n",
       "      <th>57</th>\n",
       "      <td>0062_01</td>\n",
       "      <td>Earth</td>\n",
       "      <td>False</td>\n",
       "      <td>F/13/S</td>\n",
       "      <td>TRAPPIST-1e</td>\n",
       "      <td>62.0</td>\n",
       "      <td>False</td>\n",
       "      <td>0.0</td>\n",
       "      <td>592.0</td>\n",
       "      <td>0.0</td>\n",
       "      <td>17.0</td>\n",
       "      <td>25.0</td>\n",
       "      <td>Sterry Greeves</td>\n",
       "      <td>False</td>\n",
       "    </tr>\n",
       "    <tr>\n",
       "      <th>58</th>\n",
       "      <td>0064_01</td>\n",
       "      <td>Mars</td>\n",
       "      <td>True</td>\n",
       "      <td>F/14/S</td>\n",
       "      <td>TRAPPIST-1e</td>\n",
       "      <td>15.0</td>\n",
       "      <td>False</td>\n",
       "      <td>0.0</td>\n",
       "      <td>0.0</td>\n",
       "      <td>0.0</td>\n",
       "      <td>0.0</td>\n",
       "      <td>0.0</td>\n",
       "      <td>NaN</td>\n",
       "      <td>True</td>\n",
       "    </tr>\n",
       "    <tr>\n",
       "      <th>59</th>\n",
       "      <td>0064_02</td>\n",
       "      <td>NaN</td>\n",
       "      <td>True</td>\n",
       "      <td>E/3/S</td>\n",
       "      <td>TRAPPIST-1e</td>\n",
       "      <td>33.0</td>\n",
       "      <td>False</td>\n",
       "      <td>0.0</td>\n",
       "      <td>0.0</td>\n",
       "      <td>NaN</td>\n",
       "      <td>0.0</td>\n",
       "      <td>0.0</td>\n",
       "      <td>Colatz Keen</td>\n",
       "      <td>True</td>\n",
       "    </tr>\n",
       "    <tr>\n",
       "      <th>60</th>\n",
       "      <td>0066_01</td>\n",
       "      <td>Earth</td>\n",
       "      <td>False</td>\n",
       "      <td>G/6/P</td>\n",
       "      <td>TRAPPIST-1e</td>\n",
       "      <td>62.0</td>\n",
       "      <td>False</td>\n",
       "      <td>1.0</td>\n",
       "      <td>153.0</td>\n",
       "      <td>197.0</td>\n",
       "      <td>0.0</td>\n",
       "      <td>460.0</td>\n",
       "      <td>Diandy Pecketton</td>\n",
       "      <td>False</td>\n",
       "    </tr>\n",
       "    <tr>\n",
       "      <th>61</th>\n",
       "      <td>0067_01</td>\n",
       "      <td>Earth</td>\n",
       "      <td>True</td>\n",
       "      <td>G/10/S</td>\n",
       "      <td>PSO J318.5-22</td>\n",
       "      <td>0.0</td>\n",
       "      <td>False</td>\n",
       "      <td>0.0</td>\n",
       "      <td>0.0</td>\n",
       "      <td>0.0</td>\n",
       "      <td>0.0</td>\n",
       "      <td>0.0</td>\n",
       "      <td>Ninaha Leeves</td>\n",
       "      <td>True</td>\n",
       "    </tr>\n",
       "    <tr>\n",
       "      <th>62</th>\n",
       "      <td>0067_02</td>\n",
       "      <td>Earth</td>\n",
       "      <td>False</td>\n",
       "      <td>G/10/S</td>\n",
       "      <td>TRAPPIST-1e</td>\n",
       "      <td>18.0</td>\n",
       "      <td>False</td>\n",
       "      <td>1.0</td>\n",
       "      <td>258.0</td>\n",
       "      <td>446.0</td>\n",
       "      <td>0.0</td>\n",
       "      <td>0.0</td>\n",
       "      <td>Celine Leeves</td>\n",
       "      <td>True</td>\n",
       "    </tr>\n",
       "    <tr>\n",
       "      <th>63</th>\n",
       "      <td>0067_03</td>\n",
       "      <td>Earth</td>\n",
       "      <td>False</td>\n",
       "      <td>F/15/S</td>\n",
       "      <td>55 Cancri e</td>\n",
       "      <td>21.0</td>\n",
       "      <td>False</td>\n",
       "      <td>1946.0</td>\n",
       "      <td>37.0</td>\n",
       "      <td>0.0</td>\n",
       "      <td>0.0</td>\n",
       "      <td>24.0</td>\n",
       "      <td>Velyne Leeves</td>\n",
       "      <td>False</td>\n",
       "    </tr>\n",
       "    <tr>\n",
       "      <th>64</th>\n",
       "      <td>0068_01</td>\n",
       "      <td>Mars</td>\n",
       "      <td>False</td>\n",
       "      <td>E/4/S</td>\n",
       "      <td>TRAPPIST-1e</td>\n",
       "      <td>NaN</td>\n",
       "      <td>False</td>\n",
       "      <td>793.0</td>\n",
       "      <td>0.0</td>\n",
       "      <td>2.0</td>\n",
       "      <td>253.0</td>\n",
       "      <td>0.0</td>\n",
       "      <td>Cinst Binie</td>\n",
       "      <td>False</td>\n",
       "    </tr>\n",
       "    <tr>\n",
       "      <th>65</th>\n",
       "      <td>0069_01</td>\n",
       "      <td>Earth</td>\n",
       "      <td>False</td>\n",
       "      <td>F/16/S</td>\n",
       "      <td>TRAPPIST-1e</td>\n",
       "      <td>42.0</td>\n",
       "      <td>False</td>\n",
       "      <td>887.0</td>\n",
       "      <td>0.0</td>\n",
       "      <td>9.0</td>\n",
       "      <td>6.0</td>\n",
       "      <td>0.0</td>\n",
       "      <td>NaN</td>\n",
       "      <td>True</td>\n",
       "    </tr>\n",
       "    <tr>\n",
       "      <th>66</th>\n",
       "      <td>0070_01</td>\n",
       "      <td>Earth</td>\n",
       "      <td>False</td>\n",
       "      <td>F/13/P</td>\n",
       "      <td>TRAPPIST-1e</td>\n",
       "      <td>19.0</td>\n",
       "      <td>False</td>\n",
       "      <td>190.0</td>\n",
       "      <td>0.0</td>\n",
       "      <td>5.0</td>\n",
       "      <td>1.0</td>\n",
       "      <td>726.0</td>\n",
       "      <td>Meremy Brighttt</td>\n",
       "      <td>False</td>\n",
       "    </tr>\n",
       "    <tr>\n",
       "      <th>67</th>\n",
       "      <td>0071_01</td>\n",
       "      <td>Earth</td>\n",
       "      <td>False</td>\n",
       "      <td>F/14/P</td>\n",
       "      <td>TRAPPIST-1e</td>\n",
       "      <td>17.0</td>\n",
       "      <td>False</td>\n",
       "      <td>16.0</td>\n",
       "      <td>2165.0</td>\n",
       "      <td>0.0</td>\n",
       "      <td>0.0</td>\n",
       "      <td>52.0</td>\n",
       "      <td>Nelly Dillines</td>\n",
       "      <td>False</td>\n",
       "    </tr>\n",
       "    <tr>\n",
       "      <th>68</th>\n",
       "      <td>0072_01</td>\n",
       "      <td>Earth</td>\n",
       "      <td>False</td>\n",
       "      <td>F/17/S</td>\n",
       "      <td>TRAPPIST-1e</td>\n",
       "      <td>14.0</td>\n",
       "      <td>False</td>\n",
       "      <td>0.0</td>\n",
       "      <td>1.0</td>\n",
       "      <td>0.0</td>\n",
       "      <td>0.0</td>\n",
       "      <td>1063.0</td>\n",
       "      <td>Thell Brantuarez</td>\n",
       "      <td>False</td>\n",
       "    </tr>\n",
       "    <tr>\n",
       "      <th>69</th>\n",
       "      <td>0073_01</td>\n",
       "      <td>Mars</td>\n",
       "      <td>False</td>\n",
       "      <td>D/3/P</td>\n",
       "      <td>PSO J318.5-22</td>\n",
       "      <td>37.0</td>\n",
       "      <td>False</td>\n",
       "      <td>46.0</td>\n",
       "      <td>83.0</td>\n",
       "      <td>738.0</td>\n",
       "      <td>0.0</td>\n",
       "      <td>12.0</td>\n",
       "      <td>Gorn Make</td>\n",
       "      <td>False</td>\n",
       "    </tr>\n",
       "    <tr>\n",
       "      <th>70</th>\n",
       "      <td>0074_01</td>\n",
       "      <td>Europa</td>\n",
       "      <td>False</td>\n",
       "      <td>C/3/S</td>\n",
       "      <td>TRAPPIST-1e</td>\n",
       "      <td>42.0</td>\n",
       "      <td>False</td>\n",
       "      <td>1.0</td>\n",
       "      <td>8397.0</td>\n",
       "      <td>0.0</td>\n",
       "      <td>0.0</td>\n",
       "      <td>506.0</td>\n",
       "      <td>Aldibah Mostedry</td>\n",
       "      <td>True</td>\n",
       "    </tr>\n",
       "    <tr>\n",
       "      <th>71</th>\n",
       "      <td>0076_01</td>\n",
       "      <td>Mars</td>\n",
       "      <td>False</td>\n",
       "      <td>F/18/S</td>\n",
       "      <td>TRAPPIST-1e</td>\n",
       "      <td>27.0</td>\n",
       "      <td>False</td>\n",
       "      <td>147.0</td>\n",
       "      <td>0.0</td>\n",
       "      <td>1018.0</td>\n",
       "      <td>0.0</td>\n",
       "      <td>0.0</td>\n",
       "      <td>Conk Dal</td>\n",
       "      <td>True</td>\n",
       "    </tr>\n",
       "    <tr>\n",
       "      <th>72</th>\n",
       "      <td>0077_01</td>\n",
       "      <td>Mars</td>\n",
       "      <td>False</td>\n",
       "      <td>F/15/P</td>\n",
       "      <td>TRAPPIST-1e</td>\n",
       "      <td>28.0</td>\n",
       "      <td>False</td>\n",
       "      <td>14.0</td>\n",
       "      <td>0.0</td>\n",
       "      <td>1295.0</td>\n",
       "      <td>0.0</td>\n",
       "      <td>0.0</td>\n",
       "      <td>Pon Blité</td>\n",
       "      <td>True</td>\n",
       "    </tr>\n",
       "    <tr>\n",
       "      <th>73</th>\n",
       "      <td>0078_01</td>\n",
       "      <td>Europa</td>\n",
       "      <td>False</td>\n",
       "      <td>C/4/S</td>\n",
       "      <td>TRAPPIST-1e</td>\n",
       "      <td>38.0</td>\n",
       "      <td>False</td>\n",
       "      <td>0.0</td>\n",
       "      <td>5840.0</td>\n",
       "      <td>0.0</td>\n",
       "      <td>321.0</td>\n",
       "      <td>9654.0</td>\n",
       "      <td>Spuri Pokerheed</td>\n",
       "      <td>False</td>\n",
       "    </tr>\n",
       "    <tr>\n",
       "      <th>74</th>\n",
       "      <td>0081_01</td>\n",
       "      <td>Earth</td>\n",
       "      <td>True</td>\n",
       "      <td>G/13/S</td>\n",
       "      <td>TRAPPIST-1e</td>\n",
       "      <td>13.0</td>\n",
       "      <td>False</td>\n",
       "      <td>0.0</td>\n",
       "      <td>0.0</td>\n",
       "      <td>0.0</td>\n",
       "      <td>0.0</td>\n",
       "      <td>0.0</td>\n",
       "      <td>Dellie Vinozarks</td>\n",
       "      <td>False</td>\n",
       "    </tr>\n",
       "    <tr>\n",
       "      <th>75</th>\n",
       "      <td>0082_01</td>\n",
       "      <td>Mars</td>\n",
       "      <td>False</td>\n",
       "      <td>F/16/P</td>\n",
       "      <td>TRAPPIST-1e</td>\n",
       "      <td>42.0</td>\n",
       "      <td>False</td>\n",
       "      <td>7406.0</td>\n",
       "      <td>0.0</td>\n",
       "      <td>0.0</td>\n",
       "      <td>0.0</td>\n",
       "      <td>0.0</td>\n",
       "      <td>Totse Datte</td>\n",
       "      <td>False</td>\n",
       "    </tr>\n",
       "    <tr>\n",
       "      <th>76</th>\n",
       "      <td>0082_02</td>\n",
       "      <td>Mars</td>\n",
       "      <td>True</td>\n",
       "      <td>F/16/P</td>\n",
       "      <td>TRAPPIST-1e</td>\n",
       "      <td>2.0</td>\n",
       "      <td>False</td>\n",
       "      <td>0.0</td>\n",
       "      <td>0.0</td>\n",
       "      <td>0.0</td>\n",
       "      <td>0.0</td>\n",
       "      <td>0.0</td>\n",
       "      <td>Eaturs Datte</td>\n",
       "      <td>True</td>\n",
       "    </tr>\n",
       "    <tr>\n",
       "      <th>77</th>\n",
       "      <td>0082_03</td>\n",
       "      <td>Mars</td>\n",
       "      <td>False</td>\n",
       "      <td>F/16/P</td>\n",
       "      <td>TRAPPIST-1e</td>\n",
       "      <td>8.0</td>\n",
       "      <td>False</td>\n",
       "      <td>0.0</td>\n",
       "      <td>0.0</td>\n",
       "      <td>0.0</td>\n",
       "      <td>0.0</td>\n",
       "      <td>0.0</td>\n",
       "      <td>NaN</td>\n",
       "      <td>True</td>\n",
       "    </tr>\n",
       "    <tr>\n",
       "      <th>78</th>\n",
       "      <td>0084_01</td>\n",
       "      <td>Earth</td>\n",
       "      <td>False</td>\n",
       "      <td>G/14/S</td>\n",
       "      <td>TRAPPIST-1e</td>\n",
       "      <td>24.0</td>\n",
       "      <td>False</td>\n",
       "      <td>688.0</td>\n",
       "      <td>0.0</td>\n",
       "      <td>0.0</td>\n",
       "      <td>0.0</td>\n",
       "      <td>17.0</td>\n",
       "      <td>Coren Coopezmaney</td>\n",
       "      <td>True</td>\n",
       "    </tr>\n",
       "    <tr>\n",
       "      <th>79</th>\n",
       "      <td>0085_01</td>\n",
       "      <td>Europa</td>\n",
       "      <td>True</td>\n",
       "      <td>C/5/S</td>\n",
       "      <td>TRAPPIST-1e</td>\n",
       "      <td>40.0</td>\n",
       "      <td>False</td>\n",
       "      <td>0.0</td>\n",
       "      <td>0.0</td>\n",
       "      <td>0.0</td>\n",
       "      <td>0.0</td>\n",
       "      <td>0.0</td>\n",
       "      <td>Furudah Ellcefulve</td>\n",
       "      <td>True</td>\n",
       "    </tr>\n",
       "    <tr>\n",
       "      <th>80</th>\n",
       "      <td>0086_01</td>\n",
       "      <td>Earth</td>\n",
       "      <td>False</td>\n",
       "      <td>F/17/P</td>\n",
       "      <td>TRAPPIST-1e</td>\n",
       "      <td>43.0</td>\n",
       "      <td>False</td>\n",
       "      <td>211.0</td>\n",
       "      <td>0.0</td>\n",
       "      <td>0.0</td>\n",
       "      <td>638.0</td>\n",
       "      <td>513.0</td>\n",
       "      <td>Jodye Kinson</td>\n",
       "      <td>False</td>\n",
       "    </tr>\n",
       "    <tr>\n",
       "      <th>81</th>\n",
       "      <td>0088_01</td>\n",
       "      <td>Mars</td>\n",
       "      <td>True</td>\n",
       "      <td>E/5/S</td>\n",
       "      <td>PSO J318.5-22</td>\n",
       "      <td>45.0</td>\n",
       "      <td>False</td>\n",
       "      <td>0.0</td>\n",
       "      <td>0.0</td>\n",
       "      <td>0.0</td>\n",
       "      <td>0.0</td>\n",
       "      <td>0.0</td>\n",
       "      <td>Stmeal Sacre</td>\n",
       "      <td>True</td>\n",
       "    </tr>\n",
       "    <tr>\n",
       "      <th>82</th>\n",
       "      <td>0090_01</td>\n",
       "      <td>Earth</td>\n",
       "      <td>True</td>\n",
       "      <td>G/15/S</td>\n",
       "      <td>TRAPPIST-1e</td>\n",
       "      <td>35.0</td>\n",
       "      <td>False</td>\n",
       "      <td>0.0</td>\n",
       "      <td>0.0</td>\n",
       "      <td>0.0</td>\n",
       "      <td>0.0</td>\n",
       "      <td>0.0</td>\n",
       "      <td>Heremy Santry</td>\n",
       "      <td>True</td>\n",
       "    </tr>\n",
       "    <tr>\n",
       "      <th>83</th>\n",
       "      <td>0091_01</td>\n",
       "      <td>Earth</td>\n",
       "      <td>True</td>\n",
       "      <td>G/16/S</td>\n",
       "      <td>TRAPPIST-1e</td>\n",
       "      <td>26.0</td>\n",
       "      <td>False</td>\n",
       "      <td>NaN</td>\n",
       "      <td>0.0</td>\n",
       "      <td>0.0</td>\n",
       "      <td>0.0</td>\n",
       "      <td>0.0</td>\n",
       "      <td>Deanne Yorkland</td>\n",
       "      <td>True</td>\n",
       "    </tr>\n",
       "    <tr>\n",
       "      <th>84</th>\n",
       "      <td>0091_02</td>\n",
       "      <td>Earth</td>\n",
       "      <td>False</td>\n",
       "      <td>F/20/S</td>\n",
       "      <td>TRAPPIST-1e</td>\n",
       "      <td>27.0</td>\n",
       "      <td>False</td>\n",
       "      <td>1.0</td>\n",
       "      <td>697.0</td>\n",
       "      <td>31.0</td>\n",
       "      <td>188.0</td>\n",
       "      <td>0.0</td>\n",
       "      <td>Tinez Yorkland</td>\n",
       "      <td>False</td>\n",
       "    </tr>\n",
       "    <tr>\n",
       "      <th>85</th>\n",
       "      <td>0092_01</td>\n",
       "      <td>Earth</td>\n",
       "      <td>False</td>\n",
       "      <td>G/9/P</td>\n",
       "      <td>TRAPPIST-1e</td>\n",
       "      <td>19.0</td>\n",
       "      <td>False</td>\n",
       "      <td>0.0</td>\n",
       "      <td>0.0</td>\n",
       "      <td>670.0</td>\n",
       "      <td>1.0</td>\n",
       "      <td>34.0</td>\n",
       "      <td>Gracy Dunnisey</td>\n",
       "      <td>False</td>\n",
       "    </tr>\n",
       "    <tr>\n",
       "      <th>86</th>\n",
       "      <td>0092_02</td>\n",
       "      <td>Earth</td>\n",
       "      <td>True</td>\n",
       "      <td>G/9/P</td>\n",
       "      <td>TRAPPIST-1e</td>\n",
       "      <td>0.0</td>\n",
       "      <td>False</td>\n",
       "      <td>0.0</td>\n",
       "      <td>0.0</td>\n",
       "      <td>NaN</td>\n",
       "      <td>0.0</td>\n",
       "      <td>0.0</td>\n",
       "      <td>Stald Hewson</td>\n",
       "      <td>True</td>\n",
       "    </tr>\n",
       "    <tr>\n",
       "      <th>87</th>\n",
       "      <td>0092_03</td>\n",
       "      <td>Earth</td>\n",
       "      <td>True</td>\n",
       "      <td>G/9/P</td>\n",
       "      <td>TRAPPIST-1e</td>\n",
       "      <td>3.0</td>\n",
       "      <td>False</td>\n",
       "      <td>0.0</td>\n",
       "      <td>0.0</td>\n",
       "      <td>0.0</td>\n",
       "      <td>0.0</td>\n",
       "      <td>0.0</td>\n",
       "      <td>Tiney Hewson</td>\n",
       "      <td>True</td>\n",
       "    </tr>\n",
       "    <tr>\n",
       "      <th>88</th>\n",
       "      <td>0097_01</td>\n",
       "      <td>Europa</td>\n",
       "      <td>False</td>\n",
       "      <td>A/2/S</td>\n",
       "      <td>TRAPPIST-1e</td>\n",
       "      <td>54.0</td>\n",
       "      <td>False</td>\n",
       "      <td>0.0</td>\n",
       "      <td>1208.0</td>\n",
       "      <td>0.0</td>\n",
       "      <td>3.0</td>\n",
       "      <td>637.0</td>\n",
       "      <td>Alchium Fictful</td>\n",
       "      <td>False</td>\n",
       "    </tr>\n",
       "    <tr>\n",
       "      <th>89</th>\n",
       "      <td>0098_01</td>\n",
       "      <td>Earth</td>\n",
       "      <td>False</td>\n",
       "      <td>G/11/P</td>\n",
       "      <td>TRAPPIST-1e</td>\n",
       "      <td>26.0</td>\n",
       "      <td>False</td>\n",
       "      <td>0.0</td>\n",
       "      <td>856.0</td>\n",
       "      <td>5.0</td>\n",
       "      <td>32.0</td>\n",
       "      <td>0.0</td>\n",
       "      <td>Doria Carezquez</td>\n",
       "      <td>False</td>\n",
       "    </tr>\n",
       "    <tr>\n",
       "      <th>90</th>\n",
       "      <td>0098_02</td>\n",
       "      <td>Earth</td>\n",
       "      <td>False</td>\n",
       "      <td>G/11/P</td>\n",
       "      <td>TRAPPIST-1e</td>\n",
       "      <td>26.0</td>\n",
       "      <td>False</td>\n",
       "      <td>0.0</td>\n",
       "      <td>2811.0</td>\n",
       "      <td>957.0</td>\n",
       "      <td>0.0</td>\n",
       "      <td>87.0</td>\n",
       "      <td>Leence Carezquez</td>\n",
       "      <td>True</td>\n",
       "    </tr>\n",
       "    <tr>\n",
       "      <th>91</th>\n",
       "      <td>0099_01</td>\n",
       "      <td>Earth</td>\n",
       "      <td>False</td>\n",
       "      <td>F/19/P</td>\n",
       "      <td>PSO J318.5-22</td>\n",
       "      <td>23.0</td>\n",
       "      <td>False</td>\n",
       "      <td>311.0</td>\n",
       "      <td>427.0</td>\n",
       "      <td>526.0</td>\n",
       "      <td>37.0</td>\n",
       "      <td>0.0</td>\n",
       "      <td>Aliey Leetersoney</td>\n",
       "      <td>False</td>\n",
       "    </tr>\n",
       "    <tr>\n",
       "      <th>92</th>\n",
       "      <td>0099_02</td>\n",
       "      <td>Earth</td>\n",
       "      <td>NaN</td>\n",
       "      <td>G/12/P</td>\n",
       "      <td>TRAPPIST-1e</td>\n",
       "      <td>2.0</td>\n",
       "      <td>False</td>\n",
       "      <td>0.0</td>\n",
       "      <td>0.0</td>\n",
       "      <td>0.0</td>\n",
       "      <td>0.0</td>\n",
       "      <td>0.0</td>\n",
       "      <td>Thewis Connelson</td>\n",
       "      <td>True</td>\n",
       "    </tr>\n",
       "    <tr>\n",
       "      <th>93</th>\n",
       "      <td>0101_01</td>\n",
       "      <td>Mars</td>\n",
       "      <td>True</td>\n",
       "      <td>NaN</td>\n",
       "      <td>TRAPPIST-1e</td>\n",
       "      <td>31.0</td>\n",
       "      <td>False</td>\n",
       "      <td>0.0</td>\n",
       "      <td>0.0</td>\n",
       "      <td>0.0</td>\n",
       "      <td>0.0</td>\n",
       "      <td>0.0</td>\n",
       "      <td>Book Trad</td>\n",
       "      <td>True</td>\n",
       "    </tr>\n",
       "    <tr>\n",
       "      <th>94</th>\n",
       "      <td>0102_01</td>\n",
       "      <td>Earth</td>\n",
       "      <td>False</td>\n",
       "      <td>F/23/S</td>\n",
       "      <td>TRAPPIST-1e</td>\n",
       "      <td>18.0</td>\n",
       "      <td>False</td>\n",
       "      <td>0.0</td>\n",
       "      <td>0.0</td>\n",
       "      <td>0.0</td>\n",
       "      <td>830.0</td>\n",
       "      <td>91.0</td>\n",
       "      <td>Ritany Holson</td>\n",
       "      <td>False</td>\n",
       "    </tr>\n",
       "    <tr>\n",
       "      <th>95</th>\n",
       "      <td>0103_01</td>\n",
       "      <td>Earth</td>\n",
       "      <td>False</td>\n",
       "      <td>F/24/S</td>\n",
       "      <td>TRAPPIST-1e</td>\n",
       "      <td>24.0</td>\n",
       "      <td>False</td>\n",
       "      <td>0.0</td>\n",
       "      <td>NaN</td>\n",
       "      <td>0.0</td>\n",
       "      <td>0.0</td>\n",
       "      <td>17.0</td>\n",
       "      <td>Arlen Mclainez</td>\n",
       "      <td>True</td>\n",
       "    </tr>\n",
       "    <tr>\n",
       "      <th>96</th>\n",
       "      <td>0103_02</td>\n",
       "      <td>Earth</td>\n",
       "      <td>True</td>\n",
       "      <td>G/18/S</td>\n",
       "      <td>55 Cancri e</td>\n",
       "      <td>9.0</td>\n",
       "      <td>False</td>\n",
       "      <td>0.0</td>\n",
       "      <td>0.0</td>\n",
       "      <td>0.0</td>\n",
       "      <td>0.0</td>\n",
       "      <td>0.0</td>\n",
       "      <td>Shaele Mclainez</td>\n",
       "      <td>True</td>\n",
       "    </tr>\n",
       "    <tr>\n",
       "      <th>97</th>\n",
       "      <td>0103_03</td>\n",
       "      <td>Earth</td>\n",
       "      <td>True</td>\n",
       "      <td>G/18/S</td>\n",
       "      <td>TRAPPIST-1e</td>\n",
       "      <td>6.0</td>\n",
       "      <td>False</td>\n",
       "      <td>0.0</td>\n",
       "      <td>0.0</td>\n",
       "      <td>0.0</td>\n",
       "      <td>0.0</td>\n",
       "      <td>0.0</td>\n",
       "      <td>Fanne Mclainez</td>\n",
       "      <td>False</td>\n",
       "    </tr>\n",
       "    <tr>\n",
       "      <th>98</th>\n",
       "      <td>0105_01</td>\n",
       "      <td>Earth</td>\n",
       "      <td>NaN</td>\n",
       "      <td>F/21/P</td>\n",
       "      <td>TRAPPIST-1e</td>\n",
       "      <td>27.0</td>\n",
       "      <td>False</td>\n",
       "      <td>0.0</td>\n",
       "      <td>0.0</td>\n",
       "      <td>570.0</td>\n",
       "      <td>2.0</td>\n",
       "      <td>131.0</td>\n",
       "      <td>Carry Cleachrand</td>\n",
       "      <td>False</td>\n",
       "    </tr>\n",
       "    <tr>\n",
       "      <th>99</th>\n",
       "      <td>0107_01</td>\n",
       "      <td>Mars</td>\n",
       "      <td>False</td>\n",
       "      <td>D/2/S</td>\n",
       "      <td>TRAPPIST-1e</td>\n",
       "      <td>21.0</td>\n",
       "      <td>False</td>\n",
       "      <td>1743.0</td>\n",
       "      <td>5.0</td>\n",
       "      <td>17.0</td>\n",
       "      <td>0.0</td>\n",
       "      <td>0.0</td>\n",
       "      <td>Coobix Hart</td>\n",
       "      <td>False</td>\n",
       "    </tr>\n",
       "  </tbody>\n",
       "</table>\n",
       "</div>"
      ],
      "text/plain": [
       "   PassengerId HomePlanet CryoSleep   Cabin    Destination   Age    VIP  \\\n",
       "0      0001_01     Europa     False   B/0/P    TRAPPIST-1e  39.0  False   \n",
       "1      0002_01      Earth     False   F/0/S    TRAPPIST-1e  24.0  False   \n",
       "2      0003_01     Europa     False   A/0/S    TRAPPIST-1e  58.0   True   \n",
       "3      0003_02     Europa     False   A/0/S    TRAPPIST-1e  33.0  False   \n",
       "4      0004_01      Earth     False   F/1/S    TRAPPIST-1e  16.0  False   \n",
       "5      0005_01      Earth     False   F/0/P  PSO J318.5-22  44.0  False   \n",
       "6      0006_01      Earth     False   F/2/S    TRAPPIST-1e  26.0  False   \n",
       "7      0006_02      Earth      True   G/0/S    TRAPPIST-1e  28.0  False   \n",
       "8      0007_01      Earth     False   F/3/S    TRAPPIST-1e  35.0  False   \n",
       "9      0008_01     Europa      True   B/1/P    55 Cancri e  14.0  False   \n",
       "10     0008_02     Europa      True   B/1/P    TRAPPIST-1e  34.0  False   \n",
       "11     0008_03     Europa     False   B/1/P    55 Cancri e  45.0  False   \n",
       "12     0009_01       Mars     False   F/1/P    TRAPPIST-1e  32.0  False   \n",
       "13     0010_01      Earth     False   G/1/S    TRAPPIST-1e  48.0  False   \n",
       "14     0011_01      Earth     False   F/2/P    TRAPPIST-1e  28.0  False   \n",
       "15     0012_01      Earth     False     NaN    TRAPPIST-1e  31.0  False   \n",
       "16     0014_01       Mars     False   F/3/P    55 Cancri e  27.0  False   \n",
       "17     0015_01      Earth     False   F/4/P    55 Cancri e  24.0  False   \n",
       "18     0016_01       Mars      True   F/5/P    TRAPPIST-1e  45.0  False   \n",
       "19     0017_01      Earth     False   G/0/P    TRAPPIST-1e   0.0  False   \n",
       "20     0017_02      Earth     False   F/6/P    55 Cancri e  14.0  False   \n",
       "21     0020_01      Earth      True   E/0/S    TRAPPIST-1e   1.0  False   \n",
       "22     0020_02      Earth      True   E/0/S    55 Cancri e  49.0  False   \n",
       "23     0020_03      Earth      True   E/0/S    55 Cancri e  29.0  False   \n",
       "24     0020_04      Earth     False   E/0/S    TRAPPIST-1e  10.0  False   \n",
       "25     0020_05      Earth      True   E/0/S  PSO J318.5-22   1.0  False   \n",
       "26     0020_06      Earth     False   E/0/S    TRAPPIST-1e   7.0  False   \n",
       "27     0022_01       Mars     False   D/0/P    TRAPPIST-1e  21.0  False   \n",
       "28     0024_01     Europa      True   C/2/S    TRAPPIST-1e  62.0  False   \n",
       "29     0025_01      Earth     False   F/6/S    TRAPPIST-1e  15.0  False   \n",
       "30     0026_01     Europa     False   C/0/P    55 Cancri e  34.0  False   \n",
       "31     0028_01       Mars     False   F/8/P    TRAPPIST-1e  43.0  False   \n",
       "32     0030_01      Earth     False   G/4/S    TRAPPIST-1e  32.0  False   \n",
       "33     0031_01       Mars     False   F/9/P    TRAPPIST-1e  47.0  False   \n",
       "34     0031_02       Mars     False   F/9/P    TRAPPIST-1e   2.0  False   \n",
       "35     0031_03       Mars     False   F/9/P    TRAPPIST-1e  20.0  False   \n",
       "36     0034_01     Europa      True   D/1/S    55 Cancri e  28.0  False   \n",
       "37     0035_01       Mars     False   D/1/P    55 Cancri e  23.0  False   \n",
       "38     0036_01      Earth     False   F/8/S    55 Cancri e  15.0    NaN   \n",
       "39     0038_01      Earth     False  F/10/S    55 Cancri e  20.0  False   \n",
       "40     0039_01      Earth      True   G/1/P    55 Cancri e  30.0  False   \n",
       "41     0041_01      Earth      True   G/2/P    TRAPPIST-1e  17.0  False   \n",
       "42     0043_01     Europa     False   B/3/P    TRAPPIST-1e  45.0  False   \n",
       "43     0044_01      Earth      True   G/3/P    TRAPPIST-1e  55.0  False   \n",
       "44     0044_02      Earth      True   G/3/P    55 Cancri e   4.0  False   \n",
       "45     0044_03      Earth      True   G/3/P  PSO J318.5-22  21.0  False   \n",
       "46     0045_01       Mars     False  F/10/P    TRAPPIST-1e  21.0  False   \n",
       "47     0045_02       Mars      True  F/10/P            NaN  19.0  False   \n",
       "48     0050_01      Earth     False   E/1/S    55 Cancri e  35.0  False   \n",
       "49     0051_01      Earth     False   E/2/S    TRAPPIST-1e  56.0  False   \n",
       "50     0052_01      Earth     False   G/6/S    TRAPPIST-1e   NaN  False   \n",
       "51     0053_01      Earth     False  F/11/S    TRAPPIST-1e  25.0  False   \n",
       "52     0056_01     Europa     False   A/1/S    TRAPPIST-1e   2.0  False   \n",
       "53     0056_02     Europa      True   A/1/S    TRAPPIST-1e  38.0  False   \n",
       "54     0056_03     Europa     False   A/1/S    TRAPPIST-1e  27.0  False   \n",
       "55     0058_01      Earth      True   G/7/S  PSO J318.5-22  36.0  False   \n",
       "56     0061_01      Earth     False  F/12/S    TRAPPIST-1e  22.0  False   \n",
       "57     0062_01      Earth     False  F/13/S    TRAPPIST-1e  62.0  False   \n",
       "58     0064_01       Mars      True  F/14/S    TRAPPIST-1e  15.0  False   \n",
       "59     0064_02        NaN      True   E/3/S    TRAPPIST-1e  33.0  False   \n",
       "60     0066_01      Earth     False   G/6/P    TRAPPIST-1e  62.0  False   \n",
       "61     0067_01      Earth      True  G/10/S  PSO J318.5-22   0.0  False   \n",
       "62     0067_02      Earth     False  G/10/S    TRAPPIST-1e  18.0  False   \n",
       "63     0067_03      Earth     False  F/15/S    55 Cancri e  21.0  False   \n",
       "64     0068_01       Mars     False   E/4/S    TRAPPIST-1e   NaN  False   \n",
       "65     0069_01      Earth     False  F/16/S    TRAPPIST-1e  42.0  False   \n",
       "66     0070_01      Earth     False  F/13/P    TRAPPIST-1e  19.0  False   \n",
       "67     0071_01      Earth     False  F/14/P    TRAPPIST-1e  17.0  False   \n",
       "68     0072_01      Earth     False  F/17/S    TRAPPIST-1e  14.0  False   \n",
       "69     0073_01       Mars     False   D/3/P  PSO J318.5-22  37.0  False   \n",
       "70     0074_01     Europa     False   C/3/S    TRAPPIST-1e  42.0  False   \n",
       "71     0076_01       Mars     False  F/18/S    TRAPPIST-1e  27.0  False   \n",
       "72     0077_01       Mars     False  F/15/P    TRAPPIST-1e  28.0  False   \n",
       "73     0078_01     Europa     False   C/4/S    TRAPPIST-1e  38.0  False   \n",
       "74     0081_01      Earth      True  G/13/S    TRAPPIST-1e  13.0  False   \n",
       "75     0082_01       Mars     False  F/16/P    TRAPPIST-1e  42.0  False   \n",
       "76     0082_02       Mars      True  F/16/P    TRAPPIST-1e   2.0  False   \n",
       "77     0082_03       Mars     False  F/16/P    TRAPPIST-1e   8.0  False   \n",
       "78     0084_01      Earth     False  G/14/S    TRAPPIST-1e  24.0  False   \n",
       "79     0085_01     Europa      True   C/5/S    TRAPPIST-1e  40.0  False   \n",
       "80     0086_01      Earth     False  F/17/P    TRAPPIST-1e  43.0  False   \n",
       "81     0088_01       Mars      True   E/5/S  PSO J318.5-22  45.0  False   \n",
       "82     0090_01      Earth      True  G/15/S    TRAPPIST-1e  35.0  False   \n",
       "83     0091_01      Earth      True  G/16/S    TRAPPIST-1e  26.0  False   \n",
       "84     0091_02      Earth     False  F/20/S    TRAPPIST-1e  27.0  False   \n",
       "85     0092_01      Earth     False   G/9/P    TRAPPIST-1e  19.0  False   \n",
       "86     0092_02      Earth      True   G/9/P    TRAPPIST-1e   0.0  False   \n",
       "87     0092_03      Earth      True   G/9/P    TRAPPIST-1e   3.0  False   \n",
       "88     0097_01     Europa     False   A/2/S    TRAPPIST-1e  54.0  False   \n",
       "89     0098_01      Earth     False  G/11/P    TRAPPIST-1e  26.0  False   \n",
       "90     0098_02      Earth     False  G/11/P    TRAPPIST-1e  26.0  False   \n",
       "91     0099_01      Earth     False  F/19/P  PSO J318.5-22  23.0  False   \n",
       "92     0099_02      Earth       NaN  G/12/P    TRAPPIST-1e   2.0  False   \n",
       "93     0101_01       Mars      True     NaN    TRAPPIST-1e  31.0  False   \n",
       "94     0102_01      Earth     False  F/23/S    TRAPPIST-1e  18.0  False   \n",
       "95     0103_01      Earth     False  F/24/S    TRAPPIST-1e  24.0  False   \n",
       "96     0103_02      Earth      True  G/18/S    55 Cancri e   9.0  False   \n",
       "97     0103_03      Earth      True  G/18/S    TRAPPIST-1e   6.0  False   \n",
       "98     0105_01      Earth       NaN  F/21/P    TRAPPIST-1e  27.0  False   \n",
       "99     0107_01       Mars     False   D/2/S    TRAPPIST-1e  21.0  False   \n",
       "\n",
       "    RoomService  FoodCourt  ShoppingMall     Spa  VRDeck                Name  \\\n",
       "0           0.0        0.0           0.0     0.0     0.0     Maham Ofracculy   \n",
       "1         109.0        9.0          25.0   549.0    44.0        Juanna Vines   \n",
       "2          43.0     3576.0           0.0  6715.0    49.0       Altark Susent   \n",
       "3           0.0     1283.0         371.0  3329.0   193.0        Solam Susent   \n",
       "4         303.0       70.0         151.0   565.0     2.0   Willy Santantines   \n",
       "5           0.0      483.0           0.0   291.0     0.0   Sandie Hinetthews   \n",
       "6          42.0     1539.0           3.0     0.0     0.0  Billex Jacostaffey   \n",
       "7           0.0        0.0           0.0     0.0     NaN  Candra Jacostaffey   \n",
       "8           0.0      785.0          17.0   216.0     0.0       Andona Beston   \n",
       "9           0.0        0.0           0.0     0.0     0.0      Erraiam Flatic   \n",
       "10          0.0        0.0           NaN     0.0     0.0      Altardr Flatic   \n",
       "11         39.0     7295.0         589.0   110.0   124.0       Wezena Flatic   \n",
       "12         73.0        0.0        1123.0     0.0   113.0        Berers Barne   \n",
       "13        719.0        1.0          65.0     0.0    24.0      Reney Baketton   \n",
       "14          8.0      974.0          12.0     2.0     7.0     Elle Bertsontry   \n",
       "15         32.0        0.0         876.0     0.0     0.0       Justie Pooles   \n",
       "16       1286.0      122.0           NaN     0.0     0.0         Flats Eccle   \n",
       "17          0.0        1.0           0.0     0.0   637.0     Carry Hughriend   \n",
       "18          0.0        0.0           0.0     0.0     0.0          Alus Upead   \n",
       "19          0.0        0.0           0.0     0.0     0.0       Lyde Brighttt   \n",
       "20        412.0        0.0           1.0     0.0   679.0     Philda Brighttt   \n",
       "21          0.0        0.0           0.0     0.0     0.0   Almary Brantuarez   \n",
       "22          0.0        0.0           0.0     0.0     0.0   Glendy Brantuarez   \n",
       "23          0.0        0.0           NaN     0.0     0.0  Mollen Mcfaddennon   \n",
       "24          0.0        0.0           0.0     0.0     0.0  Breney Jacostanley   \n",
       "25          NaN        0.0           0.0     0.0     0.0     Mael Brantuarez   \n",
       "26          0.0        0.0           0.0     0.0     0.0   Terta Mcfaddennon   \n",
       "27        980.0        2.0          69.0     0.0     0.0                 NaN   \n",
       "28          0.0        0.0           NaN     0.0     0.0     Penton Fullided   \n",
       "29          0.0      225.0           0.0   998.0     0.0   Karard Brookenson   \n",
       "30         22.0     6073.0           0.0  1438.0   328.0     Anyoni Unconary   \n",
       "31       1125.0        0.0         136.0    48.0     0.0          Ceros Mare   \n",
       "32          0.0      850.0          81.0   437.0   453.0    Ginia Morsentley   \n",
       "33        214.0        0.0        1411.0     0.0  1229.0        Coobix Datie   \n",
       "34          0.0        0.0           0.0     0.0     0.0        Cinets Datie   \n",
       "35          NaN        0.0        1750.0   990.0     0.0        Dontch Datie   \n",
       "36          0.0        0.0           0.0     0.0     0.0     Ziba Oingwhedly   \n",
       "37        784.0      964.0           0.0   951.0     0.0          Luse Butte   \n",
       "38          0.0      492.0          48.0    20.0   401.0      Marina Leodger   \n",
       "39        554.0      195.0           0.0  2606.0     0.0       Loise Wheelez   \n",
       "40          0.0        0.0           NaN     0.0     0.0   Jorgie Batthewitt   \n",
       "41          0.0        0.0           0.0     0.0     0.0      Margia Moodsey   \n",
       "42          0.0      164.0          45.0  2511.0   855.0  Ankalik Cylistrand   \n",
       "43          0.0        0.0           0.0     0.0     0.0   Jodye Coopelandez   \n",
       "44          0.0        0.0           0.0     0.0     0.0   Kayne Coopelandez   \n",
       "45          0.0        0.0           0.0     0.0     0.0   Cassa Coopelandez   \n",
       "46        970.0        0.0         180.0     0.0    64.0        Zelowl Chmad   \n",
       "47          0.0        0.0           0.0     0.0     0.0          Mass Chmad   \n",
       "48        790.0        0.0           0.0     NaN     0.0         Sony Lancis   \n",
       "49          0.0      112.0           0.0  1379.0   127.0    Vivia Johnshines   \n",
       "50          4.0        0.0           2.0  4683.0     0.0    Elaney Hubbarton   \n",
       "51          0.0        0.0        1938.0     0.0     1.0     Elson Hickerson   \n",
       "52          0.0        0.0           0.0     0.0     0.0     Okulas Tractive   \n",
       "53          0.0        0.0           0.0     0.0     0.0     Instab Tractive   \n",
       "54        279.0      605.0        3374.0   286.0     3.0    Zinoces Tractive   \n",
       "55          0.0        0.0           0.0     0.0     0.0    Warry Ayalazquez   \n",
       "56         45.0     1096.0         148.0  1377.0     1.0        Shanya Salez   \n",
       "57          0.0      592.0           0.0    17.0    25.0      Sterry Greeves   \n",
       "58          0.0        0.0           0.0     0.0     0.0                 NaN   \n",
       "59          0.0        0.0           NaN     0.0     0.0         Colatz Keen   \n",
       "60          1.0      153.0         197.0     0.0   460.0    Diandy Pecketton   \n",
       "61          0.0        0.0           0.0     0.0     0.0       Ninaha Leeves   \n",
       "62          1.0      258.0         446.0     0.0     0.0       Celine Leeves   \n",
       "63       1946.0       37.0           0.0     0.0    24.0       Velyne Leeves   \n",
       "64        793.0        0.0           2.0   253.0     0.0         Cinst Binie   \n",
       "65        887.0        0.0           9.0     6.0     0.0                 NaN   \n",
       "66        190.0        0.0           5.0     1.0   726.0     Meremy Brighttt   \n",
       "67         16.0     2165.0           0.0     0.0    52.0      Nelly Dillines   \n",
       "68          0.0        1.0           0.0     0.0  1063.0    Thell Brantuarez   \n",
       "69         46.0       83.0         738.0     0.0    12.0           Gorn Make   \n",
       "70          1.0     8397.0           0.0     0.0   506.0    Aldibah Mostedry   \n",
       "71        147.0        0.0        1018.0     0.0     0.0            Conk Dal   \n",
       "72         14.0        0.0        1295.0     0.0     0.0           Pon Blité   \n",
       "73          0.0     5840.0           0.0   321.0  9654.0     Spuri Pokerheed   \n",
       "74          0.0        0.0           0.0     0.0     0.0    Dellie Vinozarks   \n",
       "75       7406.0        0.0           0.0     0.0     0.0         Totse Datte   \n",
       "76          0.0        0.0           0.0     0.0     0.0        Eaturs Datte   \n",
       "77          0.0        0.0           0.0     0.0     0.0                 NaN   \n",
       "78        688.0        0.0           0.0     0.0    17.0   Coren Coopezmaney   \n",
       "79          0.0        0.0           0.0     0.0     0.0  Furudah Ellcefulve   \n",
       "80        211.0        0.0           0.0   638.0   513.0        Jodye Kinson   \n",
       "81          0.0        0.0           0.0     0.0     0.0        Stmeal Sacre   \n",
       "82          0.0        0.0           0.0     0.0     0.0       Heremy Santry   \n",
       "83          NaN        0.0           0.0     0.0     0.0     Deanne Yorkland   \n",
       "84          1.0      697.0          31.0   188.0     0.0      Tinez Yorkland   \n",
       "85          0.0        0.0         670.0     1.0    34.0      Gracy Dunnisey   \n",
       "86          0.0        0.0           NaN     0.0     0.0        Stald Hewson   \n",
       "87          0.0        0.0           0.0     0.0     0.0        Tiney Hewson   \n",
       "88          0.0     1208.0           0.0     3.0   637.0     Alchium Fictful   \n",
       "89          0.0      856.0           5.0    32.0     0.0     Doria Carezquez   \n",
       "90          0.0     2811.0         957.0     0.0    87.0    Leence Carezquez   \n",
       "91        311.0      427.0         526.0    37.0     0.0   Aliey Leetersoney   \n",
       "92          0.0        0.0           0.0     0.0     0.0    Thewis Connelson   \n",
       "93          0.0        0.0           0.0     0.0     0.0           Book Trad   \n",
       "94          0.0        0.0           0.0   830.0    91.0       Ritany Holson   \n",
       "95          0.0        NaN           0.0     0.0    17.0      Arlen Mclainez   \n",
       "96          0.0        0.0           0.0     0.0     0.0     Shaele Mclainez   \n",
       "97          0.0        0.0           0.0     0.0     0.0      Fanne Mclainez   \n",
       "98          0.0        0.0         570.0     2.0   131.0    Carry Cleachrand   \n",
       "99       1743.0        5.0          17.0     0.0     0.0         Coobix Hart   \n",
       "\n",
       "    Transported  \n",
       "0         False  \n",
       "1          True  \n",
       "2         False  \n",
       "3         False  \n",
       "4          True  \n",
       "5          True  \n",
       "6          True  \n",
       "7          True  \n",
       "8          True  \n",
       "9          True  \n",
       "10         True  \n",
       "11         True  \n",
       "12         True  \n",
       "13        False  \n",
       "14         True  \n",
       "15        False  \n",
       "16        False  \n",
       "17        False  \n",
       "18         True  \n",
       "19         True  \n",
       "20        False  \n",
       "21        False  \n",
       "22        False  \n",
       "23        False  \n",
       "24         True  \n",
       "25        False  \n",
       "26        False  \n",
       "27        False  \n",
       "28         True  \n",
       "29        False  \n",
       "30        False  \n",
       "31        False  \n",
       "32        False  \n",
       "33         True  \n",
       "34         True  \n",
       "35         True  \n",
       "36         True  \n",
       "37        False  \n",
       "38        False  \n",
       "39        False  \n",
       "40        False  \n",
       "41         True  \n",
       "42        False  \n",
       "43        False  \n",
       "44         True  \n",
       "45         True  \n",
       "46        False  \n",
       "47         True  \n",
       "48        False  \n",
       "49        False  \n",
       "50        False  \n",
       "51         True  \n",
       "52         True  \n",
       "53         True  \n",
       "54         True  \n",
       "55        False  \n",
       "56        False  \n",
       "57        False  \n",
       "58         True  \n",
       "59         True  \n",
       "60        False  \n",
       "61         True  \n",
       "62         True  \n",
       "63        False  \n",
       "64        False  \n",
       "65         True  \n",
       "66        False  \n",
       "67        False  \n",
       "68        False  \n",
       "69        False  \n",
       "70         True  \n",
       "71         True  \n",
       "72         True  \n",
       "73        False  \n",
       "74        False  \n",
       "75        False  \n",
       "76         True  \n",
       "77         True  \n",
       "78         True  \n",
       "79         True  \n",
       "80        False  \n",
       "81         True  \n",
       "82         True  \n",
       "83         True  \n",
       "84        False  \n",
       "85        False  \n",
       "86         True  \n",
       "87         True  \n",
       "88        False  \n",
       "89        False  \n",
       "90         True  \n",
       "91        False  \n",
       "92         True  \n",
       "93         True  \n",
       "94        False  \n",
       "95         True  \n",
       "96         True  \n",
       "97        False  \n",
       "98        False  \n",
       "99        False  "
      ]
     },
     "execution_count": 3,
     "metadata": {},
     "output_type": "execute_result"
    }
   ],
   "source": [
    "train_df = pd.read_csv('/kaggle/input/spaceship-titanic/train.csv')\n",
    "test_df = pd.read_csv('/kaggle/input/spaceship-titanic/test.csv')\n",
    "datasets = [train_df, test_df]\n",
    "train_df.head(100)"
   ]
  },
  {
   "cell_type": "code",
   "execution_count": 4,
   "id": "6f94bbf8",
   "metadata": {
    "execution": {
     "iopub.execute_input": "2022-11-28T02:25:06.641064Z",
     "iopub.status.busy": "2022-11-28T02:25:06.640373Z",
     "iopub.status.idle": "2022-11-28T02:25:06.658768Z",
     "shell.execute_reply": "2022-11-28T02:25:06.657859Z"
    },
    "papermill": {
     "duration": 0.041256,
     "end_time": "2022-11-28T02:25:06.660777",
     "exception": false,
     "start_time": "2022-11-28T02:25:06.619521",
     "status": "completed"
    },
    "tags": []
   },
   "outputs": [
    {
     "data": {
      "text/html": [
       "<div>\n",
       "<style scoped>\n",
       "    .dataframe tbody tr th:only-of-type {\n",
       "        vertical-align: middle;\n",
       "    }\n",
       "\n",
       "    .dataframe tbody tr th {\n",
       "        vertical-align: top;\n",
       "    }\n",
       "\n",
       "    .dataframe thead th {\n",
       "        text-align: right;\n",
       "    }\n",
       "</style>\n",
       "<table border=\"1\" class=\"dataframe\">\n",
       "  <thead>\n",
       "    <tr style=\"text-align: right;\">\n",
       "      <th></th>\n",
       "      <th>PassengerId</th>\n",
       "      <th>HomePlanet</th>\n",
       "      <th>CryoSleep</th>\n",
       "      <th>Cabin</th>\n",
       "      <th>Destination</th>\n",
       "      <th>Age</th>\n",
       "      <th>VIP</th>\n",
       "      <th>RoomService</th>\n",
       "      <th>FoodCourt</th>\n",
       "      <th>ShoppingMall</th>\n",
       "      <th>Spa</th>\n",
       "      <th>VRDeck</th>\n",
       "      <th>Name</th>\n",
       "    </tr>\n",
       "  </thead>\n",
       "  <tbody>\n",
       "    <tr>\n",
       "      <th>0</th>\n",
       "      <td>0013_01</td>\n",
       "      <td>Earth</td>\n",
       "      <td>True</td>\n",
       "      <td>G/3/S</td>\n",
       "      <td>TRAPPIST-1e</td>\n",
       "      <td>27.0</td>\n",
       "      <td>False</td>\n",
       "      <td>0.0</td>\n",
       "      <td>0.0</td>\n",
       "      <td>0.0</td>\n",
       "      <td>0.0</td>\n",
       "      <td>0.0</td>\n",
       "      <td>Nelly Carsoning</td>\n",
       "    </tr>\n",
       "    <tr>\n",
       "      <th>1</th>\n",
       "      <td>0018_01</td>\n",
       "      <td>Earth</td>\n",
       "      <td>False</td>\n",
       "      <td>F/4/S</td>\n",
       "      <td>TRAPPIST-1e</td>\n",
       "      <td>19.0</td>\n",
       "      <td>False</td>\n",
       "      <td>0.0</td>\n",
       "      <td>9.0</td>\n",
       "      <td>0.0</td>\n",
       "      <td>2823.0</td>\n",
       "      <td>0.0</td>\n",
       "      <td>Lerome Peckers</td>\n",
       "    </tr>\n",
       "    <tr>\n",
       "      <th>2</th>\n",
       "      <td>0019_01</td>\n",
       "      <td>Europa</td>\n",
       "      <td>True</td>\n",
       "      <td>C/0/S</td>\n",
       "      <td>55 Cancri e</td>\n",
       "      <td>31.0</td>\n",
       "      <td>False</td>\n",
       "      <td>0.0</td>\n",
       "      <td>0.0</td>\n",
       "      <td>0.0</td>\n",
       "      <td>0.0</td>\n",
       "      <td>0.0</td>\n",
       "      <td>Sabih Unhearfus</td>\n",
       "    </tr>\n",
       "    <tr>\n",
       "      <th>3</th>\n",
       "      <td>0021_01</td>\n",
       "      <td>Europa</td>\n",
       "      <td>False</td>\n",
       "      <td>C/1/S</td>\n",
       "      <td>TRAPPIST-1e</td>\n",
       "      <td>38.0</td>\n",
       "      <td>False</td>\n",
       "      <td>0.0</td>\n",
       "      <td>6652.0</td>\n",
       "      <td>0.0</td>\n",
       "      <td>181.0</td>\n",
       "      <td>585.0</td>\n",
       "      <td>Meratz Caltilter</td>\n",
       "    </tr>\n",
       "    <tr>\n",
       "      <th>4</th>\n",
       "      <td>0023_01</td>\n",
       "      <td>Earth</td>\n",
       "      <td>False</td>\n",
       "      <td>F/5/S</td>\n",
       "      <td>TRAPPIST-1e</td>\n",
       "      <td>20.0</td>\n",
       "      <td>False</td>\n",
       "      <td>10.0</td>\n",
       "      <td>0.0</td>\n",
       "      <td>635.0</td>\n",
       "      <td>0.0</td>\n",
       "      <td>0.0</td>\n",
       "      <td>Brence Harperez</td>\n",
       "    </tr>\n",
       "  </tbody>\n",
       "</table>\n",
       "</div>"
      ],
      "text/plain": [
       "  PassengerId HomePlanet CryoSleep  Cabin  Destination   Age    VIP  \\\n",
       "0     0013_01      Earth      True  G/3/S  TRAPPIST-1e  27.0  False   \n",
       "1     0018_01      Earth     False  F/4/S  TRAPPIST-1e  19.0  False   \n",
       "2     0019_01     Europa      True  C/0/S  55 Cancri e  31.0  False   \n",
       "3     0021_01     Europa     False  C/1/S  TRAPPIST-1e  38.0  False   \n",
       "4     0023_01      Earth     False  F/5/S  TRAPPIST-1e  20.0  False   \n",
       "\n",
       "   RoomService  FoodCourt  ShoppingMall     Spa  VRDeck              Name  \n",
       "0          0.0        0.0           0.0     0.0     0.0   Nelly Carsoning  \n",
       "1          0.0        9.0           0.0  2823.0     0.0    Lerome Peckers  \n",
       "2          0.0        0.0           0.0     0.0     0.0   Sabih Unhearfus  \n",
       "3          0.0     6652.0           0.0   181.0   585.0  Meratz Caltilter  \n",
       "4         10.0        0.0         635.0     0.0     0.0   Brence Harperez  "
      ]
     },
     "execution_count": 4,
     "metadata": {},
     "output_type": "execute_result"
    }
   ],
   "source": [
    "test_df.head()"
   ]
  },
  {
   "cell_type": "markdown",
   "id": "98d60cac",
   "metadata": {
    "papermill": {
     "duration": 0.01947,
     "end_time": "2022-11-28T02:25:06.699947",
     "exception": false,
     "start_time": "2022-11-28T02:25:06.680477",
     "status": "completed"
    },
    "tags": []
   },
   "source": [
    "#### Look at unique values for categorical columns"
   ]
  },
  {
   "cell_type": "code",
   "execution_count": 5,
   "id": "f03e7330",
   "metadata": {
    "execution": {
     "iopub.execute_input": "2022-11-28T02:25:06.741360Z",
     "iopub.status.busy": "2022-11-28T02:25:06.740757Z",
     "iopub.status.idle": "2022-11-28T02:25:06.753151Z",
     "shell.execute_reply": "2022-11-28T02:25:06.751592Z"
    },
    "papermill": {
     "duration": 0.035166,
     "end_time": "2022-11-28T02:25:06.755109",
     "exception": false,
     "start_time": "2022-11-28T02:25:06.719943",
     "status": "completed"
    },
    "tags": []
   },
   "outputs": [
    {
     "data": {
      "text/plain": [
       "array(['Europa', 'Earth', 'Mars', nan], dtype=object)"
      ]
     },
     "execution_count": 5,
     "metadata": {},
     "output_type": "execute_result"
    }
   ],
   "source": [
    "train_df['HomePlanet'].unique()"
   ]
  },
  {
   "cell_type": "code",
   "execution_count": 6,
   "id": "0fd93e99",
   "metadata": {
    "execution": {
     "iopub.execute_input": "2022-11-28T02:25:06.796174Z",
     "iopub.status.busy": "2022-11-28T02:25:06.795835Z",
     "iopub.status.idle": "2022-11-28T02:25:06.803370Z",
     "shell.execute_reply": "2022-11-28T02:25:06.802680Z"
    },
    "papermill": {
     "duration": 0.030098,
     "end_time": "2022-11-28T02:25:06.805024",
     "exception": false,
     "start_time": "2022-11-28T02:25:06.774926",
     "status": "completed"
    },
    "tags": []
   },
   "outputs": [
    {
     "data": {
      "text/plain": [
       "(6561,)"
      ]
     },
     "execution_count": 6,
     "metadata": {},
     "output_type": "execute_result"
    }
   ],
   "source": [
    "# Unique Cabins\n",
    "train_df['Cabin'].unique().shape"
   ]
  },
  {
   "cell_type": "code",
   "execution_count": 7,
   "id": "e365a3db",
   "metadata": {
    "execution": {
     "iopub.execute_input": "2022-11-28T02:25:06.847557Z",
     "iopub.status.busy": "2022-11-28T02:25:06.846535Z",
     "iopub.status.idle": "2022-11-28T02:25:06.854034Z",
     "shell.execute_reply": "2022-11-28T02:25:06.852735Z"
    },
    "papermill": {
     "duration": 0.030963,
     "end_time": "2022-11-28T02:25:06.856126",
     "exception": false,
     "start_time": "2022-11-28T02:25:06.825163",
     "status": "completed"
    },
    "tags": []
   },
   "outputs": [
    {
     "data": {
      "text/plain": [
       "array(['TRAPPIST-1e', 'PSO J318.5-22', '55 Cancri e', nan], dtype=object)"
      ]
     },
     "execution_count": 7,
     "metadata": {},
     "output_type": "execute_result"
    }
   ],
   "source": [
    "# Unique Destination\n",
    "# Some values are nan\n",
    "train_df['Destination'].unique()"
   ]
  },
  {
   "cell_type": "markdown",
   "id": "4f62b616",
   "metadata": {
    "execution": {
     "iopub.execute_input": "2022-11-26T20:44:54.374061Z",
     "iopub.status.busy": "2022-11-26T20:44:54.373670Z",
     "iopub.status.idle": "2022-11-26T20:44:54.378842Z",
     "shell.execute_reply": "2022-11-26T20:44:54.377648Z",
     "shell.execute_reply.started": "2022-11-26T20:44:54.374029Z"
    },
    "papermill": {
     "duration": 0.019915,
     "end_time": "2022-11-28T02:25:06.896371",
     "exception": false,
     "start_time": "2022-11-28T02:25:06.876456",
     "status": "completed"
    },
    "tags": []
   },
   "source": [
    "#### Detect and Visualize missing data"
   ]
  },
  {
   "cell_type": "code",
   "execution_count": 8,
   "id": "90cd75df",
   "metadata": {
    "execution": {
     "iopub.execute_input": "2022-11-28T02:25:06.939465Z",
     "iopub.status.busy": "2022-11-28T02:25:06.938894Z",
     "iopub.status.idle": "2022-11-28T02:25:07.674139Z",
     "shell.execute_reply": "2022-11-28T02:25:07.673191Z"
    },
    "papermill": {
     "duration": 0.759332,
     "end_time": "2022-11-28T02:25:07.676201",
     "exception": false,
     "start_time": "2022-11-28T02:25:06.916869",
     "status": "completed"
    },
    "tags": []
   },
   "outputs": [
    {
     "data": {
      "text/plain": [
       "<AxesSubplot:>"
      ]
     },
     "execution_count": 8,
     "metadata": {},
     "output_type": "execute_result"
    },
    {
     "data": {
      "image/png": "[encoded data removed]",
      "text/plain": [
       "<Figure size 1728x720 with 3 Axes>"
      ]
     },
     "metadata": {},
     "output_type": "display_data"
    }
   ],
   "source": [
    "# Almost all values are present at more than 95% capacity\n",
    "msno.bar(train_df)"
   ]
  },
  {
   "cell_type": "code",
   "execution_count": 9,
   "id": "cacb92cd",
   "metadata": {
    "execution": {
     "iopub.execute_input": "2022-11-28T02:25:07.719528Z",
     "iopub.status.busy": "2022-11-28T02:25:07.719158Z",
     "iopub.status.idle": "2022-11-28T02:25:08.130761Z",
     "shell.execute_reply": "2022-11-28T02:25:08.129472Z"
    },
    "papermill": {
     "duration": 0.435686,
     "end_time": "2022-11-28T02:25:08.132824",
     "exception": false,
     "start_time": "2022-11-28T02:25:07.697138",
     "status": "completed"
    },
    "tags": []
   },
   "outputs": [
    {
     "data": {
      "text/plain": [
       "<AxesSubplot:>"
      ]
     },
     "execution_count": 9,
     "metadata": {},
     "output_type": "execute_result"
    },
    {
     "data": {
      "image/png": "[encoded data removed]",
      "text/plain": [
       "<Figure size 1800x720 with 2 Axes>"
      ]
     },
     "metadata": {},
     "output_type": "display_data"
    }
   ],
   "source": [
    "msno.matrix(train_df)"
   ]
  },
  {
   "cell_type": "markdown",
   "id": "fc17fc41",
   "metadata": {
    "execution": {
     "iopub.execute_input": "2022-11-26T20:45:45.998986Z",
     "iopub.status.busy": "2022-11-26T20:45:45.998606Z",
     "iopub.status.idle": "2022-11-26T20:45:46.003477Z",
     "shell.execute_reply": "2022-11-26T20:45:46.002375Z",
     "shell.execute_reply.started": "2022-11-26T20:45:45.998957Z"
    },
    "papermill": {
     "duration": 0.021769,
     "end_time": "2022-11-28T02:25:08.176902",
     "exception": false,
     "start_time": "2022-11-28T02:25:08.155133",
     "status": "completed"
    },
    "tags": []
   },
   "source": [
    "#### Analyze by describing data"
   ]
  },
  {
   "cell_type": "code",
   "execution_count": 10,
   "id": "a75affd5",
   "metadata": {
    "execution": {
     "iopub.execute_input": "2022-11-28T02:25:08.223844Z",
     "iopub.status.busy": "2022-11-28T02:25:08.223131Z",
     "iopub.status.idle": "2022-11-28T02:25:08.251539Z",
     "shell.execute_reply": "2022-11-28T02:25:08.250626Z"
    },
    "papermill": {
     "duration": 0.054305,
     "end_time": "2022-11-28T02:25:08.253482",
     "exception": false,
     "start_time": "2022-11-28T02:25:08.199177",
     "status": "completed"
    },
    "tags": []
   },
   "outputs": [
    {
     "data": {
      "text/html": [
       "<div>\n",
       "<style scoped>\n",
       "    .dataframe tbody tr th:only-of-type {\n",
       "        vertical-align: middle;\n",
       "    }\n",
       "\n",
       "    .dataframe tbody tr th {\n",
       "        vertical-align: top;\n",
       "    }\n",
       "\n",
       "    .dataframe thead th {\n",
       "        text-align: right;\n",
       "    }\n",
       "</style>\n",
       "<table border=\"1\" class=\"dataframe\">\n",
       "  <thead>\n",
       "    <tr style=\"text-align: right;\">\n",
       "      <th></th>\n",
       "      <th>Age</th>\n",
       "      <th>RoomService</th>\n",
       "      <th>FoodCourt</th>\n",
       "      <th>ShoppingMall</th>\n",
       "      <th>Spa</th>\n",
       "      <th>VRDeck</th>\n",
       "    </tr>\n",
       "  </thead>\n",
       "  <tbody>\n",
       "    <tr>\n",
       "      <th>count</th>\n",
       "      <td>8514.000000</td>\n",
       "      <td>8512.000000</td>\n",
       "      <td>8510.000000</td>\n",
       "      <td>8485.000000</td>\n",
       "      <td>8510.000000</td>\n",
       "      <td>8505.000000</td>\n",
       "    </tr>\n",
       "    <tr>\n",
       "      <th>mean</th>\n",
       "      <td>28.827930</td>\n",
       "      <td>224.687617</td>\n",
       "      <td>458.077203</td>\n",
       "      <td>173.729169</td>\n",
       "      <td>311.138778</td>\n",
       "      <td>304.854791</td>\n",
       "    </tr>\n",
       "    <tr>\n",
       "      <th>std</th>\n",
       "      <td>14.489021</td>\n",
       "      <td>666.717663</td>\n",
       "      <td>1611.489240</td>\n",
       "      <td>604.696458</td>\n",
       "      <td>1136.705535</td>\n",
       "      <td>1145.717189</td>\n",
       "    </tr>\n",
       "    <tr>\n",
       "      <th>min</th>\n",
       "      <td>0.000000</td>\n",
       "      <td>0.000000</td>\n",
       "      <td>0.000000</td>\n",
       "      <td>0.000000</td>\n",
       "      <td>0.000000</td>\n",
       "      <td>0.000000</td>\n",
       "    </tr>\n",
       "    <tr>\n",
       "      <th>25%</th>\n",
       "      <td>19.000000</td>\n",
       "      <td>0.000000</td>\n",
       "      <td>0.000000</td>\n",
       "      <td>0.000000</td>\n",
       "      <td>0.000000</td>\n",
       "      <td>0.000000</td>\n",
       "    </tr>\n",
       "    <tr>\n",
       "      <th>50%</th>\n",
       "      <td>27.000000</td>\n",
       "      <td>0.000000</td>\n",
       "      <td>0.000000</td>\n",
       "      <td>0.000000</td>\n",
       "      <td>0.000000</td>\n",
       "      <td>0.000000</td>\n",
       "    </tr>\n",
       "    <tr>\n",
       "      <th>75%</th>\n",
       "      <td>38.000000</td>\n",
       "      <td>47.000000</td>\n",
       "      <td>76.000000</td>\n",
       "      <td>27.000000</td>\n",
       "      <td>59.000000</td>\n",
       "      <td>46.000000</td>\n",
       "    </tr>\n",
       "    <tr>\n",
       "      <th>max</th>\n",
       "      <td>79.000000</td>\n",
       "      <td>14327.000000</td>\n",
       "      <td>29813.000000</td>\n",
       "      <td>23492.000000</td>\n",
       "      <td>22408.000000</td>\n",
       "      <td>24133.000000</td>\n",
       "    </tr>\n",
       "  </tbody>\n",
       "</table>\n",
       "</div>"
      ],
      "text/plain": [
       "               Age   RoomService     FoodCourt  ShoppingMall           Spa  \\\n",
       "count  8514.000000   8512.000000   8510.000000   8485.000000   8510.000000   \n",
       "mean     28.827930    224.687617    458.077203    173.729169    311.138778   \n",
       "std      14.489021    666.717663   1611.489240    604.696458   1136.705535   \n",
       "min       0.000000      0.000000      0.000000      0.000000      0.000000   \n",
       "25%      19.000000      0.000000      0.000000      0.000000      0.000000   \n",
       "50%      27.000000      0.000000      0.000000      0.000000      0.000000   \n",
       "75%      38.000000     47.000000     76.000000     27.000000     59.000000   \n",
       "max      79.000000  14327.000000  29813.000000  23492.000000  22408.000000   \n",
       "\n",
       "             VRDeck  \n",
       "count   8505.000000  \n",
       "mean     304.854791  \n",
       "std     1145.717189  \n",
       "min        0.000000  \n",
       "25%        0.000000  \n",
       "50%        0.000000  \n",
       "75%       46.000000  \n",
       "max    24133.000000  "
      ]
     },
     "execution_count": 10,
     "metadata": {},
     "output_type": "execute_result"
    }
   ],
   "source": [
    "train_df.describe()"
   ]
  },
  {
   "cell_type": "markdown",
   "id": "5a6cbf89",
   "metadata": {
    "execution": {
     "iopub.execute_input": "2022-11-26T20:46:31.914499Z",
     "iopub.status.busy": "2022-11-26T20:46:31.913426Z",
     "iopub.status.idle": "2022-11-26T20:46:31.920919Z",
     "shell.execute_reply": "2022-11-26T20:46:31.919487Z",
     "shell.execute_reply.started": "2022-11-26T20:46:31.914456Z"
    },
    "papermill": {
     "duration": 0.02191,
     "end_time": "2022-11-28T02:25:08.297600",
     "exception": false,
     "start_time": "2022-11-28T02:25:08.275690",
     "status": "completed"
    },
    "tags": []
   },
   "source": [
    "Most passengers are between the ages of 19-38"
   ]
  },
  {
   "cell_type": "markdown",
   "id": "928bc6df",
   "metadata": {
    "papermill": {
     "duration": 0.021993,
     "end_time": "2022-11-28T02:25:08.341614",
     "exception": false,
     "start_time": "2022-11-28T02:25:08.319621",
     "status": "completed"
    },
    "tags": []
   },
   "source": [
    "#### Data pivoting"
   ]
  },
  {
   "cell_type": "markdown",
   "id": "1f6ca637",
   "metadata": {
    "execution": {
     "iopub.execute_input": "2022-11-27T13:06:57.127969Z",
     "iopub.status.busy": "2022-11-27T13:06:57.127541Z",
     "iopub.status.idle": "2022-11-27T13:06:57.134607Z",
     "shell.execute_reply": "2022-11-27T13:06:57.133420Z",
     "shell.execute_reply.started": "2022-11-27T13:06:57.127933Z"
    },
    "papermill": {
     "duration": 0.022058,
     "end_time": "2022-11-28T02:25:08.386102",
     "exception": false,
     "start_time": "2022-11-28T02:25:08.364044",
     "status": "completed"
    },
    "tags": []
   },
   "source": [
    "Explore the correlation between being VIP and being transported"
   ]
  },
  {
   "cell_type": "code",
   "execution_count": 11,
   "id": "7f65a4c0",
   "metadata": {
    "execution": {
     "iopub.execute_input": "2022-11-28T02:25:08.431494Z",
     "iopub.status.busy": "2022-11-28T02:25:08.431090Z",
     "iopub.status.idle": "2022-11-28T02:25:08.448258Z",
     "shell.execute_reply": "2022-11-28T02:25:08.447391Z"
    },
    "papermill": {
     "duration": 0.041848,
     "end_time": "2022-11-28T02:25:08.450084",
     "exception": false,
     "start_time": "2022-11-28T02:25:08.408236",
     "status": "completed"
    },
    "tags": []
   },
   "outputs": [
    {
     "data": {
      "text/html": [
       "<div>\n",
       "<style scoped>\n",
       "    .dataframe tbody tr th:only-of-type {\n",
       "        vertical-align: middle;\n",
       "    }\n",
       "\n",
       "    .dataframe tbody tr th {\n",
       "        vertical-align: top;\n",
       "    }\n",
       "\n",
       "    .dataframe thead th {\n",
       "        text-align: right;\n",
       "    }\n",
       "</style>\n",
       "<table border=\"1\" class=\"dataframe\">\n",
       "  <thead>\n",
       "    <tr style=\"text-align: right;\">\n",
       "      <th></th>\n",
       "      <th>VIP</th>\n",
       "      <th>Transported</th>\n",
       "    </tr>\n",
       "  </thead>\n",
       "  <tbody>\n",
       "    <tr>\n",
       "      <th>0</th>\n",
       "      <td>False</td>\n",
       "      <td>0.506332</td>\n",
       "    </tr>\n",
       "    <tr>\n",
       "      <th>1</th>\n",
       "      <td>True</td>\n",
       "      <td>0.381910</td>\n",
       "    </tr>\n",
       "  </tbody>\n",
       "</table>\n",
       "</div>"
      ],
      "text/plain": [
       "     VIP  Transported\n",
       "0  False     0.506332\n",
       "1   True     0.381910"
      ]
     },
     "execution_count": 11,
     "metadata": {},
     "output_type": "execute_result"
    }
   ],
   "source": [
    "train_df[['VIP', 'Transported']].groupby(['VIP'], as_index=False).mean().sort_values(by=\"Transported\", ascending=False)"
   ]
  },
  {
   "cell_type": "markdown",
   "id": "f9351d73",
   "metadata": {
    "papermill": {
     "duration": 0.02203,
     "end_time": "2022-11-28T02:25:08.494173",
     "exception": false,
     "start_time": "2022-11-28T02:25:08.472143",
     "status": "completed"
    },
    "tags": []
   },
   "source": [
    "Explore the expected probability of transportation given that a passenger comes from a certain HomePlanet"
   ]
  },
  {
   "cell_type": "code",
   "execution_count": 12,
   "id": "ee28a7b1",
   "metadata": {
    "execution": {
     "iopub.execute_input": "2022-11-28T02:25:08.541175Z",
     "iopub.status.busy": "2022-11-28T02:25:08.540541Z",
     "iopub.status.idle": "2022-11-28T02:25:08.554791Z",
     "shell.execute_reply": "2022-11-28T02:25:08.553582Z"
    },
    "papermill": {
     "duration": 0.04148,
     "end_time": "2022-11-28T02:25:08.558087",
     "exception": false,
     "start_time": "2022-11-28T02:25:08.516607",
     "status": "completed"
    },
    "tags": []
   },
   "outputs": [
    {
     "data": {
      "text/html": [
       "<div>\n",
       "<style scoped>\n",
       "    .dataframe tbody tr th:only-of-type {\n",
       "        vertical-align: middle;\n",
       "    }\n",
       "\n",
       "    .dataframe tbody tr th {\n",
       "        vertical-align: top;\n",
       "    }\n",
       "\n",
       "    .dataframe thead th {\n",
       "        text-align: right;\n",
       "    }\n",
       "</style>\n",
       "<table border=\"1\" class=\"dataframe\">\n",
       "  <thead>\n",
       "    <tr style=\"text-align: right;\">\n",
       "      <th></th>\n",
       "      <th>HomePlanet</th>\n",
       "      <th>Transported</th>\n",
       "    </tr>\n",
       "  </thead>\n",
       "  <tbody>\n",
       "    <tr>\n",
       "      <th>1</th>\n",
       "      <td>Europa</td>\n",
       "      <td>0.658846</td>\n",
       "    </tr>\n",
       "    <tr>\n",
       "      <th>2</th>\n",
       "      <td>Mars</td>\n",
       "      <td>0.523024</td>\n",
       "    </tr>\n",
       "    <tr>\n",
       "      <th>0</th>\n",
       "      <td>Earth</td>\n",
       "      <td>0.423946</td>\n",
       "    </tr>\n",
       "  </tbody>\n",
       "</table>\n",
       "</div>"
      ],
      "text/plain": [
       "  HomePlanet  Transported\n",
       "1     Europa     0.658846\n",
       "2       Mars     0.523024\n",
       "0      Earth     0.423946"
      ]
     },
     "execution_count": 12,
     "metadata": {},
     "output_type": "execute_result"
    }
   ],
   "source": [
    "train_df[['HomePlanet', 'Transported']].groupby(['HomePlanet'], as_index=False).mean().sort_values(by=\"Transported\", ascending=False)"
   ]
  },
  {
   "cell_type": "code",
   "execution_count": 13,
   "id": "624f34f2",
   "metadata": {
    "execution": {
     "iopub.execute_input": "2022-11-28T02:25:08.607738Z",
     "iopub.status.busy": "2022-11-28T02:25:08.607123Z",
     "iopub.status.idle": "2022-11-28T02:25:08.621259Z",
     "shell.execute_reply": "2022-11-28T02:25:08.619753Z"
    },
    "papermill": {
     "duration": 0.041379,
     "end_time": "2022-11-28T02:25:08.623489",
     "exception": false,
     "start_time": "2022-11-28T02:25:08.582110",
     "status": "completed"
    },
    "tags": []
   },
   "outputs": [
    {
     "data": {
      "text/html": [
       "<div>\n",
       "<style scoped>\n",
       "    .dataframe tbody tr th:only-of-type {\n",
       "        vertical-align: middle;\n",
       "    }\n",
       "\n",
       "    .dataframe tbody tr th {\n",
       "        vertical-align: top;\n",
       "    }\n",
       "\n",
       "    .dataframe thead th {\n",
       "        text-align: right;\n",
       "    }\n",
       "</style>\n",
       "<table border=\"1\" class=\"dataframe\">\n",
       "  <thead>\n",
       "    <tr style=\"text-align: right;\">\n",
       "      <th></th>\n",
       "      <th>CryoSleep</th>\n",
       "      <th>Transported</th>\n",
       "    </tr>\n",
       "  </thead>\n",
       "  <tbody>\n",
       "    <tr>\n",
       "      <th>1</th>\n",
       "      <td>True</td>\n",
       "      <td>0.817583</td>\n",
       "    </tr>\n",
       "    <tr>\n",
       "      <th>0</th>\n",
       "      <td>False</td>\n",
       "      <td>0.328921</td>\n",
       "    </tr>\n",
       "  </tbody>\n",
       "</table>\n",
       "</div>"
      ],
      "text/plain": [
       "   CryoSleep  Transported\n",
       "1       True     0.817583\n",
       "0      False     0.328921"
      ]
     },
     "execution_count": 13,
     "metadata": {},
     "output_type": "execute_result"
    }
   ],
   "source": [
    "train_df[['CryoSleep', 'Transported']].groupby(['CryoSleep'], as_index=False).mean().sort_values(by=\"Transported\", ascending=False)"
   ]
  },
  {
   "cell_type": "markdown",
   "id": "852243f5",
   "metadata": {
    "execution": {
     "iopub.execute_input": "2022-11-26T06:29:25.531881Z",
     "iopub.status.busy": "2022-11-26T06:29:25.531388Z",
     "iopub.status.idle": "2022-11-26T06:29:25.565629Z",
     "shell.execute_reply": "2022-11-26T06:29:25.563903Z",
     "shell.execute_reply.started": "2022-11-26T06:29:25.531770Z"
    },
    "papermill": {
     "duration": 0.022714,
     "end_time": "2022-11-28T02:25:08.669697",
     "exception": false,
     "start_time": "2022-11-28T02:25:08.646983",
     "status": "completed"
    },
    "tags": []
   },
   "source": [
    "**Observation: whether a passenger was in cryo sleep drastically increases the likelihood of being transported**"
   ]
  },
  {
   "cell_type": "code",
   "execution_count": 14,
   "id": "06565fbd",
   "metadata": {
    "execution": {
     "iopub.execute_input": "2022-11-28T02:25:08.718707Z",
     "iopub.status.busy": "2022-11-28T02:25:08.717270Z",
     "iopub.status.idle": "2022-11-28T02:25:08.736404Z",
     "shell.execute_reply": "2022-11-28T02:25:08.734708Z"
    },
    "papermill": {
     "duration": 0.046128,
     "end_time": "2022-11-28T02:25:08.738934",
     "exception": false,
     "start_time": "2022-11-28T02:25:08.692806",
     "status": "completed"
    },
    "tags": []
   },
   "outputs": [
    {
     "data": {
      "text/html": [
       "<div>\n",
       "<style scoped>\n",
       "    .dataframe tbody tr th:only-of-type {\n",
       "        vertical-align: middle;\n",
       "    }\n",
       "\n",
       "    .dataframe tbody tr th {\n",
       "        vertical-align: top;\n",
       "    }\n",
       "\n",
       "    .dataframe thead th {\n",
       "        text-align: right;\n",
       "    }\n",
       "</style>\n",
       "<table border=\"1\" class=\"dataframe\">\n",
       "  <thead>\n",
       "    <tr style=\"text-align: right;\">\n",
       "      <th></th>\n",
       "      <th>CryoSleep</th>\n",
       "      <th>RoomService</th>\n",
       "      <th>FoodCourt</th>\n",
       "      <th>ShoppingMall</th>\n",
       "      <th>Spa</th>\n",
       "      <th>VRDeck</th>\n",
       "    </tr>\n",
       "  </thead>\n",
       "  <tbody>\n",
       "    <tr>\n",
       "      <th>0</th>\n",
       "      <td>False</td>\n",
       "      <td>350.146772</td>\n",
       "      <td>713.004316</td>\n",
       "      <td>270.586504</td>\n",
       "      <td>486.09294</td>\n",
       "      <td>475.716165</td>\n",
       "    </tr>\n",
       "    <tr>\n",
       "      <th>1</th>\n",
       "      <td>True</td>\n",
       "      <td>0.000000</td>\n",
       "      <td>0.000000</td>\n",
       "      <td>0.000000</td>\n",
       "      <td>0.00000</td>\n",
       "      <td>0.000000</td>\n",
       "    </tr>\n",
       "  </tbody>\n",
       "</table>\n",
       "</div>"
      ],
      "text/plain": [
       "   CryoSleep  RoomService   FoodCourt  ShoppingMall        Spa      VRDeck\n",
       "0      False   350.146772  713.004316    270.586504  486.09294  475.716165\n",
       "1       True     0.000000    0.000000      0.000000    0.00000    0.000000"
      ]
     },
     "execution_count": 14,
     "metadata": {},
     "output_type": "execute_result"
    }
   ],
   "source": [
    "train_df[['RoomService', 'FoodCourt', 'ShoppingMall', 'Spa', 'VRDeck', 'CryoSleep']].groupby(['CryoSleep'], as_index=False).mean().sort_values(by=\"CryoSleep\")"
   ]
  },
  {
   "cell_type": "markdown",
   "id": "9b689bf5",
   "metadata": {
    "papermill": {
     "duration": 0.022622,
     "end_time": "2022-11-28T02:25:08.784361",
     "exception": false,
     "start_time": "2022-11-28T02:25:08.761739",
     "status": "completed"
    },
    "tags": []
   },
   "source": [
    "Those in cryo sleep don't spend any money on luxuries"
   ]
  },
  {
   "cell_type": "code",
   "execution_count": 15,
   "id": "0b11108b",
   "metadata": {
    "execution": {
     "iopub.execute_input": "2022-11-28T02:25:08.832405Z",
     "iopub.status.busy": "2022-11-28T02:25:08.831119Z",
     "iopub.status.idle": "2022-11-28T02:25:08.862159Z",
     "shell.execute_reply": "2022-11-28T02:25:08.860923Z"
    },
    "papermill": {
     "duration": 0.056874,
     "end_time": "2022-11-28T02:25:08.864310",
     "exception": false,
     "start_time": "2022-11-28T02:25:08.807436",
     "status": "completed"
    },
    "tags": []
   },
   "outputs": [
    {
     "data": {
      "text/html": [
       "<div>\n",
       "<style scoped>\n",
       "    .dataframe tbody tr th:only-of-type {\n",
       "        vertical-align: middle;\n",
       "    }\n",
       "\n",
       "    .dataframe tbody tr th {\n",
       "        vertical-align: top;\n",
       "    }\n",
       "\n",
       "    .dataframe thead th {\n",
       "        text-align: right;\n",
       "    }\n",
       "</style>\n",
       "<table border=\"1\" class=\"dataframe\">\n",
       "  <thead>\n",
       "    <tr style=\"text-align: right;\">\n",
       "      <th></th>\n",
       "      <th></th>\n",
       "      <th>RoomService</th>\n",
       "      <th>FoodCourt</th>\n",
       "      <th>ShoppingMall</th>\n",
       "      <th>Spa</th>\n",
       "      <th>VRDeck</th>\n",
       "    </tr>\n",
       "    <tr>\n",
       "      <th>Cabin</th>\n",
       "      <th>CryoSleep</th>\n",
       "      <th></th>\n",
       "      <th></th>\n",
       "      <th></th>\n",
       "      <th></th>\n",
       "      <th></th>\n",
       "    </tr>\n",
       "  </thead>\n",
       "  <tbody>\n",
       "    <tr>\n",
       "      <th rowspan=\"2\" valign=\"top\">A/0/P</th>\n",
       "      <th>False</th>\n",
       "      <td>0.0</td>\n",
       "      <td>2344.0</td>\n",
       "      <td>0.0</td>\n",
       "      <td>65.0</td>\n",
       "      <td>6898.0</td>\n",
       "    </tr>\n",
       "    <tr>\n",
       "      <th>True</th>\n",
       "      <td>0.0</td>\n",
       "      <td>0.0</td>\n",
       "      <td>0.0</td>\n",
       "      <td>0.0</td>\n",
       "      <td>0.0</td>\n",
       "    </tr>\n",
       "    <tr>\n",
       "      <th>A/0/S</th>\n",
       "      <th>False</th>\n",
       "      <td>21.5</td>\n",
       "      <td>2429.5</td>\n",
       "      <td>185.5</td>\n",
       "      <td>5022.0</td>\n",
       "      <td>121.0</td>\n",
       "    </tr>\n",
       "    <tr>\n",
       "      <th rowspan=\"2\" valign=\"top\">A/1/S</th>\n",
       "      <th>False</th>\n",
       "      <td>139.5</td>\n",
       "      <td>302.5</td>\n",
       "      <td>1687.0</td>\n",
       "      <td>143.0</td>\n",
       "      <td>1.5</td>\n",
       "    </tr>\n",
       "    <tr>\n",
       "      <th>True</th>\n",
       "      <td>0.0</td>\n",
       "      <td>0.0</td>\n",
       "      <td>0.0</td>\n",
       "      <td>0.0</td>\n",
       "      <td>0.0</td>\n",
       "    </tr>\n",
       "    <tr>\n",
       "      <th>...</th>\n",
       "      <th>...</th>\n",
       "      <td>...</td>\n",
       "      <td>...</td>\n",
       "      <td>...</td>\n",
       "      <td>...</td>\n",
       "      <td>...</td>\n",
       "    </tr>\n",
       "    <tr>\n",
       "      <th>G/999/S</th>\n",
       "      <th>True</th>\n",
       "      <td>0.0</td>\n",
       "      <td>0.0</td>\n",
       "      <td>0.0</td>\n",
       "      <td>0.0</td>\n",
       "      <td>0.0</td>\n",
       "    </tr>\n",
       "    <tr>\n",
       "      <th>T/0/P</th>\n",
       "      <th>False</th>\n",
       "      <td>415.0</td>\n",
       "      <td>1328.0</td>\n",
       "      <td>0.0</td>\n",
       "      <td>14.0</td>\n",
       "      <td>60.0</td>\n",
       "    </tr>\n",
       "    <tr>\n",
       "      <th>T/1/P</th>\n",
       "      <th>False</th>\n",
       "      <td>0.0</td>\n",
       "      <td>1829.0</td>\n",
       "      <td>2.0</td>\n",
       "      <td>3133.0</td>\n",
       "      <td>2447.0</td>\n",
       "    </tr>\n",
       "    <tr>\n",
       "      <th>T/2/P</th>\n",
       "      <th>False</th>\n",
       "      <td>0.0</td>\n",
       "      <td>28.0</td>\n",
       "      <td>0.0</td>\n",
       "      <td>6841.0</td>\n",
       "      <td>543.0</td>\n",
       "    </tr>\n",
       "    <tr>\n",
       "      <th>T/3/P</th>\n",
       "      <th>False</th>\n",
       "      <td>0.0</td>\n",
       "      <td>3135.0</td>\n",
       "      <td>0.0</td>\n",
       "      <td>26.0</td>\n",
       "      <td>3.0</td>\n",
       "    </tr>\n",
       "  </tbody>\n",
       "</table>\n",
       "<p>7062 rows × 5 columns</p>\n",
       "</div>"
      ],
      "text/plain": [
       "                   RoomService  FoodCourt  ShoppingMall     Spa  VRDeck\n",
       "Cabin   CryoSleep                                                      \n",
       "A/0/P   False              0.0     2344.0           0.0    65.0  6898.0\n",
       "        True               0.0        0.0           0.0     0.0     0.0\n",
       "A/0/S   False             21.5     2429.5         185.5  5022.0   121.0\n",
       "A/1/S   False            139.5      302.5        1687.0   143.0     1.5\n",
       "        True               0.0        0.0           0.0     0.0     0.0\n",
       "...                        ...        ...           ...     ...     ...\n",
       "G/999/S True               0.0        0.0           0.0     0.0     0.0\n",
       "T/0/P   False            415.0     1328.0           0.0    14.0    60.0\n",
       "T/1/P   False              0.0     1829.0           2.0  3133.0  2447.0\n",
       "T/2/P   False              0.0       28.0           0.0  6841.0   543.0\n",
       "T/3/P   False              0.0     3135.0           0.0    26.0     3.0\n",
       "\n",
       "[7062 rows x 5 columns]"
      ]
     },
     "execution_count": 15,
     "metadata": {},
     "output_type": "execute_result"
    }
   ],
   "source": [
    "train_df[['Cabin', 'CryoSleep', 'VIP', 'RoomService', 'FoodCourt', 'ShoppingMall', 'Spa', 'VRDeck']].groupby(['Cabin', 'CryoSleep']).mean()"
   ]
  },
  {
   "cell_type": "markdown",
   "id": "f60ebd25",
   "metadata": {
    "papermill": {
     "duration": 0.023046,
     "end_time": "2022-11-28T02:25:08.910799",
     "exception": false,
     "start_time": "2022-11-28T02:25:08.887753",
     "status": "completed"
    },
    "tags": []
   },
   "source": [
    "#### Analyze through Data Visualization"
   ]
  },
  {
   "cell_type": "markdown",
   "id": "7350c408",
   "metadata": {
    "papermill": {
     "duration": 0.022418,
     "end_time": "2022-11-28T02:25:08.956195",
     "exception": false,
     "start_time": "2022-11-28T02:25:08.933777",
     "status": "completed"
    },
    "tags": []
   },
   "source": [
    "##### Explore Age distribution across those transported and not transported"
   ]
  },
  {
   "cell_type": "code",
   "execution_count": 16,
   "id": "a05a903e",
   "metadata": {
    "execution": {
     "iopub.execute_input": "2022-11-28T02:25:09.004218Z",
     "iopub.status.busy": "2022-11-28T02:25:09.003864Z",
     "iopub.status.idle": "2022-11-28T02:25:09.562515Z",
     "shell.execute_reply": "2022-11-28T02:25:09.560719Z"
    },
    "papermill": {
     "duration": 0.585466,
     "end_time": "2022-11-28T02:25:09.565129",
     "exception": false,
     "start_time": "2022-11-28T02:25:08.979663",
     "status": "completed"
    },
    "tags": []
   },
   "outputs": [
    {
     "data": {
      "text/plain": [
       "<seaborn.axisgrid.FacetGrid at 0x7f6987e49fd0>"
      ]
     },
     "execution_count": 16,
     "metadata": {},
     "output_type": "execute_result"
    },
    {
     "data": {
      "image/png": "[encoded data removed]",
      "text/plain": [
       "<Figure size 432x216 with 2 Axes>"
      ]
     },
     "metadata": {},
     "output_type": "display_data"
    }
   ],
   "source": [
    "g = sns.FacetGrid(train_df, col='Transported')\n",
    "g.map(plt.hist, 'Age', bins=20)"
   ]
  },
  {
   "cell_type": "markdown",
   "id": "f68e1219",
   "metadata": {
    "execution": {
     "iopub.execute_input": "2022-11-27T13:10:49.045810Z",
     "iopub.status.busy": "2022-11-27T13:10:49.045415Z",
     "iopub.status.idle": "2022-11-27T13:10:49.054105Z",
     "shell.execute_reply": "2022-11-27T13:10:49.052379Z",
     "shell.execute_reply.started": "2022-11-27T13:10:49.045775Z"
    },
    "papermill": {
     "duration": 0.023378,
     "end_time": "2022-11-28T02:25:09.611914",
     "exception": false,
     "start_time": "2022-11-28T02:25:09.588536",
     "status": "completed"
    },
    "tags": []
   },
   "source": [
    "The very young are disproportionately transported. The interquartile age range of passengers is between 19-38, which is where a majority of transported passengers are, though more don't get transported than not. The likelihood of getting transported at an old age looks almost like 50/50."
   ]
  },
  {
   "cell_type": "markdown",
   "id": "772600d7",
   "metadata": {
    "papermill": {
     "duration": 0.023536,
     "end_time": "2022-11-28T02:25:09.659113",
     "exception": false,
     "start_time": "2022-11-28T02:25:09.635577",
     "status": "completed"
    },
    "tags": []
   },
   "source": [
    "##### Explore Age distribution across planets"
   ]
  },
  {
   "cell_type": "code",
   "execution_count": 17,
   "id": "52fe8ac4",
   "metadata": {
    "execution": {
     "iopub.execute_input": "2022-11-28T02:25:09.709962Z",
     "iopub.status.busy": "2022-11-28T02:25:09.708825Z",
     "iopub.status.idle": "2022-11-28T02:25:10.477076Z",
     "shell.execute_reply": "2022-11-28T02:25:10.475684Z"
    },
    "papermill": {
     "duration": 0.795878,
     "end_time": "2022-11-28T02:25:10.479399",
     "exception": false,
     "start_time": "2022-11-28T02:25:09.683521",
     "status": "completed"
    },
    "tags": []
   },
   "outputs": [
    {
     "data": {
      "text/plain": [
       "<seaborn.axisgrid.FacetGrid at 0x7f6987c54d90>"
      ]
     },
     "execution_count": 17,
     "metadata": {},
     "output_type": "execute_result"
    },
    {
     "data": {
      "image/png": "[encoded data removed]",
      "text/plain": [
       "<Figure size 648x216 with 3 Axes>"
      ]
     },
     "metadata": {},
     "output_type": "display_data"
    }
   ],
   "source": [
    "g = sns.FacetGrid(train_df, col=\"HomePlanet\")\n",
    "g.map(plt.hist, 'Age', bins=20)"
   ]
  },
  {
   "cell_type": "code",
   "execution_count": 18,
   "id": "f506fab0",
   "metadata": {
    "execution": {
     "iopub.execute_input": "2022-11-28T02:25:10.529856Z",
     "iopub.status.busy": "2022-11-28T02:25:10.529280Z",
     "iopub.status.idle": "2022-11-28T02:25:10.543302Z",
     "shell.execute_reply": "2022-11-28T02:25:10.542101Z"
    },
    "papermill": {
     "duration": 0.041525,
     "end_time": "2022-11-28T02:25:10.545641",
     "exception": false,
     "start_time": "2022-11-28T02:25:10.504116",
     "status": "completed"
    },
    "tags": []
   },
   "outputs": [
    {
     "data": {
      "text/html": [
       "<div>\n",
       "<style scoped>\n",
       "    .dataframe tbody tr th:only-of-type {\n",
       "        vertical-align: middle;\n",
       "    }\n",
       "\n",
       "    .dataframe tbody tr th {\n",
       "        vertical-align: top;\n",
       "    }\n",
       "\n",
       "    .dataframe thead th {\n",
       "        text-align: right;\n",
       "    }\n",
       "</style>\n",
       "<table border=\"1\" class=\"dataframe\">\n",
       "  <thead>\n",
       "    <tr style=\"text-align: right;\">\n",
       "      <th></th>\n",
       "      <th>Age</th>\n",
       "      <th>Transported</th>\n",
       "    </tr>\n",
       "    <tr>\n",
       "      <th>HomePlanet</th>\n",
       "      <th></th>\n",
       "      <th></th>\n",
       "    </tr>\n",
       "  </thead>\n",
       "  <tbody>\n",
       "    <tr>\n",
       "      <th>Earth</th>\n",
       "      <td>26.068232</td>\n",
       "      <td>0.423946</td>\n",
       "    </tr>\n",
       "    <tr>\n",
       "      <th>Europa</th>\n",
       "      <td>34.419664</td>\n",
       "      <td>0.658846</td>\n",
       "    </tr>\n",
       "    <tr>\n",
       "      <th>Mars</th>\n",
       "      <td>29.297203</td>\n",
       "      <td>0.523024</td>\n",
       "    </tr>\n",
       "  </tbody>\n",
       "</table>\n",
       "</div>"
      ],
      "text/plain": [
       "                  Age  Transported\n",
       "HomePlanet                        \n",
       "Earth       26.068232     0.423946\n",
       "Europa      34.419664     0.658846\n",
       "Mars        29.297203     0.523024"
      ]
     },
     "execution_count": 18,
     "metadata": {},
     "output_type": "execute_result"
    }
   ],
   "source": [
    "train_df[['HomePlanet', 'Age', 'Transported', 'VIP']].groupby(['HomePlanet']).mean()"
   ]
  },
  {
   "cell_type": "code",
   "execution_count": 19,
   "id": "b20b5d46",
   "metadata": {
    "execution": {
     "iopub.execute_input": "2022-11-28T02:25:10.596133Z",
     "iopub.status.busy": "2022-11-28T02:25:10.595759Z",
     "iopub.status.idle": "2022-11-28T02:25:11.571811Z",
     "shell.execute_reply": "2022-11-28T02:25:11.570316Z"
    },
    "papermill": {
     "duration": 1.004572,
     "end_time": "2022-11-28T02:25:11.574457",
     "exception": false,
     "start_time": "2022-11-28T02:25:10.569885",
     "status": "completed"
    },
    "tags": []
   },
   "outputs": [
    {
     "data": {
      "text/plain": [
       "<seaborn.axisgrid.FacetGrid at 0x7f6987b40250>"
      ]
     },
     "execution_count": 19,
     "metadata": {},
     "output_type": "execute_result"
    },
    {
     "data": {
      "image/png": "[encoded data removed]",
      "text/plain": [
       "<Figure size 506.88x316.8 with 4 Axes>"
      ]
     },
     "metadata": {},
     "output_type": "display_data"
    }
   ],
   "source": [
    "g = sns.FacetGrid(train_df, col='Transported', row='VIP', height=2.2, aspect=1.6)\n",
    "g.map(plt.hist, 'Age', bins=20)"
   ]
  },
  {
   "cell_type": "code",
   "execution_count": 20,
   "id": "bcdc4001",
   "metadata": {
    "execution": {
     "iopub.execute_input": "2022-11-28T02:25:11.625659Z",
     "iopub.status.busy": "2022-11-28T02:25:11.624786Z",
     "iopub.status.idle": "2022-11-28T02:25:11.634252Z",
     "shell.execute_reply": "2022-11-28T02:25:11.633596Z"
    },
    "papermill": {
     "duration": 0.036763,
     "end_time": "2022-11-28T02:25:11.636007",
     "exception": false,
     "start_time": "2022-11-28T02:25:11.599244",
     "status": "completed"
    },
    "tags": []
   },
   "outputs": [
    {
     "data": {
      "text/plain": [
       "PassengerId     199\n",
       "HomePlanet      194\n",
       "CryoSleep       196\n",
       "Cabin           193\n",
       "Destination     197\n",
       "Age             198\n",
       "VIP             199\n",
       "RoomService     195\n",
       "FoodCourt       193\n",
       "ShoppingMall    194\n",
       "Spa             197\n",
       "VRDeck          195\n",
       "Name            196\n",
       "Transported     199\n",
       "dtype: int64"
      ]
     },
     "execution_count": 20,
     "metadata": {},
     "output_type": "execute_result"
    }
   ],
   "source": [
    "train_df.loc[train_df['VIP'] == True].count()"
   ]
  },
  {
   "cell_type": "markdown",
   "id": "fa9239bc",
   "metadata": {
    "papermill": {
     "duration": 0.024124,
     "end_time": "2022-11-28T02:25:11.684610",
     "exception": false,
     "start_time": "2022-11-28T02:25:11.660486",
     "status": "completed"
    },
    "tags": []
   },
   "source": [
    "Check if the names have any titles"
   ]
  },
  {
   "cell_type": "code",
   "execution_count": 21,
   "id": "5b49f4f7",
   "metadata": {
    "execution": {
     "iopub.execute_input": "2022-11-28T02:25:11.737411Z",
     "iopub.status.busy": "2022-11-28T02:25:11.736922Z",
     "iopub.status.idle": "2022-11-28T02:25:11.752507Z",
     "shell.execute_reply": "2022-11-28T02:25:11.751074Z"
    },
    "papermill": {
     "duration": 0.045365,
     "end_time": "2022-11-28T02:25:11.754927",
     "exception": false,
     "start_time": "2022-11-28T02:25:11.709562",
     "status": "completed"
    },
    "tags": []
   },
   "outputs": [
    {
     "data": {
      "text/plain": [
       "array([nan], dtype=object)"
      ]
     },
     "execution_count": 21,
     "metadata": {},
     "output_type": "execute_result"
    }
   ],
   "source": [
    "titles = train_df['Name'].str.extract(' ([A-Za-z]+)\\.', expand=False)\n",
    "titles.unique()"
   ]
  },
  {
   "cell_type": "markdown",
   "id": "377ae0d7",
   "metadata": {
    "papermill": {
     "duration": 0.023783,
     "end_time": "2022-11-28T02:25:11.802733",
     "exception": false,
     "start_time": "2022-11-28T02:25:11.778950",
     "status": "completed"
    },
    "tags": []
   },
   "source": [
    "No titles have been found"
   ]
  },
  {
   "cell_type": "code",
   "execution_count": 22,
   "id": "8017133b",
   "metadata": {
    "execution": {
     "iopub.execute_input": "2022-11-28T02:25:11.852714Z",
     "iopub.status.busy": "2022-11-28T02:25:11.852303Z",
     "iopub.status.idle": "2022-11-28T02:25:11.868958Z",
     "shell.execute_reply": "2022-11-28T02:25:11.867567Z"
    },
    "papermill": {
     "duration": 0.044544,
     "end_time": "2022-11-28T02:25:11.871347",
     "exception": false,
     "start_time": "2022-11-28T02:25:11.826803",
     "status": "completed"
    },
    "tags": []
   },
   "outputs": [
    {
     "data": {
      "text/plain": [
       "RoomService  FoodCourt  ShoppingMall  Spa  VRDeck\n",
       "0.0          0.0        0.0           0.0  0.0       2690\n",
       "dtype: int64"
      ]
     },
     "execution_count": 22,
     "metadata": {},
     "output_type": "execute_result"
    }
   ],
   "source": [
    "train_df.loc[train_df['CryoSleep'] == True, ['RoomService', 'FoodCourt', 'ShoppingMall', 'Spa', 'VRDeck']].value_counts()"
   ]
  },
  {
   "cell_type": "markdown",
   "id": "887224cc",
   "metadata": {
    "papermill": {
     "duration": 0.024264,
     "end_time": "2022-11-28T02:25:11.920058",
     "exception": false,
     "start_time": "2022-11-28T02:25:11.895794",
     "status": "completed"
    },
    "tags": []
   },
   "source": [
    "If you're in CryoSleep, you'll never spend any money on luxuries."
   ]
  },
  {
   "cell_type": "code",
   "execution_count": 23,
   "id": "e3b0b142",
   "metadata": {
    "execution": {
     "iopub.execute_input": "2022-11-28T02:25:11.971003Z",
     "iopub.status.busy": "2022-11-28T02:25:11.970430Z",
     "iopub.status.idle": "2022-11-28T02:25:11.990952Z",
     "shell.execute_reply": "2022-11-28T02:25:11.989886Z"
    },
    "papermill": {
     "duration": 0.048158,
     "end_time": "2022-11-28T02:25:11.992891",
     "exception": false,
     "start_time": "2022-11-28T02:25:11.944733",
     "status": "completed"
    },
    "tags": []
   },
   "outputs": [
    {
     "data": {
      "text/html": [
       "<div>\n",
       "<style scoped>\n",
       "    .dataframe tbody tr th:only-of-type {\n",
       "        vertical-align: middle;\n",
       "    }\n",
       "\n",
       "    .dataframe tbody tr th {\n",
       "        vertical-align: top;\n",
       "    }\n",
       "\n",
       "    .dataframe thead th {\n",
       "        text-align: right;\n",
       "    }\n",
       "</style>\n",
       "<table border=\"1\" class=\"dataframe\">\n",
       "  <thead>\n",
       "    <tr style=\"text-align: right;\">\n",
       "      <th></th>\n",
       "      <th>RoomService</th>\n",
       "      <th>FoodCourt</th>\n",
       "      <th>ShoppingMall</th>\n",
       "      <th>Spa</th>\n",
       "      <th>VRDeck</th>\n",
       "    </tr>\n",
       "  </thead>\n",
       "  <tbody>\n",
       "    <tr>\n",
       "      <th>0</th>\n",
       "      <td>0.0</td>\n",
       "      <td>0.0</td>\n",
       "      <td>0.0</td>\n",
       "      <td>0.0</td>\n",
       "      <td>0.0</td>\n",
       "    </tr>\n",
       "    <tr>\n",
       "      <th>1</th>\n",
       "      <td>109.0</td>\n",
       "      <td>9.0</td>\n",
       "      <td>25.0</td>\n",
       "      <td>549.0</td>\n",
       "      <td>44.0</td>\n",
       "    </tr>\n",
       "    <tr>\n",
       "      <th>2</th>\n",
       "      <td>43.0</td>\n",
       "      <td>3576.0</td>\n",
       "      <td>0.0</td>\n",
       "      <td>6715.0</td>\n",
       "      <td>49.0</td>\n",
       "    </tr>\n",
       "    <tr>\n",
       "      <th>3</th>\n",
       "      <td>0.0</td>\n",
       "      <td>1283.0</td>\n",
       "      <td>371.0</td>\n",
       "      <td>3329.0</td>\n",
       "      <td>193.0</td>\n",
       "    </tr>\n",
       "    <tr>\n",
       "      <th>4</th>\n",
       "      <td>303.0</td>\n",
       "      <td>70.0</td>\n",
       "      <td>151.0</td>\n",
       "      <td>565.0</td>\n",
       "      <td>2.0</td>\n",
       "    </tr>\n",
       "    <tr>\n",
       "      <th>...</th>\n",
       "      <td>...</td>\n",
       "      <td>...</td>\n",
       "      <td>...</td>\n",
       "      <td>...</td>\n",
       "      <td>...</td>\n",
       "    </tr>\n",
       "    <tr>\n",
       "      <th>8686</th>\n",
       "      <td>1.0</td>\n",
       "      <td>1146.0</td>\n",
       "      <td>0.0</td>\n",
       "      <td>50.0</td>\n",
       "      <td>34.0</td>\n",
       "    </tr>\n",
       "    <tr>\n",
       "      <th>8688</th>\n",
       "      <td>0.0</td>\n",
       "      <td>6819.0</td>\n",
       "      <td>0.0</td>\n",
       "      <td>1643.0</td>\n",
       "      <td>74.0</td>\n",
       "    </tr>\n",
       "    <tr>\n",
       "      <th>8690</th>\n",
       "      <td>0.0</td>\n",
       "      <td>0.0</td>\n",
       "      <td>1872.0</td>\n",
       "      <td>1.0</td>\n",
       "      <td>0.0</td>\n",
       "    </tr>\n",
       "    <tr>\n",
       "      <th>8691</th>\n",
       "      <td>0.0</td>\n",
       "      <td>1049.0</td>\n",
       "      <td>0.0</td>\n",
       "      <td>353.0</td>\n",
       "      <td>3235.0</td>\n",
       "    </tr>\n",
       "    <tr>\n",
       "      <th>8692</th>\n",
       "      <td>126.0</td>\n",
       "      <td>4688.0</td>\n",
       "      <td>0.0</td>\n",
       "      <td>0.0</td>\n",
       "      <td>12.0</td>\n",
       "    </tr>\n",
       "  </tbody>\n",
       "</table>\n",
       "<p>5439 rows × 5 columns</p>\n",
       "</div>"
      ],
      "text/plain": [
       "      RoomService  FoodCourt  ShoppingMall     Spa  VRDeck\n",
       "0             0.0        0.0           0.0     0.0     0.0\n",
       "1           109.0        9.0          25.0   549.0    44.0\n",
       "2            43.0     3576.0           0.0  6715.0    49.0\n",
       "3             0.0     1283.0         371.0  3329.0   193.0\n",
       "4           303.0       70.0         151.0   565.0     2.0\n",
       "...           ...        ...           ...     ...     ...\n",
       "8686          1.0     1146.0           0.0    50.0    34.0\n",
       "8688          0.0     6819.0           0.0  1643.0    74.0\n",
       "8690          0.0        0.0        1872.0     1.0     0.0\n",
       "8691          0.0     1049.0           0.0   353.0  3235.0\n",
       "8692        126.0     4688.0           0.0     0.0    12.0\n",
       "\n",
       "[5439 rows x 5 columns]"
      ]
     },
     "execution_count": 23,
     "metadata": {},
     "output_type": "execute_result"
    }
   ],
   "source": [
    "train_df.loc[train_df['CryoSleep'] == False, ['RoomService', 'FoodCourt', 'ShoppingMall', 'Spa', 'VRDeck']]"
   ]
  },
  {
   "cell_type": "markdown",
   "id": "fa9b0351",
   "metadata": {
    "papermill": {
     "duration": 0.023941,
     "end_time": "2022-11-28T02:25:12.041107",
     "exception": false,
     "start_time": "2022-11-28T02:25:12.017166",
     "status": "completed"
    },
    "tags": []
   },
   "source": [
    "470 of those awake don't spend money on luxuries, while 2690 of those asleep don't spend money on luxuries."
   ]
  },
  {
   "cell_type": "code",
   "execution_count": 24,
   "id": "875d70a6",
   "metadata": {
    "execution": {
     "iopub.execute_input": "2022-11-28T02:25:12.094660Z",
     "iopub.status.busy": "2022-11-28T02:25:12.093578Z",
     "iopub.status.idle": "2022-11-28T02:25:12.100483Z",
     "shell.execute_reply": "2022-11-28T02:25:12.099775Z"
    },
    "papermill": {
     "duration": 0.036674,
     "end_time": "2022-11-28T02:25:12.102281",
     "exception": false,
     "start_time": "2022-11-28T02:25:12.065607",
     "status": "completed"
    },
    "tags": []
   },
   "outputs": [
    {
     "data": {
      "text/plain": [
       "(0.14873417721518986, 0.8512658227848101)"
      ]
     },
     "execution_count": 24,
     "metadata": {},
     "output_type": "execute_result"
    }
   ],
   "source": [
    "470/(470 + 2690), 2690/(470 + 2690)"
   ]
  },
  {
   "cell_type": "markdown",
   "id": "b2db47cf",
   "metadata": {
    "papermill": {
     "duration": 0.024338,
     "end_time": "2022-11-28T02:25:12.152116",
     "exception": false,
     "start_time": "2022-11-28T02:25:12.127778",
     "status": "completed"
    },
    "tags": []
   },
   "source": [
    "## Data Wrangling"
   ]
  },
  {
   "cell_type": "markdown",
   "id": "87ccff50",
   "metadata": {
    "papermill": {
     "duration": 0.024879,
     "end_time": "2022-11-28T02:25:12.201727",
     "exception": false,
     "start_time": "2022-11-28T02:25:12.176848",
     "status": "completed"
    },
    "tags": []
   },
   "source": [
    "Drop Rows with Missing Names and make FirstName and LastName columns"
   ]
  },
  {
   "cell_type": "code",
   "execution_count": 25,
   "id": "6f866098",
   "metadata": {
    "execution": {
     "iopub.execute_input": "2022-11-28T02:25:12.253524Z",
     "iopub.status.busy": "2022-11-28T02:25:12.252856Z",
     "iopub.status.idle": "2022-11-28T02:25:12.256948Z",
     "shell.execute_reply": "2022-11-28T02:25:12.256276Z"
    },
    "papermill": {
     "duration": 0.032071,
     "end_time": "2022-11-28T02:25:12.258746",
     "exception": false,
     "start_time": "2022-11-28T02:25:12.226675",
     "status": "completed"
    },
    "tags": []
   },
   "outputs": [],
   "source": [
    "# for df in datasets:\n",
    "#     df['Name'] = df.loc[df['Name'].notna(), 'Name']\n",
    "#     name_info = df['Name'].str.split()\n",
    "#     name_info = name_info.str\n",
    "#     df['FirstName'] = name_info[0]\n",
    "#     df['LastName'] = name_info[1]"
   ]
  },
  {
   "cell_type": "markdown",
   "id": "d4f87b74",
   "metadata": {
    "papermill": {
     "duration": 0.024721,
     "end_time": "2022-11-28T02:25:12.308224",
     "exception": false,
     "start_time": "2022-11-28T02:25:12.283503",
     "status": "completed"
    },
    "tags": []
   },
   "source": [
    "Make GroupId and MemberId columns"
   ]
  },
  {
   "cell_type": "code",
   "execution_count": 26,
   "id": "0e6d76f4",
   "metadata": {
    "execution": {
     "iopub.execute_input": "2022-11-28T02:25:12.359229Z",
     "iopub.status.busy": "2022-11-28T02:25:12.358692Z",
     "iopub.status.idle": "2022-11-28T02:25:12.363451Z",
     "shell.execute_reply": "2022-11-28T02:25:12.362222Z"
    },
    "papermill": {
     "duration": 0.032464,
     "end_time": "2022-11-28T02:25:12.365446",
     "exception": false,
     "start_time": "2022-11-28T02:25:12.332982",
     "status": "completed"
    },
    "tags": []
   },
   "outputs": [],
   "source": [
    "# for df in datasets:\n",
    "#     info = df['PassengerId'].str.extract(r\"(\\d{4})_(\\d{2})\")\n",
    "#     df['GroupId'] = info[0]\n",
    "#     df['MemberId'] = info[1]"
   ]
  },
  {
   "cell_type": "code",
   "execution_count": 27,
   "id": "a43f6a77",
   "metadata": {
    "execution": {
     "iopub.execute_input": "2022-11-28T02:25:12.416711Z",
     "iopub.status.busy": "2022-11-28T02:25:12.416328Z",
     "iopub.status.idle": "2022-11-28T02:25:12.420932Z",
     "shell.execute_reply": "2022-11-28T02:25:12.419509Z"
    },
    "papermill": {
     "duration": 0.032441,
     "end_time": "2022-11-28T02:25:12.422745",
     "exception": false,
     "start_time": "2022-11-28T02:25:12.390304",
     "status": "completed"
    },
    "tags": []
   },
   "outputs": [],
   "source": [
    "# train_df['LastName'].value_counts()"
   ]
  },
  {
   "cell_type": "markdown",
   "id": "00d7c30d",
   "metadata": {
    "papermill": {
     "duration": 0.024552,
     "end_time": "2022-11-28T02:25:12.472009",
     "exception": false,
     "start_time": "2022-11-28T02:25:12.447457",
     "status": "completed"
    },
    "tags": []
   },
   "source": [
    "#### Drop Name"
   ]
  },
  {
   "cell_type": "code",
   "execution_count": 28,
   "id": "a30b2231",
   "metadata": {
    "execution": {
     "iopub.execute_input": "2022-11-28T02:25:12.522554Z",
     "iopub.status.busy": "2022-11-28T02:25:12.522172Z",
     "iopub.status.idle": "2022-11-28T02:25:12.529021Z",
     "shell.execute_reply": "2022-11-28T02:25:12.528378Z"
    },
    "papermill": {
     "duration": 0.034749,
     "end_time": "2022-11-28T02:25:12.531269",
     "exception": false,
     "start_time": "2022-11-28T02:25:12.496520",
     "status": "completed"
    },
    "tags": []
   },
   "outputs": [],
   "source": [
    "for df in datasets:\n",
    "    df.drop(['Name'], axis=1, inplace=True)"
   ]
  },
  {
   "cell_type": "markdown",
   "id": "30da7515",
   "metadata": {
    "papermill": {
     "duration": 0.02487,
     "end_time": "2022-11-28T02:25:12.581253",
     "exception": false,
     "start_time": "2022-11-28T02:25:12.556383",
     "status": "completed"
    },
    "tags": []
   },
   "source": [
    "**Drop passengerId from train_df**"
   ]
  },
  {
   "cell_type": "code",
   "execution_count": 29,
   "id": "e279379b",
   "metadata": {
    "execution": {
     "iopub.execute_input": "2022-11-28T02:25:12.633392Z",
     "iopub.status.busy": "2022-11-28T02:25:12.632999Z",
     "iopub.status.idle": "2022-11-28T02:25:12.651440Z",
     "shell.execute_reply": "2022-11-28T02:25:12.650532Z"
    },
    "papermill": {
     "duration": 0.047431,
     "end_time": "2022-11-28T02:25:12.653876",
     "exception": false,
     "start_time": "2022-11-28T02:25:12.606445",
     "status": "completed"
    },
    "tags": []
   },
   "outputs": [
    {
     "data": {
      "text/html": [
       "<div>\n",
       "<style scoped>\n",
       "    .dataframe tbody tr th:only-of-type {\n",
       "        vertical-align: middle;\n",
       "    }\n",
       "\n",
       "    .dataframe tbody tr th {\n",
       "        vertical-align: top;\n",
       "    }\n",
       "\n",
       "    .dataframe thead th {\n",
       "        text-align: right;\n",
       "    }\n",
       "</style>\n",
       "<table border=\"1\" class=\"dataframe\">\n",
       "  <thead>\n",
       "    <tr style=\"text-align: right;\">\n",
       "      <th></th>\n",
       "      <th>HomePlanet</th>\n",
       "      <th>CryoSleep</th>\n",
       "      <th>Cabin</th>\n",
       "      <th>Destination</th>\n",
       "      <th>Age</th>\n",
       "      <th>VIP</th>\n",
       "      <th>RoomService</th>\n",
       "      <th>FoodCourt</th>\n",
       "      <th>ShoppingMall</th>\n",
       "      <th>Spa</th>\n",
       "      <th>VRDeck</th>\n",
       "      <th>Transported</th>\n",
       "    </tr>\n",
       "  </thead>\n",
       "  <tbody>\n",
       "    <tr>\n",
       "      <th>0</th>\n",
       "      <td>Europa</td>\n",
       "      <td>False</td>\n",
       "      <td>B/0/P</td>\n",
       "      <td>TRAPPIST-1e</td>\n",
       "      <td>39.0</td>\n",
       "      <td>False</td>\n",
       "      <td>0.0</td>\n",
       "      <td>0.0</td>\n",
       "      <td>0.0</td>\n",
       "      <td>0.0</td>\n",
       "      <td>0.0</td>\n",
       "      <td>False</td>\n",
       "    </tr>\n",
       "    <tr>\n",
       "      <th>1</th>\n",
       "      <td>Earth</td>\n",
       "      <td>False</td>\n",
       "      <td>F/0/S</td>\n",
       "      <td>TRAPPIST-1e</td>\n",
       "      <td>24.0</td>\n",
       "      <td>False</td>\n",
       "      <td>109.0</td>\n",
       "      <td>9.0</td>\n",
       "      <td>25.0</td>\n",
       "      <td>549.0</td>\n",
       "      <td>44.0</td>\n",
       "      <td>True</td>\n",
       "    </tr>\n",
       "    <tr>\n",
       "      <th>2</th>\n",
       "      <td>Europa</td>\n",
       "      <td>False</td>\n",
       "      <td>A/0/S</td>\n",
       "      <td>TRAPPIST-1e</td>\n",
       "      <td>58.0</td>\n",
       "      <td>True</td>\n",
       "      <td>43.0</td>\n",
       "      <td>3576.0</td>\n",
       "      <td>0.0</td>\n",
       "      <td>6715.0</td>\n",
       "      <td>49.0</td>\n",
       "      <td>False</td>\n",
       "    </tr>\n",
       "    <tr>\n",
       "      <th>3</th>\n",
       "      <td>Europa</td>\n",
       "      <td>False</td>\n",
       "      <td>A/0/S</td>\n",
       "      <td>TRAPPIST-1e</td>\n",
       "      <td>33.0</td>\n",
       "      <td>False</td>\n",
       "      <td>0.0</td>\n",
       "      <td>1283.0</td>\n",
       "      <td>371.0</td>\n",
       "      <td>3329.0</td>\n",
       "      <td>193.0</td>\n",
       "      <td>False</td>\n",
       "    </tr>\n",
       "    <tr>\n",
       "      <th>4</th>\n",
       "      <td>Earth</td>\n",
       "      <td>False</td>\n",
       "      <td>F/1/S</td>\n",
       "      <td>TRAPPIST-1e</td>\n",
       "      <td>16.0</td>\n",
       "      <td>False</td>\n",
       "      <td>303.0</td>\n",
       "      <td>70.0</td>\n",
       "      <td>151.0</td>\n",
       "      <td>565.0</td>\n",
       "      <td>2.0</td>\n",
       "      <td>True</td>\n",
       "    </tr>\n",
       "  </tbody>\n",
       "</table>\n",
       "</div>"
      ],
      "text/plain": [
       "  HomePlanet CryoSleep  Cabin  Destination   Age    VIP  RoomService  \\\n",
       "0     Europa     False  B/0/P  TRAPPIST-1e  39.0  False          0.0   \n",
       "1      Earth     False  F/0/S  TRAPPIST-1e  24.0  False        109.0   \n",
       "2     Europa     False  A/0/S  TRAPPIST-1e  58.0   True         43.0   \n",
       "3     Europa     False  A/0/S  TRAPPIST-1e  33.0  False          0.0   \n",
       "4      Earth     False  F/1/S  TRAPPIST-1e  16.0  False        303.0   \n",
       "\n",
       "   FoodCourt  ShoppingMall     Spa  VRDeck  Transported  \n",
       "0        0.0           0.0     0.0     0.0        False  \n",
       "1        9.0          25.0   549.0    44.0         True  \n",
       "2     3576.0           0.0  6715.0    49.0        False  \n",
       "3     1283.0         371.0  3329.0   193.0        False  \n",
       "4       70.0         151.0   565.0     2.0         True  "
      ]
     },
     "execution_count": 29,
     "metadata": {},
     "output_type": "execute_result"
    }
   ],
   "source": [
    "train_df.drop(['PassengerId'], axis=1, inplace=True)\n",
    "train_df.head()"
   ]
  },
  {
   "cell_type": "code",
   "execution_count": 30,
   "id": "434642ae",
   "metadata": {
    "execution": {
     "iopub.execute_input": "2022-11-28T02:25:12.707599Z",
     "iopub.status.busy": "2022-11-28T02:25:12.706981Z",
     "iopub.status.idle": "2022-11-28T02:25:12.723299Z",
     "shell.execute_reply": "2022-11-28T02:25:12.722631Z"
    },
    "papermill": {
     "duration": 0.045159,
     "end_time": "2022-11-28T02:25:12.725476",
     "exception": false,
     "start_time": "2022-11-28T02:25:12.680317",
     "status": "completed"
    },
    "tags": []
   },
   "outputs": [
    {
     "data": {
      "text/html": [
       "<div>\n",
       "<style scoped>\n",
       "    .dataframe tbody tr th:only-of-type {\n",
       "        vertical-align: middle;\n",
       "    }\n",
       "\n",
       "    .dataframe tbody tr th {\n",
       "        vertical-align: top;\n",
       "    }\n",
       "\n",
       "    .dataframe thead th {\n",
       "        text-align: right;\n",
       "    }\n",
       "</style>\n",
       "<table border=\"1\" class=\"dataframe\">\n",
       "  <thead>\n",
       "    <tr style=\"text-align: right;\">\n",
       "      <th></th>\n",
       "      <th>HomePlanet</th>\n",
       "      <th>CryoSleep</th>\n",
       "      <th>Cabin</th>\n",
       "      <th>Destination</th>\n",
       "      <th>Age</th>\n",
       "      <th>VIP</th>\n",
       "      <th>RoomService</th>\n",
       "      <th>FoodCourt</th>\n",
       "      <th>ShoppingMall</th>\n",
       "      <th>Spa</th>\n",
       "      <th>VRDeck</th>\n",
       "      <th>Transported</th>\n",
       "    </tr>\n",
       "  </thead>\n",
       "  <tbody>\n",
       "    <tr>\n",
       "      <th>0</th>\n",
       "      <td>Europa</td>\n",
       "      <td>False</td>\n",
       "      <td>B/0/P</td>\n",
       "      <td>TRAPPIST-1e</td>\n",
       "      <td>39.0</td>\n",
       "      <td>False</td>\n",
       "      <td>0.0</td>\n",
       "      <td>0.0</td>\n",
       "      <td>0.0</td>\n",
       "      <td>0.0</td>\n",
       "      <td>0.0</td>\n",
       "      <td>False</td>\n",
       "    </tr>\n",
       "    <tr>\n",
       "      <th>1</th>\n",
       "      <td>Earth</td>\n",
       "      <td>False</td>\n",
       "      <td>F/0/S</td>\n",
       "      <td>TRAPPIST-1e</td>\n",
       "      <td>24.0</td>\n",
       "      <td>False</td>\n",
       "      <td>109.0</td>\n",
       "      <td>9.0</td>\n",
       "      <td>25.0</td>\n",
       "      <td>549.0</td>\n",
       "      <td>44.0</td>\n",
       "      <td>True</td>\n",
       "    </tr>\n",
       "    <tr>\n",
       "      <th>2</th>\n",
       "      <td>Europa</td>\n",
       "      <td>False</td>\n",
       "      <td>A/0/S</td>\n",
       "      <td>TRAPPIST-1e</td>\n",
       "      <td>58.0</td>\n",
       "      <td>True</td>\n",
       "      <td>43.0</td>\n",
       "      <td>3576.0</td>\n",
       "      <td>0.0</td>\n",
       "      <td>6715.0</td>\n",
       "      <td>49.0</td>\n",
       "      <td>False</td>\n",
       "    </tr>\n",
       "    <tr>\n",
       "      <th>3</th>\n",
       "      <td>Europa</td>\n",
       "      <td>False</td>\n",
       "      <td>A/0/S</td>\n",
       "      <td>TRAPPIST-1e</td>\n",
       "      <td>33.0</td>\n",
       "      <td>False</td>\n",
       "      <td>0.0</td>\n",
       "      <td>1283.0</td>\n",
       "      <td>371.0</td>\n",
       "      <td>3329.0</td>\n",
       "      <td>193.0</td>\n",
       "      <td>False</td>\n",
       "    </tr>\n",
       "    <tr>\n",
       "      <th>4</th>\n",
       "      <td>Earth</td>\n",
       "      <td>False</td>\n",
       "      <td>F/1/S</td>\n",
       "      <td>TRAPPIST-1e</td>\n",
       "      <td>16.0</td>\n",
       "      <td>False</td>\n",
       "      <td>303.0</td>\n",
       "      <td>70.0</td>\n",
       "      <td>151.0</td>\n",
       "      <td>565.0</td>\n",
       "      <td>2.0</td>\n",
       "      <td>True</td>\n",
       "    </tr>\n",
       "  </tbody>\n",
       "</table>\n",
       "</div>"
      ],
      "text/plain": [
       "  HomePlanet CryoSleep  Cabin  Destination   Age    VIP  RoomService  \\\n",
       "0     Europa     False  B/0/P  TRAPPIST-1e  39.0  False          0.0   \n",
       "1      Earth     False  F/0/S  TRAPPIST-1e  24.0  False        109.0   \n",
       "2     Europa     False  A/0/S  TRAPPIST-1e  58.0   True         43.0   \n",
       "3     Europa     False  A/0/S  TRAPPIST-1e  33.0  False          0.0   \n",
       "4      Earth     False  F/1/S  TRAPPIST-1e  16.0  False        303.0   \n",
       "\n",
       "   FoodCourt  ShoppingMall     Spa  VRDeck  Transported  \n",
       "0        0.0           0.0     0.0     0.0        False  \n",
       "1        9.0          25.0   549.0    44.0         True  \n",
       "2     3576.0           0.0  6715.0    49.0        False  \n",
       "3     1283.0         371.0  3329.0   193.0        False  \n",
       "4       70.0         151.0   565.0     2.0         True  "
      ]
     },
     "execution_count": 30,
     "metadata": {},
     "output_type": "execute_result"
    }
   ],
   "source": [
    "datasets[0].head()"
   ]
  },
  {
   "cell_type": "markdown",
   "id": "d47f9a26",
   "metadata": {
    "papermill": {
     "duration": 0.024517,
     "end_time": "2022-11-28T02:25:12.774969",
     "exception": false,
     "start_time": "2022-11-28T02:25:12.750452",
     "status": "completed"
    },
    "tags": []
   },
   "source": [
    "#### Make MoneySpent column\n"
   ]
  },
  {
   "cell_type": "code",
   "execution_count": 31,
   "id": "379226b9",
   "metadata": {
    "execution": {
     "iopub.execute_input": "2022-11-28T02:25:12.827838Z",
     "iopub.status.busy": "2022-11-28T02:25:12.827148Z",
     "iopub.status.idle": "2022-11-28T02:25:12.844623Z",
     "shell.execute_reply": "2022-11-28T02:25:12.843875Z"
    },
    "papermill": {
     "duration": 0.046567,
     "end_time": "2022-11-28T02:25:12.846942",
     "exception": false,
     "start_time": "2022-11-28T02:25:12.800375",
     "status": "completed"
    },
    "tags": []
   },
   "outputs": [],
   "source": [
    "for df in datasets:\n",
    "    df['MoneySpent'] = df['RoomService'] + df['FoodCourt'] + df['ShoppingMall'] + df['Spa'] + df['VRDeck'] \n",
    "    # CryoSleepers don't spend money\n",
    "    df.loc[(df['MoneySpent'].isnull()) & (df['CryoSleep'] == True), \"MoneySpent\"] = 0\n",
    "    # Rest of NaN cases are awake\n",
    "    df['MoneySpent'].fillna(df['MoneySpent'].dropna().median(), inplace=True)\n",
    "    # Assume those who didn't spend money to be asleep\n",
    "    df.loc[(df['CryoSleep'].isnull()) & (df['MoneySpent'] == 0), \"CryoSleep\"] = True\n",
    "    df.drop(['RoomService', 'FoodCourt', 'ShoppingMall', 'Spa', 'VRDeck'], axis=1, inplace=True)"
   ]
  },
  {
   "cell_type": "markdown",
   "id": "b43a9025",
   "metadata": {
    "papermill": {
     "duration": 0.025029,
     "end_time": "2022-11-28T02:25:12.897080",
     "exception": false,
     "start_time": "2022-11-28T02:25:12.872051",
     "status": "completed"
    },
    "tags": []
   },
   "source": [
    "#### Converting and completing the Cabin feature"
   ]
  },
  {
   "cell_type": "code",
   "execution_count": 32,
   "id": "de70ab8b",
   "metadata": {
    "execution": {
     "iopub.execute_input": "2022-11-28T02:25:12.948538Z",
     "iopub.status.busy": "2022-11-28T02:25:12.947897Z",
     "iopub.status.idle": "2022-11-28T02:25:12.957323Z",
     "shell.execute_reply": "2022-11-28T02:25:12.956405Z"
    },
    "papermill": {
     "duration": 0.03791,
     "end_time": "2022-11-28T02:25:12.959817",
     "exception": false,
     "start_time": "2022-11-28T02:25:12.921907",
     "status": "completed"
    },
    "tags": []
   },
   "outputs": [
    {
     "data": {
      "text/html": [
       "<div>\n",
       "<style scoped>\n",
       "    .dataframe tbody tr th:only-of-type {\n",
       "        vertical-align: middle;\n",
       "    }\n",
       "\n",
       "    .dataframe tbody tr th {\n",
       "        vertical-align: top;\n",
       "    }\n",
       "\n",
       "    .dataframe thead th {\n",
       "        text-align: right;\n",
       "    }\n",
       "</style>\n",
       "<table border=\"1\" class=\"dataframe\">\n",
       "  <thead>\n",
       "    <tr style=\"text-align: right;\">\n",
       "      <th></th>\n",
       "      <th>Cabin</th>\n",
       "    </tr>\n",
       "  </thead>\n",
       "  <tbody>\n",
       "    <tr>\n",
       "      <th>8688</th>\n",
       "      <td>A/98/P</td>\n",
       "    </tr>\n",
       "    <tr>\n",
       "      <th>8689</th>\n",
       "      <td>G/1499/S</td>\n",
       "    </tr>\n",
       "    <tr>\n",
       "      <th>8690</th>\n",
       "      <td>G/1500/S</td>\n",
       "    </tr>\n",
       "    <tr>\n",
       "      <th>8691</th>\n",
       "      <td>E/608/S</td>\n",
       "    </tr>\n",
       "    <tr>\n",
       "      <th>8692</th>\n",
       "      <td>E/608/S</td>\n",
       "    </tr>\n",
       "  </tbody>\n",
       "</table>\n",
       "</div>"
      ],
      "text/plain": [
       "         Cabin\n",
       "8688    A/98/P\n",
       "8689  G/1499/S\n",
       "8690  G/1500/S\n",
       "8691   E/608/S\n",
       "8692   E/608/S"
      ]
     },
     "execution_count": 32,
     "metadata": {},
     "output_type": "execute_result"
    }
   ],
   "source": [
    "train_df[['Cabin']].tail()"
   ]
  },
  {
   "cell_type": "markdown",
   "id": "816d8e9e",
   "metadata": {
    "papermill": {
     "duration": 0.025307,
     "end_time": "2022-11-28T02:25:13.010681",
     "exception": false,
     "start_time": "2022-11-28T02:25:12.985374",
     "status": "completed"
    },
    "tags": []
   },
   "source": [
    "Split up Cabin Data into parts and convert categorical parts into numerical"
   ]
  },
  {
   "cell_type": "code",
   "execution_count": 33,
   "id": "5013692b",
   "metadata": {
    "execution": {
     "iopub.execute_input": "2022-11-28T02:25:13.063141Z",
     "iopub.status.busy": "2022-11-28T02:25:13.062779Z",
     "iopub.status.idle": "2022-11-28T02:25:13.120468Z",
     "shell.execute_reply": "2022-11-28T02:25:13.119311Z"
    },
    "papermill": {
     "duration": 0.086594,
     "end_time": "2022-11-28T02:25:13.122915",
     "exception": false,
     "start_time": "2022-11-28T02:25:13.036321",
     "status": "completed"
    },
    "tags": []
   },
   "outputs": [
    {
     "name": "stdout",
     "output_type": "stream",
     "text": [
      "int64 int64 int64\n"
     ]
    },
    {
     "data": {
      "text/html": [
       "<div>\n",
       "<style scoped>\n",
       "    .dataframe tbody tr th:only-of-type {\n",
       "        vertical-align: middle;\n",
       "    }\n",
       "\n",
       "    .dataframe tbody tr th {\n",
       "        vertical-align: top;\n",
       "    }\n",
       "\n",
       "    .dataframe thead th {\n",
       "        text-align: right;\n",
       "    }\n",
       "</style>\n",
       "<table border=\"1\" class=\"dataframe\">\n",
       "  <thead>\n",
       "    <tr style=\"text-align: right;\">\n",
       "      <th></th>\n",
       "      <th>Deck</th>\n",
       "      <th>Num</th>\n",
       "      <th>Side</th>\n",
       "    </tr>\n",
       "  </thead>\n",
       "  <tbody>\n",
       "    <tr>\n",
       "      <th>0</th>\n",
       "      <td>1</td>\n",
       "      <td>0</td>\n",
       "      <td>0</td>\n",
       "    </tr>\n",
       "    <tr>\n",
       "      <th>1</th>\n",
       "      <td>5</td>\n",
       "      <td>0</td>\n",
       "      <td>1</td>\n",
       "    </tr>\n",
       "    <tr>\n",
       "      <th>2</th>\n",
       "      <td>0</td>\n",
       "      <td>0</td>\n",
       "      <td>1</td>\n",
       "    </tr>\n",
       "    <tr>\n",
       "      <th>3</th>\n",
       "      <td>0</td>\n",
       "      <td>0</td>\n",
       "      <td>1</td>\n",
       "    </tr>\n",
       "    <tr>\n",
       "      <th>4</th>\n",
       "      <td>5</td>\n",
       "      <td>1</td>\n",
       "      <td>1</td>\n",
       "    </tr>\n",
       "    <tr>\n",
       "      <th>...</th>\n",
       "      <td>...</td>\n",
       "      <td>...</td>\n",
       "      <td>...</td>\n",
       "    </tr>\n",
       "    <tr>\n",
       "      <th>8688</th>\n",
       "      <td>0</td>\n",
       "      <td>98</td>\n",
       "      <td>0</td>\n",
       "    </tr>\n",
       "    <tr>\n",
       "      <th>8689</th>\n",
       "      <td>6</td>\n",
       "      <td>1499</td>\n",
       "      <td>1</td>\n",
       "    </tr>\n",
       "    <tr>\n",
       "      <th>8690</th>\n",
       "      <td>6</td>\n",
       "      <td>1500</td>\n",
       "      <td>1</td>\n",
       "    </tr>\n",
       "    <tr>\n",
       "      <th>8691</th>\n",
       "      <td>4</td>\n",
       "      <td>608</td>\n",
       "      <td>1</td>\n",
       "    </tr>\n",
       "    <tr>\n",
       "      <th>8692</th>\n",
       "      <td>4</td>\n",
       "      <td>608</td>\n",
       "      <td>1</td>\n",
       "    </tr>\n",
       "  </tbody>\n",
       "</table>\n",
       "<p>8693 rows × 3 columns</p>\n",
       "</div>"
      ],
      "text/plain": [
       "      Deck   Num  Side\n",
       "0        1     0     0\n",
       "1        5     0     1\n",
       "2        0     0     1\n",
       "3        0     0     1\n",
       "4        5     1     1\n",
       "...    ...   ...   ...\n",
       "8688     0    98     0\n",
       "8689     6  1499     1\n",
       "8690     6  1500     1\n",
       "8691     4   608     1\n",
       "8692     4   608     1\n",
       "\n",
       "[8693 rows x 3 columns]"
      ]
     },
     "execution_count": 33,
     "metadata": {},
     "output_type": "execute_result"
    }
   ],
   "source": [
    "le = LabelEncoder()\n",
    "\n",
    "# Fill with modes\n",
    "for df in datasets:\n",
    "    cabin = df['Cabin'].str.extract(r\"([A-Z])\\/(\\d+)\\/([PS])\")\n",
    "    cabin[0] = le.fit_transform(cabin[0])\n",
    "    cabin[0].fillna(cabin[0].dropna().mode()[0], inplace=True)\n",
    "    cabin[1].fillna(cabin[1].dropna().mode()[0], inplace=True)\n",
    "    cabin[2] = le.fit_transform(cabin[2])\n",
    "    cabin[2].fillna(cabin[2].dropna().mode()[0], inplace=True)\n",
    "    df['Deck'] = cabin[0]\n",
    "    df['Num'] = cabin[1].astype(int)\n",
    "    df['Side'] = cabin[2]\n",
    "print(train_df['Deck'].dtype, train_df['Num'].dtype, train_df['Side'].dtype)\n",
    "train_df[['Deck', 'Num', 'Side']]"
   ]
  },
  {
   "cell_type": "markdown",
   "id": "61b352ce",
   "metadata": {
    "papermill": {
     "duration": 0.025337,
     "end_time": "2022-11-28T02:25:13.173949",
     "exception": false,
     "start_time": "2022-11-28T02:25:13.148612",
     "status": "completed"
    },
    "tags": []
   },
   "source": [
    "We can now drop the cabin feature"
   ]
  },
  {
   "cell_type": "code",
   "execution_count": 34,
   "id": "67e43835",
   "metadata": {
    "execution": {
     "iopub.execute_input": "2022-11-28T02:25:13.227915Z",
     "iopub.status.busy": "2022-11-28T02:25:13.227532Z",
     "iopub.status.idle": "2022-11-28T02:25:13.235713Z",
     "shell.execute_reply": "2022-11-28T02:25:13.233813Z"
    },
    "papermill": {
     "duration": 0.038197,
     "end_time": "2022-11-28T02:25:13.238133",
     "exception": false,
     "start_time": "2022-11-28T02:25:13.199936",
     "status": "completed"
    },
    "tags": []
   },
   "outputs": [],
   "source": [
    "for df in datasets:\n",
    "    df.drop(['Cabin'], axis=1, inplace=True)"
   ]
  },
  {
   "cell_type": "markdown",
   "id": "0c873899",
   "metadata": {
    "execution": {
     "iopub.execute_input": "2022-11-27T14:04:07.313503Z",
     "iopub.status.busy": "2022-11-27T14:04:07.312413Z",
     "iopub.status.idle": "2022-11-27T14:04:07.319140Z",
     "shell.execute_reply": "2022-11-27T14:04:07.317381Z",
     "shell.execute_reply.started": "2022-11-27T14:04:07.313442Z"
    },
    "papermill": {
     "duration": 0.025017,
     "end_time": "2022-11-28T02:25:13.289909",
     "exception": false,
     "start_time": "2022-11-28T02:25:13.264892",
     "status": "completed"
    },
    "tags": []
   },
   "source": [
    "#### Some visualization based on new Cabin data"
   ]
  },
  {
   "cell_type": "code",
   "execution_count": 35,
   "id": "890d3597",
   "metadata": {
    "execution": {
     "iopub.execute_input": "2022-11-28T02:25:13.341435Z",
     "iopub.status.busy": "2022-11-28T02:25:13.341056Z",
     "iopub.status.idle": "2022-11-28T02:25:16.423535Z",
     "shell.execute_reply": "2022-11-28T02:25:16.422400Z"
    },
    "papermill": {
     "duration": 3.110783,
     "end_time": "2022-11-28T02:25:16.425873",
     "exception": false,
     "start_time": "2022-11-28T02:25:13.315090",
     "status": "completed"
    },
    "tags": []
   },
   "outputs": [
    {
     "data": {
      "text/plain": [
       "<seaborn.axisgrid.FacetGrid at 0x7f698423fed0>"
      ]
     },
     "execution_count": 35,
     "metadata": {},
     "output_type": "execute_result"
    },
    {
     "data": {
      "image/png": "[encoded data removed]",
      "text/plain": [
       "<Figure size 432x1944 with 18 Axes>"
      ]
     },
     "metadata": {},
     "output_type": "display_data"
    }
   ],
   "source": [
    "g = sns.FacetGrid(train_df, col=\"Transported\", row=\"Deck\")\n",
    "g.map(plt.hist, 'Age', alpha=0.5, bins=20)"
   ]
  },
  {
   "cell_type": "code",
   "execution_count": 36,
   "id": "fb978521",
   "metadata": {
    "execution": {
     "iopub.execute_input": "2022-11-28T02:25:16.480854Z",
     "iopub.status.busy": "2022-11-28T02:25:16.480471Z",
     "iopub.status.idle": "2022-11-28T02:25:17.832867Z",
     "shell.execute_reply": "2022-11-28T02:25:17.831288Z"
    },
    "papermill": {
     "duration": 1.383155,
     "end_time": "2022-11-28T02:25:17.835768",
     "exception": false,
     "start_time": "2022-11-28T02:25:16.452613",
     "status": "completed"
    },
    "tags": []
   },
   "outputs": [
    {
     "data": {
      "text/plain": [
       "<seaborn.axisgrid.FacetGrid at 0x7f697ee7e350>"
      ]
     },
     "execution_count": 36,
     "metadata": {},
     "output_type": "execute_result"
    },
    {
     "data": {
      "image/png": "[encoded data removed]",
      "text/plain": [
       "<Figure size 432x648 with 6 Axes>"
      ]
     },
     "metadata": {},
     "output_type": "display_data"
    }
   ],
   "source": [
    "g = sns.FacetGrid(train_df, col=\"Transported\", row=\"Side\")\n",
    "g.map(plt.hist, 'Age', alpha=0.5, bins=20)"
   ]
  },
  {
   "cell_type": "markdown",
   "id": "69be92d9",
   "metadata": {
    "papermill": {
     "duration": 0.027328,
     "end_time": "2022-11-28T02:25:17.891103",
     "exception": false,
     "start_time": "2022-11-28T02:25:17.863775",
     "status": "completed"
    },
    "tags": []
   },
   "source": [
    "#### Completing and converting the HomePlanet Feature"
   ]
  },
  {
   "cell_type": "code",
   "execution_count": 37,
   "id": "804bb296",
   "metadata": {
    "execution": {
     "iopub.execute_input": "2022-11-28T02:25:17.949051Z",
     "iopub.status.busy": "2022-11-28T02:25:17.948060Z",
     "iopub.status.idle": "2022-11-28T02:25:17.960998Z",
     "shell.execute_reply": "2022-11-28T02:25:17.959879Z"
    },
    "papermill": {
     "duration": 0.044462,
     "end_time": "2022-11-28T02:25:17.963276",
     "exception": false,
     "start_time": "2022-11-28T02:25:17.918814",
     "status": "completed"
    },
    "tags": []
   },
   "outputs": [],
   "source": [
    "le = LabelEncoder()\n",
    "# Complete with Mode\n",
    "for df in datasets:\n",
    "    df['HomePlanet'].fillna(df['HomePlanet'].dropna().mode()[0], inplace=True)\n",
    "    df['HomePlanet'] = le.fit_transform(df['HomePlanet'])"
   ]
  },
  {
   "cell_type": "markdown",
   "id": "25bd473e",
   "metadata": {
    "papermill": {
     "duration": 0.02773,
     "end_time": "2022-11-28T02:25:18.018976",
     "exception": false,
     "start_time": "2022-11-28T02:25:17.991246",
     "status": "completed"
    },
    "tags": []
   },
   "source": [
    "#### Completing and converting the Destination feature"
   ]
  },
  {
   "cell_type": "code",
   "execution_count": 38,
   "id": "fb601d81",
   "metadata": {
    "execution": {
     "iopub.execute_input": "2022-11-28T02:25:18.077870Z",
     "iopub.status.busy": "2022-11-28T02:25:18.077222Z",
     "iopub.status.idle": "2022-11-28T02:25:18.091571Z",
     "shell.execute_reply": "2022-11-28T02:25:18.090469Z"
    },
    "papermill": {
     "duration": 0.045519,
     "end_time": "2022-11-28T02:25:18.093587",
     "exception": false,
     "start_time": "2022-11-28T02:25:18.048068",
     "status": "completed"
    },
    "tags": []
   },
   "outputs": [],
   "source": [
    "le = LabelEncoder()\n",
    "for df in datasets:\n",
    "    df['Destination'].fillna(df['Destination'].dropna().mode()[0], inplace=True)\n",
    "    df['Destination'] = le.fit_transform(df['Destination'])"
   ]
  },
  {
   "cell_type": "markdown",
   "id": "fb2c9a63",
   "metadata": {
    "papermill": {
     "duration": 0.028162,
     "end_time": "2022-11-28T02:25:18.149069",
     "exception": false,
     "start_time": "2022-11-28T02:25:18.120907",
     "status": "completed"
    },
    "tags": []
   },
   "source": [
    "#### Completing and converting the VIP feature"
   ]
  },
  {
   "cell_type": "code",
   "execution_count": 39,
   "id": "8eecd73f",
   "metadata": {
    "execution": {
     "iopub.execute_input": "2022-11-28T02:25:18.206756Z",
     "iopub.status.busy": "2022-11-28T02:25:18.206295Z",
     "iopub.status.idle": "2022-11-28T02:25:18.219292Z",
     "shell.execute_reply": "2022-11-28T02:25:18.217886Z"
    },
    "papermill": {
     "duration": 0.045555,
     "end_time": "2022-11-28T02:25:18.221722",
     "exception": false,
     "start_time": "2022-11-28T02:25:18.176167",
     "status": "completed"
    },
    "tags": []
   },
   "outputs": [],
   "source": [
    "# Use the mode, which is VIP=False\n",
    "le = LabelEncoder()\n",
    "for df in datasets:\n",
    "    df['VIP'].fillna(df['Destination'].dropna().mode()[0], inplace=True)\n",
    "    df['VIP'] = le.fit_transform(df['VIP'])"
   ]
  },
  {
   "cell_type": "markdown",
   "id": "55f6ddd1",
   "metadata": {
    "execution": {
     "iopub.execute_input": "2022-11-27T15:12:27.783413Z",
     "iopub.status.busy": "2022-11-27T15:12:27.782396Z",
     "iopub.status.idle": "2022-11-27T15:12:27.787760Z",
     "shell.execute_reply": "2022-11-27T15:12:27.786929Z",
     "shell.execute_reply.started": "2022-11-27T15:12:27.783354Z"
    },
    "papermill": {
     "duration": 0.027719,
     "end_time": "2022-11-28T02:25:18.276941",
     "exception": false,
     "start_time": "2022-11-28T02:25:18.249222",
     "status": "completed"
    },
    "tags": []
   },
   "source": [
    "#### Completing and converting the CryoSleep feature"
   ]
  },
  {
   "cell_type": "code",
   "execution_count": 40,
   "id": "a79291bd",
   "metadata": {
    "execution": {
     "iopub.execute_input": "2022-11-28T02:25:18.334070Z",
     "iopub.status.busy": "2022-11-28T02:25:18.333032Z",
     "iopub.status.idle": "2022-11-28T02:25:18.343683Z",
     "shell.execute_reply": "2022-11-28T02:25:18.342468Z"
    },
    "papermill": {
     "duration": 0.041698,
     "end_time": "2022-11-28T02:25:18.346312",
     "exception": false,
     "start_time": "2022-11-28T02:25:18.304614",
     "status": "completed"
    },
    "tags": []
   },
   "outputs": [],
   "source": [
    "le = LabelEncoder()\n",
    "for df in datasets:\n",
    "    df['CryoSleep'].fillna(df['CryoSleep'].dropna().mode()[0], inplace=True)"
   ]
  },
  {
   "cell_type": "markdown",
   "id": "1daa86db",
   "metadata": {
    "papermill": {
     "duration": 0.026584,
     "end_time": "2022-11-28T02:25:18.401143",
     "exception": false,
     "start_time": "2022-11-28T02:25:18.374559",
     "status": "completed"
    },
    "tags": []
   },
   "source": [
    "#### Completing the Age feature"
   ]
  },
  {
   "cell_type": "code",
   "execution_count": 41,
   "id": "5a9abbef",
   "metadata": {
    "execution": {
     "iopub.execute_input": "2022-11-28T02:25:18.456893Z",
     "iopub.status.busy": "2022-11-28T02:25:18.456514Z",
     "iopub.status.idle": "2022-11-28T02:25:18.463812Z",
     "shell.execute_reply": "2022-11-28T02:25:18.462603Z"
    },
    "papermill": {
     "duration": 0.037951,
     "end_time": "2022-11-28T02:25:18.466244",
     "exception": false,
     "start_time": "2022-11-28T02:25:18.428293",
     "status": "completed"
    },
    "tags": []
   },
   "outputs": [],
   "source": [
    "# Use overall median\n",
    "# Might want to use median for each HomePlanet\n",
    "# or some combination of given parameters\n",
    "for df in datasets:\n",
    "    df['Age'].fillna(df['Age'].dropna().median(), inplace=True)"
   ]
  },
  {
   "cell_type": "markdown",
   "id": "a53d8de7",
   "metadata": {
    "papermill": {
     "duration": 0.027306,
     "end_time": "2022-11-28T02:25:18.520775",
     "exception": false,
     "start_time": "2022-11-28T02:25:18.493469",
     "status": "completed"
    },
    "tags": []
   },
   "source": [
    "#### Make AgeBand Column"
   ]
  },
  {
   "cell_type": "code",
   "execution_count": 42,
   "id": "2bd5b358",
   "metadata": {
    "execution": {
     "iopub.execute_input": "2022-11-28T02:25:18.577903Z",
     "iopub.status.busy": "2022-11-28T02:25:18.577511Z",
     "iopub.status.idle": "2022-11-28T02:25:18.586244Z",
     "shell.execute_reply": "2022-11-28T02:25:18.585391Z"
    },
    "papermill": {
     "duration": 0.040319,
     "end_time": "2022-11-28T02:25:18.588818",
     "exception": false,
     "start_time": "2022-11-28T02:25:18.548499",
     "status": "completed"
    },
    "tags": []
   },
   "outputs": [],
   "source": [
    "for df in datasets:\n",
    "    df['AgeBand'] = pd.cut(df['Age'], 20, labels=range(0, 20))"
   ]
  },
  {
   "cell_type": "markdown",
   "id": "e09bce49",
   "metadata": {
    "papermill": {
     "duration": 0.027217,
     "end_time": "2022-11-28T02:25:18.643299",
     "exception": false,
     "start_time": "2022-11-28T02:25:18.616082",
     "status": "completed"
    },
    "tags": []
   },
   "source": [
    "We can now drop the AgeBand column"
   ]
  },
  {
   "cell_type": "code",
   "execution_count": 43,
   "id": "0a0caa4e",
   "metadata": {
    "execution": {
     "iopub.execute_input": "2022-11-28T02:25:18.700641Z",
     "iopub.status.busy": "2022-11-28T02:25:18.700029Z",
     "iopub.status.idle": "2022-11-28T02:25:18.718606Z",
     "shell.execute_reply": "2022-11-28T02:25:18.717618Z"
    },
    "papermill": {
     "duration": 0.050416,
     "end_time": "2022-11-28T02:25:18.721387",
     "exception": false,
     "start_time": "2022-11-28T02:25:18.670971",
     "status": "completed"
    },
    "tags": []
   },
   "outputs": [
    {
     "data": {
      "text/html": [
       "<div>\n",
       "<style scoped>\n",
       "    .dataframe tbody tr th:only-of-type {\n",
       "        vertical-align: middle;\n",
       "    }\n",
       "\n",
       "    .dataframe tbody tr th {\n",
       "        vertical-align: top;\n",
       "    }\n",
       "\n",
       "    .dataframe thead th {\n",
       "        text-align: right;\n",
       "    }\n",
       "</style>\n",
       "<table border=\"1\" class=\"dataframe\">\n",
       "  <thead>\n",
       "    <tr style=\"text-align: right;\">\n",
       "      <th></th>\n",
       "      <th>Age</th>\n",
       "      <th>Transported</th>\n",
       "    </tr>\n",
       "  </thead>\n",
       "  <tbody>\n",
       "    <tr>\n",
       "      <th>0</th>\n",
       "      <td>0</td>\n",
       "      <td>0.772152</td>\n",
       "    </tr>\n",
       "    <tr>\n",
       "      <th>1</th>\n",
       "      <td>1</td>\n",
       "      <td>0.653061</td>\n",
       "    </tr>\n",
       "    <tr>\n",
       "      <th>2</th>\n",
       "      <td>2</td>\n",
       "      <td>0.586207</td>\n",
       "    </tr>\n",
       "    <tr>\n",
       "      <th>3</th>\n",
       "      <td>3</td>\n",
       "      <td>0.566316</td>\n",
       "    </tr>\n",
       "    <tr>\n",
       "      <th>4</th>\n",
       "      <td>4</td>\n",
       "      <td>0.508715</td>\n",
       "    </tr>\n",
       "    <tr>\n",
       "      <th>5</th>\n",
       "      <td>5</td>\n",
       "      <td>0.445773</td>\n",
       "    </tr>\n",
       "    <tr>\n",
       "      <th>6</th>\n",
       "      <td>6</td>\n",
       "      <td>0.472899</td>\n",
       "    </tr>\n",
       "    <tr>\n",
       "      <th>7</th>\n",
       "      <td>7</td>\n",
       "      <td>0.484127</td>\n",
       "    </tr>\n",
       "    <tr>\n",
       "      <th>8</th>\n",
       "      <td>8</td>\n",
       "      <td>0.481322</td>\n",
       "    </tr>\n",
       "    <tr>\n",
       "      <th>9</th>\n",
       "      <td>9</td>\n",
       "      <td>0.452599</td>\n",
       "    </tr>\n",
       "    <tr>\n",
       "      <th>10</th>\n",
       "      <td>10</td>\n",
       "      <td>0.511905</td>\n",
       "    </tr>\n",
       "    <tr>\n",
       "      <th>11</th>\n",
       "      <td>11</td>\n",
       "      <td>0.514139</td>\n",
       "    </tr>\n",
       "    <tr>\n",
       "      <th>12</th>\n",
       "      <td>12</td>\n",
       "      <td>0.454861</td>\n",
       "    </tr>\n",
       "    <tr>\n",
       "      <th>13</th>\n",
       "      <td>13</td>\n",
       "      <td>0.491935</td>\n",
       "    </tr>\n",
       "    <tr>\n",
       "      <th>14</th>\n",
       "      <td>14</td>\n",
       "      <td>0.539773</td>\n",
       "    </tr>\n",
       "    <tr>\n",
       "      <th>15</th>\n",
       "      <td>15</td>\n",
       "      <td>0.474576</td>\n",
       "    </tr>\n",
       "    <tr>\n",
       "      <th>16</th>\n",
       "      <td>16</td>\n",
       "      <td>0.472222</td>\n",
       "    </tr>\n",
       "    <tr>\n",
       "      <th>17</th>\n",
       "      <td>17</td>\n",
       "      <td>0.529412</td>\n",
       "    </tr>\n",
       "    <tr>\n",
       "      <th>18</th>\n",
       "      <td>18</td>\n",
       "      <td>0.400000</td>\n",
       "    </tr>\n",
       "    <tr>\n",
       "      <th>19</th>\n",
       "      <td>19</td>\n",
       "      <td>0.300000</td>\n",
       "    </tr>\n",
       "  </tbody>\n",
       "</table>\n",
       "</div>"
      ],
      "text/plain": [
       "   Age  Transported\n",
       "0    0     0.772152\n",
       "1    1     0.653061\n",
       "2    2     0.586207\n",
       "3    3     0.566316\n",
       "4    4     0.508715\n",
       "5    5     0.445773\n",
       "6    6     0.472899\n",
       "7    7     0.484127\n",
       "8    8     0.481322\n",
       "9    9     0.452599\n",
       "10  10     0.511905\n",
       "11  11     0.514139\n",
       "12  12     0.454861\n",
       "13  13     0.491935\n",
       "14  14     0.539773\n",
       "15  15     0.474576\n",
       "16  16     0.472222\n",
       "17  17     0.529412\n",
       "18  18     0.400000\n",
       "19  19     0.300000"
      ]
     },
     "execution_count": 43,
     "metadata": {},
     "output_type": "execute_result"
    }
   ],
   "source": [
    "for df in datasets:\n",
    "    df['Age'] = df['AgeBand']\n",
    "    df.drop(['AgeBand'], axis=1, inplace=True)\n",
    "train_df[['Age', 'Transported']].groupby(['Age'], as_index=False).mean().sort_values(by=\"Age\", ascending=True)"
   ]
  },
  {
   "cell_type": "markdown",
   "id": "a3b54a69",
   "metadata": {
    "papermill": {
     "duration": 0.026714,
     "end_time": "2022-11-28T02:25:18.775630",
     "exception": false,
     "start_time": "2022-11-28T02:25:18.748916",
     "status": "completed"
    },
    "tags": []
   },
   "source": [
    "#### Further exploration based on new columns"
   ]
  },
  {
   "cell_type": "code",
   "execution_count": 44,
   "id": "23cb4414",
   "metadata": {
    "execution": {
     "iopub.execute_input": "2022-11-28T02:25:18.831843Z",
     "iopub.status.busy": "2022-11-28T02:25:18.831451Z",
     "iopub.status.idle": "2022-11-28T02:25:18.846409Z",
     "shell.execute_reply": "2022-11-28T02:25:18.845675Z"
    },
    "papermill": {
     "duration": 0.045465,
     "end_time": "2022-11-28T02:25:18.848247",
     "exception": false,
     "start_time": "2022-11-28T02:25:18.802782",
     "status": "completed"
    },
    "tags": []
   },
   "outputs": [
    {
     "data": {
      "text/html": [
       "<div>\n",
       "<style scoped>\n",
       "    .dataframe tbody tr th:only-of-type {\n",
       "        vertical-align: middle;\n",
       "    }\n",
       "\n",
       "    .dataframe tbody tr th {\n",
       "        vertical-align: top;\n",
       "    }\n",
       "\n",
       "    .dataframe thead th {\n",
       "        text-align: right;\n",
       "    }\n",
       "</style>\n",
       "<table border=\"1\" class=\"dataframe\">\n",
       "  <thead>\n",
       "    <tr style=\"text-align: right;\">\n",
       "      <th></th>\n",
       "      <th>MoneySpent</th>\n",
       "      <th>Side</th>\n",
       "      <th>Transported</th>\n",
       "    </tr>\n",
       "    <tr>\n",
       "      <th>Deck</th>\n",
       "      <th></th>\n",
       "      <th></th>\n",
       "      <th></th>\n",
       "    </tr>\n",
       "  </thead>\n",
       "  <tbody>\n",
       "    <tr>\n",
       "      <th>0</th>\n",
       "      <td>3266.675781</td>\n",
       "      <td>0.542969</td>\n",
       "      <td>0.496094</td>\n",
       "    </tr>\n",
       "    <tr>\n",
       "      <th>1</th>\n",
       "      <td>2805.052632</td>\n",
       "      <td>0.546855</td>\n",
       "      <td>0.734275</td>\n",
       "    </tr>\n",
       "    <tr>\n",
       "      <th>2</th>\n",
       "      <td>3807.199465</td>\n",
       "      <td>0.543507</td>\n",
       "      <td>0.680054</td>\n",
       "    </tr>\n",
       "    <tr>\n",
       "      <th>3</th>\n",
       "      <td>2169.541841</td>\n",
       "      <td>0.481172</td>\n",
       "      <td>0.433054</td>\n",
       "    </tr>\n",
       "    <tr>\n",
       "      <th>4</th>\n",
       "      <td>1236.468037</td>\n",
       "      <td>0.510274</td>\n",
       "      <td>0.357306</td>\n",
       "    </tr>\n",
       "    <tr>\n",
       "      <th>5</th>\n",
       "      <td>954.036865</td>\n",
       "      <td>0.485326</td>\n",
       "      <td>0.439871</td>\n",
       "    </tr>\n",
       "    <tr>\n",
       "      <th>6</th>\n",
       "      <td>379.765143</td>\n",
       "      <td>0.501368</td>\n",
       "      <td>0.516217</td>\n",
       "    </tr>\n",
       "    <tr>\n",
       "      <th>7</th>\n",
       "      <td>4101.800000</td>\n",
       "      <td>0.200000</td>\n",
       "      <td>0.200000</td>\n",
       "    </tr>\n",
       "    <tr>\n",
       "      <th>8</th>\n",
       "      <td>1556.035176</td>\n",
       "      <td>2.000000</td>\n",
       "      <td>0.502513</td>\n",
       "    </tr>\n",
       "  </tbody>\n",
       "</table>\n",
       "</div>"
      ],
      "text/plain": [
       "       MoneySpent      Side  Transported\n",
       "Deck                                    \n",
       "0     3266.675781  0.542969     0.496094\n",
       "1     2805.052632  0.546855     0.734275\n",
       "2     3807.199465  0.543507     0.680054\n",
       "3     2169.541841  0.481172     0.433054\n",
       "4     1236.468037  0.510274     0.357306\n",
       "5      954.036865  0.485326     0.439871\n",
       "6      379.765143  0.501368     0.516217\n",
       "7     4101.800000  0.200000     0.200000\n",
       "8     1556.035176  2.000000     0.502513"
      ]
     },
     "execution_count": 44,
     "metadata": {},
     "output_type": "execute_result"
    }
   ],
   "source": [
    "train_df[['Age', 'MoneySpent', 'Deck', 'Side', 'Transported']].groupby(['Deck']).mean()"
   ]
  },
  {
   "cell_type": "code",
   "execution_count": 45,
   "id": "0cb26771",
   "metadata": {
    "execution": {
     "iopub.execute_input": "2022-11-28T02:25:18.906436Z",
     "iopub.status.busy": "2022-11-28T02:25:18.905837Z",
     "iopub.status.idle": "2022-11-28T02:25:18.921277Z",
     "shell.execute_reply": "2022-11-28T02:25:18.920412Z"
    },
    "papermill": {
     "duration": 0.047733,
     "end_time": "2022-11-28T02:25:18.923792",
     "exception": false,
     "start_time": "2022-11-28T02:25:18.876059",
     "status": "completed"
    },
    "tags": []
   },
   "outputs": [
    {
     "data": {
      "text/html": [
       "<div>\n",
       "<style scoped>\n",
       "    .dataframe tbody tr th:only-of-type {\n",
       "        vertical-align: middle;\n",
       "    }\n",
       "\n",
       "    .dataframe tbody tr th {\n",
       "        vertical-align: top;\n",
       "    }\n",
       "\n",
       "    .dataframe thead th {\n",
       "        text-align: right;\n",
       "    }\n",
       "</style>\n",
       "<table border=\"1\" class=\"dataframe\">\n",
       "  <thead>\n",
       "    <tr style=\"text-align: right;\">\n",
       "      <th></th>\n",
       "      <th></th>\n",
       "      <th>MoneySpent</th>\n",
       "      <th>Transported</th>\n",
       "    </tr>\n",
       "    <tr>\n",
       "      <th>Deck</th>\n",
       "      <th>Side</th>\n",
       "      <th></th>\n",
       "      <th></th>\n",
       "    </tr>\n",
       "  </thead>\n",
       "  <tbody>\n",
       "    <tr>\n",
       "      <th rowspan=\"2\" valign=\"top\">0</th>\n",
       "      <th>0</th>\n",
       "      <td>3286.589744</td>\n",
       "      <td>0.435897</td>\n",
       "    </tr>\n",
       "    <tr>\n",
       "      <th>1</th>\n",
       "      <td>3249.913669</td>\n",
       "      <td>0.546763</td>\n",
       "    </tr>\n",
       "    <tr>\n",
       "      <th rowspan=\"2\" valign=\"top\">1</th>\n",
       "      <th>0</th>\n",
       "      <td>3119.441926</td>\n",
       "      <td>0.674221</td>\n",
       "    </tr>\n",
       "    <tr>\n",
       "      <th>1</th>\n",
       "      <td>2544.537559</td>\n",
       "      <td>0.784038</td>\n",
       "    </tr>\n",
       "    <tr>\n",
       "      <th rowspan=\"2\" valign=\"top\">2</th>\n",
       "      <th>0</th>\n",
       "      <td>3781.932551</td>\n",
       "      <td>0.580645</td>\n",
       "    </tr>\n",
       "    <tr>\n",
       "      <th>1</th>\n",
       "      <td>3828.421182</td>\n",
       "      <td>0.763547</td>\n",
       "    </tr>\n",
       "    <tr>\n",
       "      <th rowspan=\"2\" valign=\"top\">3</th>\n",
       "      <th>0</th>\n",
       "      <td>2099.056452</td>\n",
       "      <td>0.403226</td>\n",
       "    </tr>\n",
       "    <tr>\n",
       "      <th>1</th>\n",
       "      <td>2245.543478</td>\n",
       "      <td>0.465217</td>\n",
       "    </tr>\n",
       "    <tr>\n",
       "      <th rowspan=\"2\" valign=\"top\">4</th>\n",
       "      <th>0</th>\n",
       "      <td>1210.452214</td>\n",
       "      <td>0.342657</td>\n",
       "    </tr>\n",
       "    <tr>\n",
       "      <th>1</th>\n",
       "      <td>1261.436242</td>\n",
       "      <td>0.371365</td>\n",
       "    </tr>\n",
       "    <tr>\n",
       "      <th rowspan=\"2\" valign=\"top\">5</th>\n",
       "      <th>0</th>\n",
       "      <td>946.684979</td>\n",
       "      <td>0.410987</td>\n",
       "    </tr>\n",
       "    <tr>\n",
       "      <th>1</th>\n",
       "      <td>961.833333</td>\n",
       "      <td>0.470501</td>\n",
       "    </tr>\n",
       "    <tr>\n",
       "      <th rowspan=\"2\" valign=\"top\">6</th>\n",
       "      <th>0</th>\n",
       "      <td>404.053292</td>\n",
       "      <td>0.448276</td>\n",
       "    </tr>\n",
       "    <tr>\n",
       "      <th>1</th>\n",
       "      <td>355.609509</td>\n",
       "      <td>0.583788</td>\n",
       "    </tr>\n",
       "    <tr>\n",
       "      <th rowspan=\"2\" valign=\"top\">7</th>\n",
       "      <th>0</th>\n",
       "      <td>4951.000000</td>\n",
       "      <td>0.250000</td>\n",
       "    </tr>\n",
       "    <tr>\n",
       "      <th>1</th>\n",
       "      <td>705.000000</td>\n",
       "      <td>0.000000</td>\n",
       "    </tr>\n",
       "    <tr>\n",
       "      <th>8</th>\n",
       "      <th>2</th>\n",
       "      <td>1556.035176</td>\n",
       "      <td>0.502513</td>\n",
       "    </tr>\n",
       "  </tbody>\n",
       "</table>\n",
       "</div>"
      ],
      "text/plain": [
       "            MoneySpent  Transported\n",
       "Deck Side                          \n",
       "0    0     3286.589744     0.435897\n",
       "     1     3249.913669     0.546763\n",
       "1    0     3119.441926     0.674221\n",
       "     1     2544.537559     0.784038\n",
       "2    0     3781.932551     0.580645\n",
       "     1     3828.421182     0.763547\n",
       "3    0     2099.056452     0.403226\n",
       "     1     2245.543478     0.465217\n",
       "4    0     1210.452214     0.342657\n",
       "     1     1261.436242     0.371365\n",
       "5    0      946.684979     0.410987\n",
       "     1      961.833333     0.470501\n",
       "6    0      404.053292     0.448276\n",
       "     1      355.609509     0.583788\n",
       "7    0     4951.000000     0.250000\n",
       "     1      705.000000     0.000000\n",
       "8    2     1556.035176     0.502513"
      ]
     },
     "execution_count": 45,
     "metadata": {},
     "output_type": "execute_result"
    }
   ],
   "source": [
    "train_df[['Age', 'MoneySpent', 'Deck', 'Side', 'Transported']].groupby(['Deck', 'Side']).mean()"
   ]
  },
  {
   "cell_type": "code",
   "execution_count": 46,
   "id": "2c113ee3",
   "metadata": {
    "execution": {
     "iopub.execute_input": "2022-11-28T02:25:18.981300Z",
     "iopub.status.busy": "2022-11-28T02:25:18.980722Z",
     "iopub.status.idle": "2022-11-28T02:25:18.985156Z",
     "shell.execute_reply": "2022-11-28T02:25:18.984234Z"
    },
    "papermill": {
     "duration": 0.036005,
     "end_time": "2022-11-28T02:25:18.987700",
     "exception": false,
     "start_time": "2022-11-28T02:25:18.951695",
     "status": "completed"
    },
    "tags": []
   },
   "outputs": [],
   "source": [
    "# train_df[['HomePlanet', 'Destination', 'Age', 'VIP', 'MoneySpent', 'Transported']].groupby(['HomePlanet', 'Destination', 'VIP']).mean().sort_values(by='MoneySpent', ascending=False)"
   ]
  },
  {
   "cell_type": "code",
   "execution_count": 47,
   "id": "4564ef6d",
   "metadata": {
    "execution": {
     "iopub.execute_input": "2022-11-28T02:25:19.045794Z",
     "iopub.status.busy": "2022-11-28T02:25:19.045400Z",
     "iopub.status.idle": "2022-11-28T02:25:19.084654Z",
     "shell.execute_reply": "2022-11-28T02:25:19.078597Z"
    },
    "papermill": {
     "duration": 0.072156,
     "end_time": "2022-11-28T02:25:19.087676",
     "exception": false,
     "start_time": "2022-11-28T02:25:19.015520",
     "status": "completed"
    },
    "tags": []
   },
   "outputs": [
    {
     "data": {
      "text/html": [
       "<div>\n",
       "<style scoped>\n",
       "    .dataframe tbody tr th:only-of-type {\n",
       "        vertical-align: middle;\n",
       "    }\n",
       "\n",
       "    .dataframe tbody tr th {\n",
       "        vertical-align: top;\n",
       "    }\n",
       "\n",
       "    .dataframe thead th {\n",
       "        text-align: right;\n",
       "    }\n",
       "</style>\n",
       "<table border=\"1\" class=\"dataframe\">\n",
       "  <thead>\n",
       "    <tr style=\"text-align: right;\">\n",
       "      <th></th>\n",
       "      <th>HomePlanet</th>\n",
       "      <th>Destination</th>\n",
       "      <th>VIP</th>\n",
       "      <th>MoneySpent</th>\n",
       "      <th>Deck</th>\n",
       "      <th>Num</th>\n",
       "      <th>Side</th>\n",
       "    </tr>\n",
       "  </thead>\n",
       "  <tbody>\n",
       "    <tr>\n",
       "      <th>count</th>\n",
       "      <td>8693.000000</td>\n",
       "      <td>8693.000000</td>\n",
       "      <td>8693.000000</td>\n",
       "      <td>8693.000000</td>\n",
       "      <td>8693.000000</td>\n",
       "      <td>8693.000000</td>\n",
       "      <td>8693.000000</td>\n",
       "    </tr>\n",
       "    <tr>\n",
       "      <th>mean</th>\n",
       "      <td>0.649833</td>\n",
       "      <td>1.494306</td>\n",
       "      <td>0.069596</td>\n",
       "      <td>1375.029104</td>\n",
       "      <td>4.389969</td>\n",
       "      <td>588.501208</td>\n",
       "      <td>0.539054</td>\n",
       "    </tr>\n",
       "    <tr>\n",
       "      <th>std</th>\n",
       "      <td>0.795183</td>\n",
       "      <td>0.814966</td>\n",
       "      <td>0.333871</td>\n",
       "      <td>2713.884609</td>\n",
       "      <td>1.842573</td>\n",
       "      <td>511.879432</td>\n",
       "      <td>0.542487</td>\n",
       "    </tr>\n",
       "    <tr>\n",
       "      <th>min</th>\n",
       "      <td>0.000000</td>\n",
       "      <td>0.000000</td>\n",
       "      <td>0.000000</td>\n",
       "      <td>0.000000</td>\n",
       "      <td>0.000000</td>\n",
       "      <td>0.000000</td>\n",
       "      <td>0.000000</td>\n",
       "    </tr>\n",
       "    <tr>\n",
       "      <th>25%</th>\n",
       "      <td>0.000000</td>\n",
       "      <td>1.000000</td>\n",
       "      <td>0.000000</td>\n",
       "      <td>0.000000</td>\n",
       "      <td>3.000000</td>\n",
       "      <td>152.000000</td>\n",
       "      <td>0.000000</td>\n",
       "    </tr>\n",
       "    <tr>\n",
       "      <th>50%</th>\n",
       "      <td>0.000000</td>\n",
       "      <td>2.000000</td>\n",
       "      <td>0.000000</td>\n",
       "      <td>705.000000</td>\n",
       "      <td>5.000000</td>\n",
       "      <td>407.000000</td>\n",
       "      <td>1.000000</td>\n",
       "    </tr>\n",
       "    <tr>\n",
       "      <th>75%</th>\n",
       "      <td>1.000000</td>\n",
       "      <td>2.000000</td>\n",
       "      <td>0.000000</td>\n",
       "      <td>1299.000000</td>\n",
       "      <td>6.000000</td>\n",
       "      <td>983.000000</td>\n",
       "      <td>1.000000</td>\n",
       "    </tr>\n",
       "    <tr>\n",
       "      <th>max</th>\n",
       "      <td>2.000000</td>\n",
       "      <td>2.000000</td>\n",
       "      <td>2.000000</td>\n",
       "      <td>35987.000000</td>\n",
       "      <td>8.000000</td>\n",
       "      <td>1894.000000</td>\n",
       "      <td>2.000000</td>\n",
       "    </tr>\n",
       "  </tbody>\n",
       "</table>\n",
       "</div>"
      ],
      "text/plain": [
       "        HomePlanet  Destination          VIP    MoneySpent         Deck  \\\n",
       "count  8693.000000  8693.000000  8693.000000   8693.000000  8693.000000   \n",
       "mean      0.649833     1.494306     0.069596   1375.029104     4.389969   \n",
       "std       0.795183     0.814966     0.333871   2713.884609     1.842573   \n",
       "min       0.000000     0.000000     0.000000      0.000000     0.000000   \n",
       "25%       0.000000     1.000000     0.000000      0.000000     3.000000   \n",
       "50%       0.000000     2.000000     0.000000    705.000000     5.000000   \n",
       "75%       1.000000     2.000000     0.000000   1299.000000     6.000000   \n",
       "max       2.000000     2.000000     2.000000  35987.000000     8.000000   \n",
       "\n",
       "               Num         Side  \n",
       "count  8693.000000  8693.000000  \n",
       "mean    588.501208     0.539054  \n",
       "std     511.879432     0.542487  \n",
       "min       0.000000     0.000000  \n",
       "25%     152.000000     0.000000  \n",
       "50%     407.000000     1.000000  \n",
       "75%     983.000000     1.000000  \n",
       "max    1894.000000     2.000000  "
      ]
     },
     "execution_count": 47,
     "metadata": {},
     "output_type": "execute_result"
    }
   ],
   "source": [
    "train_df.describe()"
   ]
  },
  {
   "cell_type": "markdown",
   "id": "a1ef514d",
   "metadata": {
    "papermill": {
     "duration": 0.02818,
     "end_time": "2022-11-28T02:25:19.152822",
     "exception": false,
     "start_time": "2022-11-28T02:25:19.124642",
     "status": "completed"
    },
    "tags": []
   },
   "source": [
    "## Model, Predict, and Solve\n",
    "Models to be used:\n",
    "- Random Forest\n",
    "- Decision Tree\n",
    "- Support Vector Machine\n",
    "- Linear Support Vector Machine\n",
    "- K-Nearest Neighbor\n",
    "- Naive Bayes\n",
    "- Logistic Regression\n",
    "- RVM or Relevance Vector Machines\n",
    "- Perceptron\n",
    "- Multi-layer Perceptron"
   ]
  },
  {
   "cell_type": "code",
   "execution_count": 48,
   "id": "2855b307",
   "metadata": {
    "execution": {
     "iopub.execute_input": "2022-11-28T02:25:19.211467Z",
     "iopub.status.busy": "2022-11-28T02:25:19.211024Z",
     "iopub.status.idle": "2022-11-28T02:25:19.222936Z",
     "shell.execute_reply": "2022-11-28T02:25:19.221159Z"
    },
    "papermill": {
     "duration": 0.044303,
     "end_time": "2022-11-28T02:25:19.225422",
     "exception": false,
     "start_time": "2022-11-28T02:25:19.181119",
     "status": "completed"
    },
    "tags": []
   },
   "outputs": [
    {
     "data": {
      "text/plain": [
       "((8693, 9), (8693,), (4277, 9))"
      ]
     },
     "execution_count": 48,
     "metadata": {},
     "output_type": "execute_result"
    }
   ],
   "source": [
    "X_train = train_df.drop(\"Transported\", axis=1)\n",
    "y_train = train_df['Transported']\n",
    "X_test = test_df.drop(\"PassengerId\", axis=1).copy()\n",
    "X_train.shape, y_train.shape, X_test.shape"
   ]
  },
  {
   "cell_type": "code",
   "execution_count": 49,
   "id": "f8a820ea",
   "metadata": {
    "execution": {
     "iopub.execute_input": "2022-11-28T02:25:19.283528Z",
     "iopub.status.busy": "2022-11-28T02:25:19.283158Z",
     "iopub.status.idle": "2022-11-28T02:25:19.945158Z",
     "shell.execute_reply": "2022-11-28T02:25:19.944109Z"
    },
    "papermill": {
     "duration": 0.693419,
     "end_time": "2022-11-28T02:25:19.947132",
     "exception": false,
     "start_time": "2022-11-28T02:25:19.253713",
     "status": "completed"
    },
    "tags": []
   },
   "outputs": [
    {
     "name": "stderr",
     "output_type": "stream",
     "text": [
      "/opt/conda/lib/python3.7/site-packages/sklearn/svm/_base.py:1208: ConvergenceWarning: Liblinear failed to converge, increase the number of iterations.\n",
      "  ConvergenceWarning,\n",
      "/opt/conda/lib/python3.7/site-packages/sklearn/base.py:566: FutureWarning: Arrays of bytes/strings is being converted to decimal numbers if dtype='numeric'. This behavior is deprecated in 0.24 and will be removed in 1.1 (renaming of 0.26). Please convert your data to numeric values explicitly instead.\n",
      "  X = check_array(X, **check_params)\n",
      "/opt/conda/lib/python3.7/site-packages/sklearn/base.py:566: FutureWarning: Arrays of bytes/strings is being converted to decimal numbers if dtype='numeric'. This behavior is deprecated in 0.24 and will be removed in 1.1 (renaming of 0.26). Please convert your data to numeric values explicitly instead.\n",
      "  X = check_array(X, **check_params)\n"
     ]
    },
    {
     "data": {
      "text/plain": [
       "60.54"
      ]
     },
     "execution_count": 49,
     "metadata": {},
     "output_type": "execute_result"
    }
   ],
   "source": [
    "# Linear SVC\n",
    "\n",
    "linear_svc = LinearSVC()\n",
    "linear_svc.fit(X_train, y_train)\n",
    "y_pred = linear_svc.predict(X_test)\n",
    "\n",
    "acc_linear_svc = round(linear_svc.score(X_train, y_train) * 100, 2)\n",
    "acc_linear_svc"
   ]
  },
  {
   "cell_type": "code",
   "execution_count": 50,
   "id": "3209c850",
   "metadata": {
    "execution": {
     "iopub.execute_input": "2022-11-28T02:25:20.022753Z",
     "iopub.status.busy": "2022-11-28T02:25:20.022071Z",
     "iopub.status.idle": "2022-11-28T02:25:20.059664Z",
     "shell.execute_reply": "2022-11-28T02:25:20.058585Z"
    },
    "papermill": {
     "duration": 0.077754,
     "end_time": "2022-11-28T02:25:20.061580",
     "exception": false,
     "start_time": "2022-11-28T02:25:19.983826",
     "status": "completed"
    },
    "tags": []
   },
   "outputs": [
    {
     "name": "stderr",
     "output_type": "stream",
     "text": [
      "/opt/conda/lib/python3.7/site-packages/sklearn/utils/validation.py:976: FutureWarning: Arrays of bytes/strings is being converted to decimal numbers if dtype='numeric'. This behavior is deprecated in 0.24 and will be removed in 1.1 (renaming of 0.26). Please convert your data to numeric values explicitly instead.\n",
      "  estimator=estimator,\n",
      "/opt/conda/lib/python3.7/site-packages/sklearn/base.py:566: FutureWarning: Arrays of bytes/strings is being converted to decimal numbers if dtype='numeric'. This behavior is deprecated in 0.24 and will be removed in 1.1 (renaming of 0.26). Please convert your data to numeric values explicitly instead.\n",
      "  X = check_array(X, **check_params)\n",
      "/opt/conda/lib/python3.7/site-packages/sklearn/base.py:566: FutureWarning: Arrays of bytes/strings is being converted to decimal numbers if dtype='numeric'. This behavior is deprecated in 0.24 and will be removed in 1.1 (renaming of 0.26). Please convert your data to numeric values explicitly instead.\n",
      "  X = check_array(X, **check_params)\n"
     ]
    },
    {
     "data": {
      "text/plain": [
       "72.28"
      ]
     },
     "execution_count": 50,
     "metadata": {},
     "output_type": "execute_result"
    }
   ],
   "source": [
    "# Gaussian Naive Bayes\n",
    "\n",
    "gaussian = GaussianNB()\n",
    "gaussian.fit(X_train, y_train)\n",
    "y_pred = gaussian.predict(X_test)\n",
    "\n",
    "acc_gaussian = round(gaussian.score(X_train, y_train) * 100, 2)\n",
    "acc_gaussian"
   ]
  },
  {
   "cell_type": "code",
   "execution_count": 51,
   "id": "50a145d0",
   "metadata": {
    "execution": {
     "iopub.execute_input": "2022-11-28T02:25:20.122028Z",
     "iopub.status.busy": "2022-11-28T02:25:20.121107Z",
     "iopub.status.idle": "2022-11-28T02:25:20.264045Z",
     "shell.execute_reply": "2022-11-28T02:25:20.263263Z"
    },
    "papermill": {
     "duration": 0.176387,
     "end_time": "2022-11-28T02:25:20.266102",
     "exception": false,
     "start_time": "2022-11-28T02:25:20.089715",
     "status": "completed"
    },
    "tags": []
   },
   "outputs": [
    {
     "name": "stderr",
     "output_type": "stream",
     "text": [
      "/opt/conda/lib/python3.7/site-packages/sklearn/base.py:566: FutureWarning: Arrays of bytes/strings is being converted to decimal numbers if dtype='numeric'. This behavior is deprecated in 0.24 and will be removed in 1.1 (renaming of 0.26). Please convert your data to numeric values explicitly instead.\n",
      "  X = check_array(X, **check_params)\n",
      "/opt/conda/lib/python3.7/site-packages/sklearn/base.py:566: FutureWarning: Arrays of bytes/strings is being converted to decimal numbers if dtype='numeric'. This behavior is deprecated in 0.24 and will be removed in 1.1 (renaming of 0.26). Please convert your data to numeric values explicitly instead.\n",
      "  X = check_array(X, **check_params)\n"
     ]
    },
    {
     "data": {
      "text/plain": [
       "72.5"
      ]
     },
     "execution_count": 51,
     "metadata": {},
     "output_type": "execute_result"
    }
   ],
   "source": [
    "# Logistic Regression\n",
    "\n",
    "logreg = LogisticRegression(max_iter=1000)\n",
    "logreg.fit(X_train, y_train)\n",
    "y_pred = logreg.predict(X_test)\n",
    "\n",
    "acc_log = round(logreg.score(X_train, y_train) * 100, 2)\n",
    "acc_log"
   ]
  },
  {
   "cell_type": "code",
   "execution_count": 52,
   "id": "c4931e4d",
   "metadata": {
    "execution": {
     "iopub.execute_input": "2022-11-28T02:25:20.344629Z",
     "iopub.status.busy": "2022-11-28T02:25:20.344229Z",
     "iopub.status.idle": "2022-11-28T02:25:20.392627Z",
     "shell.execute_reply": "2022-11-28T02:25:20.391829Z"
    },
    "papermill": {
     "duration": 0.090194,
     "end_time": "2022-11-28T02:25:20.394825",
     "exception": false,
     "start_time": "2022-11-28T02:25:20.304631",
     "status": "completed"
    },
    "tags": []
   },
   "outputs": [
    {
     "name": "stderr",
     "output_type": "stream",
     "text": [
      "/opt/conda/lib/python3.7/site-packages/sklearn/base.py:566: FutureWarning: Arrays of bytes/strings is being converted to decimal numbers if dtype='numeric'. This behavior is deprecated in 0.24 and will be removed in 1.1 (renaming of 0.26). Please convert your data to numeric values explicitly instead.\n",
      "  X = check_array(X, **check_params)\n",
      "/opt/conda/lib/python3.7/site-packages/sklearn/base.py:566: FutureWarning: Arrays of bytes/strings is being converted to decimal numbers if dtype='numeric'. This behavior is deprecated in 0.24 and will be removed in 1.1 (renaming of 0.26). Please convert your data to numeric values explicitly instead.\n",
      "  X = check_array(X, **check_params)\n"
     ]
    },
    {
     "data": {
      "text/plain": [
       "51.1"
      ]
     },
     "execution_count": 52,
     "metadata": {},
     "output_type": "execute_result"
    }
   ],
   "source": [
    "# Perceptron\n",
    "\n",
    "perceptron = Perceptron()\n",
    "perceptron.fit(X_train, y_train)\n",
    "y_pred = perceptron.predict(X_test)\n",
    "\n",
    "acc_perceptron = round(perceptron.score(X_train, y_train) * 100, 2)\n",
    "acc_perceptron"
   ]
  },
  {
   "cell_type": "code",
   "execution_count": 53,
   "id": "066cd2ef",
   "metadata": {
    "execution": {
     "iopub.execute_input": "2022-11-28T02:25:20.471790Z",
     "iopub.status.busy": "2022-11-28T02:25:20.471446Z",
     "iopub.status.idle": "2022-11-28T02:25:21.001069Z",
     "shell.execute_reply": "2022-11-28T02:25:20.999910Z"
    },
    "papermill": {
     "duration": 0.571612,
     "end_time": "2022-11-28T02:25:21.004310",
     "exception": false,
     "start_time": "2022-11-28T02:25:20.432698",
     "status": "completed"
    },
    "tags": []
   },
   "outputs": [
    {
     "name": "stderr",
     "output_type": "stream",
     "text": [
      "/opt/conda/lib/python3.7/site-packages/sklearn/base.py:566: FutureWarning: Arrays of bytes/strings is being converted to decimal numbers if dtype='numeric'. This behavior is deprecated in 0.24 and will be removed in 1.1 (renaming of 0.26). Please convert your data to numeric values explicitly instead.\n",
      "  X = check_array(X, **check_params)\n",
      "/opt/conda/lib/python3.7/site-packages/sklearn/base.py:566: FutureWarning: Arrays of bytes/strings is being converted to decimal numbers if dtype='numeric'. This behavior is deprecated in 0.24 and will be removed in 1.1 (renaming of 0.26). Please convert your data to numeric values explicitly instead.\n",
      "  X = check_array(X, **check_params)\n"
     ]
    },
    {
     "data": {
      "text/plain": [
       "73.43"
      ]
     },
     "execution_count": 53,
     "metadata": {},
     "output_type": "execute_result"
    }
   ],
   "source": [
    "# Multi-layer Perceptron\n",
    "mlp = MLPClassifier()\n",
    "mlp.fit(X_train, y_train)\n",
    "y_pred = perceptron.predict(X_test)\n",
    "\n",
    "acc_mlp = round(mlp.score(X_train, y_train) * 100, 2)\n",
    "acc_mlp"
   ]
  },
  {
   "cell_type": "code",
   "execution_count": 54,
   "id": "b4a9574a",
   "metadata": {
    "execution": {
     "iopub.execute_input": "2022-11-28T02:25:21.082685Z",
     "iopub.status.busy": "2022-11-28T02:25:21.082256Z",
     "iopub.status.idle": "2022-11-28T02:25:21.150101Z",
     "shell.execute_reply": "2022-11-28T02:25:21.149360Z"
    },
    "papermill": {
     "duration": 0.109822,
     "end_time": "2022-11-28T02:25:21.152310",
     "exception": false,
     "start_time": "2022-11-28T02:25:21.042488",
     "status": "completed"
    },
    "tags": []
   },
   "outputs": [
    {
     "name": "stderr",
     "output_type": "stream",
     "text": [
      "/opt/conda/lib/python3.7/site-packages/sklearn/base.py:566: FutureWarning: Arrays of bytes/strings is being converted to decimal numbers if dtype='numeric'. This behavior is deprecated in 0.24 and will be removed in 1.1 (renaming of 0.26). Please convert your data to numeric values explicitly instead.\n",
      "  X = check_array(X, **check_params)\n",
      "/opt/conda/lib/python3.7/site-packages/sklearn/base.py:566: FutureWarning: Arrays of bytes/strings is being converted to decimal numbers if dtype='numeric'. This behavior is deprecated in 0.24 and will be removed in 1.1 (renaming of 0.26). Please convert your data to numeric values explicitly instead.\n",
      "  X = check_array(X, **check_params)\n"
     ]
    },
    {
     "data": {
      "text/plain": [
       "73.38"
      ]
     },
     "execution_count": 54,
     "metadata": {},
     "output_type": "execute_result"
    }
   ],
   "source": [
    "# Stochastic Gradient Descent\n",
    "\n",
    "sgd = SGDClassifier()\n",
    "sgd.fit(X_train, y_train)\n",
    "y_pred = sgd.predict(X_test)\n",
    "\n",
    "acc_sgd = round(sgd.score(X_train, y_train) * 100, 2)\n",
    "acc_sgd"
   ]
  },
  {
   "cell_type": "code",
   "execution_count": 55,
   "id": "d53f974a",
   "metadata": {
    "execution": {
     "iopub.execute_input": "2022-11-28T02:25:21.229550Z",
     "iopub.status.busy": "2022-11-28T02:25:21.229168Z",
     "iopub.status.idle": "2022-11-28T02:25:21.244310Z",
     "shell.execute_reply": "2022-11-28T02:25:21.243531Z"
    },
    "papermill": {
     "duration": 0.055854,
     "end_time": "2022-11-28T02:25:21.246434",
     "exception": false,
     "start_time": "2022-11-28T02:25:21.190580",
     "status": "completed"
    },
    "tags": []
   },
   "outputs": [
    {
     "data": {
      "text/html": [
       "<div>\n",
       "<style scoped>\n",
       "    .dataframe tbody tr th:only-of-type {\n",
       "        vertical-align: middle;\n",
       "    }\n",
       "\n",
       "    .dataframe tbody tr th {\n",
       "        vertical-align: top;\n",
       "    }\n",
       "\n",
       "    .dataframe thead th {\n",
       "        text-align: right;\n",
       "    }\n",
       "</style>\n",
       "<table border=\"1\" class=\"dataframe\">\n",
       "  <thead>\n",
       "    <tr style=\"text-align: right;\">\n",
       "      <th></th>\n",
       "      <th>Feature</th>\n",
       "      <th>Correlation</th>\n",
       "    </tr>\n",
       "  </thead>\n",
       "  <tbody>\n",
       "    <tr>\n",
       "      <th>1</th>\n",
       "      <td>Destination</td>\n",
       "      <td>2.120260</td>\n",
       "    </tr>\n",
       "    <tr>\n",
       "      <th>8</th>\n",
       "      <td>Side</td>\n",
       "      <td>0.597233</td>\n",
       "    </tr>\n",
       "    <tr>\n",
       "      <th>0</th>\n",
       "      <td>CryoSleep</td>\n",
       "      <td>0.153432</td>\n",
       "    </tr>\n",
       "    <tr>\n",
       "      <th>7</th>\n",
       "      <td>Num</td>\n",
       "      <td>0.000286</td>\n",
       "    </tr>\n",
       "    <tr>\n",
       "      <th>5</th>\n",
       "      <td>MoneySpent</td>\n",
       "      <td>-0.000085</td>\n",
       "    </tr>\n",
       "    <tr>\n",
       "      <th>4</th>\n",
       "      <td>Transported</td>\n",
       "      <td>-0.029699</td>\n",
       "    </tr>\n",
       "    <tr>\n",
       "      <th>3</th>\n",
       "      <td>VIP</td>\n",
       "      <td>-0.041709</td>\n",
       "    </tr>\n",
       "    <tr>\n",
       "      <th>2</th>\n",
       "      <td>Age</td>\n",
       "      <td>-0.147537</td>\n",
       "    </tr>\n",
       "    <tr>\n",
       "      <th>6</th>\n",
       "      <td>Deck</td>\n",
       "      <td>-0.257032</td>\n",
       "    </tr>\n",
       "  </tbody>\n",
       "</table>\n",
       "</div>"
      ],
      "text/plain": [
       "       Feature  Correlation\n",
       "1  Destination     2.120260\n",
       "8         Side     0.597233\n",
       "0    CryoSleep     0.153432\n",
       "7          Num     0.000286\n",
       "5   MoneySpent    -0.000085\n",
       "4  Transported    -0.029699\n",
       "3          VIP    -0.041709\n",
       "2          Age    -0.147537\n",
       "6         Deck    -0.257032"
      ]
     },
     "execution_count": 55,
     "metadata": {},
     "output_type": "execute_result"
    }
   ],
   "source": [
    "coeff_df = pd.DataFrame(train_df.columns.delete(0))\n",
    "coeff_df.columns = ['Feature']\n",
    "coeff_df[\"Correlation\"] = pd.Series(logreg.coef_[0])\n",
    "\n",
    "coeff_df.sort_values(by='Correlation', ascending=False)"
   ]
  },
  {
   "cell_type": "code",
   "execution_count": 56,
   "id": "aeb0c3da",
   "metadata": {
    "execution": {
     "iopub.execute_input": "2022-11-28T02:25:21.307816Z",
     "iopub.status.busy": "2022-11-28T02:25:21.307436Z",
     "iopub.status.idle": "2022-11-28T02:25:21.366766Z",
     "shell.execute_reply": "2022-11-28T02:25:21.365852Z"
    },
    "papermill": {
     "duration": 0.090939,
     "end_time": "2022-11-28T02:25:21.369106",
     "exception": false,
     "start_time": "2022-11-28T02:25:21.278167",
     "status": "completed"
    },
    "tags": []
   },
   "outputs": [
    {
     "data": {
      "text/plain": [
       "99.68"
      ]
     },
     "execution_count": 56,
     "metadata": {},
     "output_type": "execute_result"
    }
   ],
   "source": [
    "# Decision Tree\n",
    "decision_tree = DecisionTreeClassifier()\n",
    "decision_tree.fit(X_train, y_train)\n",
    "y_pred = decision_tree.predict(X_test)\n",
    "\n",
    "acc_decision_tree = round(decision_tree.score(X_train, y_train) * 100, 2)\n",
    "acc_decision_tree"
   ]
  },
  {
   "cell_type": "code",
   "execution_count": 57,
   "id": "d5343a96",
   "metadata": {
    "execution": {
     "iopub.execute_input": "2022-11-28T02:25:21.431184Z",
     "iopub.status.busy": "2022-11-28T02:25:21.430148Z",
     "iopub.status.idle": "2022-11-28T02:25:21.772572Z",
     "shell.execute_reply": "2022-11-28T02:25:21.771176Z"
    },
    "papermill": {
     "duration": 0.376068,
     "end_time": "2022-11-28T02:25:21.775122",
     "exception": false,
     "start_time": "2022-11-28T02:25:21.399054",
     "status": "completed"
    },
    "tags": []
   },
   "outputs": [
    {
     "name": "stderr",
     "output_type": "stream",
     "text": [
      "/opt/conda/lib/python3.7/site-packages/sklearn/utils/validation.py:976: FutureWarning: Arrays of bytes/strings is being converted to decimal numbers if dtype='numeric'. This behavior is deprecated in 0.24 and will be removed in 1.1 (renaming of 0.26). Please convert your data to numeric values explicitly instead.\n",
      "  estimator=estimator,\n",
      "/opt/conda/lib/python3.7/site-packages/sklearn/base.py:566: FutureWarning: Arrays of bytes/strings is being converted to decimal numbers if dtype='numeric'. This behavior is deprecated in 0.24 and will be removed in 1.1 (renaming of 0.26). Please convert your data to numeric values explicitly instead.\n",
      "  X = check_array(X, **check_params)\n",
      "/opt/conda/lib/python3.7/site-packages/sklearn/base.py:566: FutureWarning: Arrays of bytes/strings is being converted to decimal numbers if dtype='numeric'. This behavior is deprecated in 0.24 and will be removed in 1.1 (renaming of 0.26). Please convert your data to numeric values explicitly instead.\n",
      "  X = check_array(X, **check_params)\n"
     ]
    },
    {
     "data": {
      "text/plain": [
       "75.35"
      ]
     },
     "execution_count": 57,
     "metadata": {},
     "output_type": "execute_result"
    }
   ],
   "source": [
    "# K-Nearest Neighbor\n",
    "knn = KNeighborsClassifier(n_neighbors = 10)\n",
    "knn.fit(X_train, y_train)\n",
    "y_pred = knn.predict(X_test)\n",
    "\n",
    "acc_knn = round(knn.score(X_train, y_train) * 100, 2)\n",
    "acc_knn"
   ]
  },
  {
   "cell_type": "code",
   "execution_count": 58,
   "id": "c79d552c",
   "metadata": {
    "execution": {
     "iopub.execute_input": "2022-11-28T02:25:21.839246Z",
     "iopub.status.busy": "2022-11-28T02:25:21.838800Z",
     "iopub.status.idle": "2022-11-28T02:25:23.281232Z",
     "shell.execute_reply": "2022-11-28T02:25:23.280139Z"
    },
    "papermill": {
     "duration": 1.478212,
     "end_time": "2022-11-28T02:25:23.283181",
     "exception": false,
     "start_time": "2022-11-28T02:25:21.804969",
     "status": "completed"
    },
    "tags": []
   },
   "outputs": [
    {
     "data": {
      "text/plain": [
       "99.68"
      ]
     },
     "execution_count": 58,
     "metadata": {},
     "output_type": "execute_result"
    }
   ],
   "source": [
    "# Random Forest\n",
    "random_forest = RandomForestClassifier(n_estimators=100)\n",
    "random_forest.fit(X_train, y_train)\n",
    "y_pred = random_forest.predict(X_test)\n",
    "random_forest.score(X_train, y_train)\n",
    "\n",
    "acc_random_forest = round(random_forest.score(X_train, y_train) * 100, 2)\n",
    "acc_random_forest"
   ]
  },
  {
   "cell_type": "code",
   "execution_count": 59,
   "id": "069b8548",
   "metadata": {
    "execution": {
     "iopub.execute_input": "2022-11-28T02:25:23.343548Z",
     "iopub.status.busy": "2022-11-28T02:25:23.341955Z",
     "iopub.status.idle": "2022-11-28T02:25:28.803612Z",
     "shell.execute_reply": "2022-11-28T02:25:28.801679Z"
    },
    "papermill": {
     "duration": 5.493543,
     "end_time": "2022-11-28T02:25:28.805754",
     "exception": false,
     "start_time": "2022-11-28T02:25:23.312211",
     "status": "completed"
    },
    "tags": []
   },
   "outputs": [
    {
     "data": {
      "text/plain": [
       "73.52"
      ]
     },
     "execution_count": 59,
     "metadata": {},
     "output_type": "execute_result"
    }
   ],
   "source": [
    "# Support Vector Classifier\n",
    "svc = SVC()\n",
    "svc.fit(X_train, y_train)\n",
    "y_pred = svc.predict(X_test)\n",
    "\n",
    "acc_svc = round(svc.score(X_train, y_train) * 100, 2)\n",
    "acc_svc"
   ]
  },
  {
   "cell_type": "code",
   "execution_count": 61,
   "id": "bfee6998",
   "metadata": {
    "execution": {
     "iopub.execute_input": "2022-11-28T02:25:28.936631Z",
     "iopub.status.busy": "2022-11-28T02:25:28.936195Z",
     "iopub.status.idle": "2022-11-28T02:25:28.948416Z",
     "shell.execute_reply": "2022-11-28T02:25:28.947534Z"
    },
    "papermill": {
     "duration": 0.046434,
     "end_time": "2022-11-28T02:25:28.950304",
     "exception": false,
     "start_time": "2022-11-28T02:25:28.903870",
     "status": "completed"
    },
    "tags": []
   },
   "outputs": [
    {
     "data": {
      "text/html": [
       "<div>\n",
       "<style scoped>\n",
       "    .dataframe tbody tr th:only-of-type {\n",
       "        vertical-align: middle;\n",
       "    }\n",
       "\n",
       "    .dataframe tbody tr th {\n",
       "        vertical-align: top;\n",
       "    }\n",
       "\n",
       "    .dataframe thead th {\n",
       "        text-align: right;\n",
       "    }\n",
       "</style>\n",
       "<table border=\"1\" class=\"dataframe\">\n",
       "  <thead>\n",
       "    <tr style=\"text-align: right;\">\n",
       "      <th></th>\n",
       "      <th>Model</th>\n",
       "      <th>Score</th>\n",
       "    </tr>\n",
       "  </thead>\n",
       "  <tbody>\n",
       "    <tr>\n",
       "      <th>3</th>\n",
       "      <td>Random Forest</td>\n",
       "      <td>99.68</td>\n",
       "    </tr>\n",
       "    <tr>\n",
       "      <th>8</th>\n",
       "      <td>Decision Tree</td>\n",
       "      <td>99.68</td>\n",
       "    </tr>\n",
       "    <tr>\n",
       "      <th>1</th>\n",
       "      <td>KNN</td>\n",
       "      <td>75.35</td>\n",
       "    </tr>\n",
       "    <tr>\n",
       "      <th>0</th>\n",
       "      <td>Support Vector Machines</td>\n",
       "      <td>73.52</td>\n",
       "    </tr>\n",
       "    <tr>\n",
       "      <th>9</th>\n",
       "      <td>Multi-Layer Perceptron</td>\n",
       "      <td>73.43</td>\n",
       "    </tr>\n",
       "    <tr>\n",
       "      <th>6</th>\n",
       "      <td>Stochastic Gradient Decent</td>\n",
       "      <td>73.38</td>\n",
       "    </tr>\n",
       "    <tr>\n",
       "      <th>2</th>\n",
       "      <td>Logistic Regression</td>\n",
       "      <td>72.50</td>\n",
       "    </tr>\n",
       "    <tr>\n",
       "      <th>4</th>\n",
       "      <td>Naive Bayes</td>\n",
       "      <td>72.28</td>\n",
       "    </tr>\n",
       "    <tr>\n",
       "      <th>7</th>\n",
       "      <td>Linear SVC</td>\n",
       "      <td>60.54</td>\n",
       "    </tr>\n",
       "    <tr>\n",
       "      <th>5</th>\n",
       "      <td>Perceptron</td>\n",
       "      <td>51.10</td>\n",
       "    </tr>\n",
       "  </tbody>\n",
       "</table>\n",
       "</div>"
      ],
      "text/plain": [
       "                        Model  Score\n",
       "3               Random Forest  99.68\n",
       "8               Decision Tree  99.68\n",
       "1                         KNN  75.35\n",
       "0     Support Vector Machines  73.52\n",
       "9      Multi-Layer Perceptron  73.43\n",
       "6  Stochastic Gradient Decent  73.38\n",
       "2         Logistic Regression  72.50\n",
       "4                 Naive Bayes  72.28\n",
       "7                  Linear SVC  60.54\n",
       "5                  Perceptron  51.10"
      ]
     },
     "execution_count": 61,
     "metadata": {},
     "output_type": "execute_result"
    }
   ],
   "source": [
    "models = pd.DataFrame({\n",
    "    'Model': ['Support Vector Machines', 'KNN', 'Logistic Regression', \n",
    "              'Random Forest', 'Naive Bayes', 'Perceptron', \n",
    "              'Stochastic Gradient Decent', 'Linear SVC', \n",
    "              'Decision Tree', 'Multi-Layer Perceptron'],\n",
    "    'Score': [acc_svc, acc_knn, acc_log, \n",
    "              acc_random_forest, acc_gaussian, acc_perceptron, \n",
    "              acc_sgd, acc_linear_svc, acc_decision_tree, acc_mlp]})\n",
    "models.sort_values(by='Score', ascending=False)"
   ]
  },
  {
   "cell_type": "code",
   "execution_count": 62,
   "id": "2ad23f92",
   "metadata": {
    "execution": {
     "iopub.execute_input": "2022-11-28T02:25:29.013274Z",
     "iopub.status.busy": "2022-11-28T02:25:29.012507Z",
     "iopub.status.idle": "2022-11-28T02:25:29.026323Z",
     "shell.execute_reply": "2022-11-28T02:25:29.024984Z"
    },
    "papermill": {
     "duration": 0.047159,
     "end_time": "2022-11-28T02:25:29.028665",
     "exception": false,
     "start_time": "2022-11-28T02:25:28.981506",
     "status": "completed"
    },
    "tags": []
   },
   "outputs": [],
   "source": [
    "submission = pd.DataFrame({\n",
    "        \"PassengerId\": test_df[\"PassengerId\"],\n",
    "        \"Transported\": y_pred\n",
    "    })\n",
    "\n",
    "filename = 'submission.csv'\n",
    "submission.to_csv(f'/kaggle/working/{filename}', index=False)"
   ]
  },
  {
   "cell_type": "code",
   "execution_count": null,
   "id": "fef14a7e",
   "metadata": {
    "papermill": {
     "duration": 0.0293,
     "end_time": "2022-11-28T02:25:29.089082",
     "exception": false,
     "start_time": "2022-11-28T02:25:29.059782",
     "status": "completed"
    },
    "tags": []
   },
   "outputs": [],
   "source": []
  }
 ],
 "metadata": {
  "kernelspec": {
   "display_name": "Python 3",
   "language": "python",
   "name": "python3"
  },
  "language_info": {
   "codemirror_mode": {
    "name": "ipython",
    "version": 3
   },
   "file_extension": ".py",
   "mimetype": "text/x-python",
   "name": "python",
   "nbconvert_exporter": "python",
   "pygments_lexer": "ipython3",
   "version": "3.7.12"
  },
  "papermill": {
   "default_parameters": {},
   "duration": 33.178922,
   "end_time": "2022-11-28T02:25:30.141302",
   "environment_variables": {},
   "exception": null,
   "input_path": "__notebook__.ipynb",
   "output_path": "__notebook__.ipynb",
   "parameters": {},
   "start_time": "2022-11-28T02:24:56.962380",
   "version": "2.3.4"
  }
 },
 "nbformat": 4,
 "nbformat_minor": 5
}
